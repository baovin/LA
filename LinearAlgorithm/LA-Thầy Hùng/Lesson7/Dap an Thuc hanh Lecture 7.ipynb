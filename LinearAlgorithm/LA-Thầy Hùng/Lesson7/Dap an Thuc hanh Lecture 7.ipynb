{
 "cells": [
  {
   "cell_type": "code",
   "execution_count": 1,
   "metadata": {},
   "outputs": [],
   "source": [
    "import numpy as np"
   ]
  },
  {
   "cell_type": "code",
   "execution_count": 2,
   "metadata": {},
   "outputs": [],
   "source": [
    "from numpy.linalg import inv as inv\n",
    "from numpy.linalg import pinv as pinv\n",
    "from numpy.linalg import lstsq as lstsq"
   ]
  },
  {
   "cell_type": "markdown",
   "metadata": {},
   "source": [
    "## Thực hành 1\n",
    "Cho $A=\\begin{pmatrix}\n",
    "1&-3&-3\\\\ 1&5&1\\\\ 1&7&2\n",
    "\\end{pmatrix}, b=\\begin{pmatrix}\n",
    "5\\\\ -3\\\\ -5\n",
    "\\end{pmatrix}$\n",
    "\n",
    "a) Tính ma trận $A^{\\dagger}$.\n",
    "\n",
    "b) Tìm nghiệm xấp xỉ tốt nhất của hệ $Ax=b$."
   ]
  },
  {
   "cell_type": "code",
   "execution_count": 13,
   "metadata": {},
   "outputs": [
    {
     "name": "stdout",
     "output_type": "stream",
     "text": [
      "A:= [[ 1 -3 -3]\n",
      " [ 1  5  1]\n",
      " [ 1  7  2]]\n",
      "b:= [ 5 -3 -5]\n"
     ]
    }
   ],
   "source": [
    "A=np.array([[1,-3,-3],[1,5,1],[1,7,2]])\n",
    "b=np.array([5,-3,-5])\n",
    "print('A:=',A)\n",
    "print('b:=',b)"
   ]
  },
  {
   "cell_type": "code",
   "execution_count": 14,
   "metadata": {},
   "outputs": [
    {
     "data": {
      "text/plain": [
       "0.0"
      ]
     },
     "execution_count": 14,
     "metadata": {},
     "output_type": "execute_result"
    }
   ],
   "source": [
    "np.linalg.det(A)"
   ]
  },
  {
   "cell_type": "code",
   "execution_count": 15,
   "metadata": {},
   "outputs": [
    {
     "name": "stdout",
     "output_type": "stream",
     "text": [
      "Nghich dao suy rong cua A la: \n",
      " [[ 0.2109  0.0884  0.0578]\n",
      " [ 0.0408  0.0816  0.0918]\n",
      " [-0.2959 -0.0918 -0.0408]]\n"
     ]
    }
   ],
   "source": [
    "pA=pinv(A)\n",
    "print('Nghich dao suy rong cua A la: \\n',pA.round(4))"
   ]
  },
  {
   "cell_type": "markdown",
   "metadata": {},
   "source": [
    "$z=A^{\\dagger}b$"
   ]
  },
  {
   "cell_type": "code",
   "execution_count": 16,
   "metadata": {},
   "outputs": [
    {
     "name": "stdout",
     "output_type": "stream",
     "text": [
      "Nghiệm tốt nhất:  [ 0.5 -0.5 -1. ]\n"
     ]
    }
   ],
   "source": [
    "z=np.dot(pA,b)\n",
    "print(\"Nghiệm tốt nhất: \",z)"
   ]
  },
  {
   "cell_type": "code",
   "execution_count": 22,
   "metadata": {},
   "outputs": [
    {
     "name": "stderr",
     "output_type": "stream",
     "text": [
      "C:\\Users\\Admin\\AppData\\Local\\Temp\\ipykernel_15884\\3582444113.py:1: FutureWarning: `rcond` parameter will change to the default of machine precision times ``max(M, N)`` where M and N are the input matrix dimensions.\n",
      "To use the future default and silence this warning we advise to pass `rcond=None`, to keep using the old, explicitly pass `rcond=-1`.\n",
      "  lstsq(A,b)\n"
     ]
    },
    {
     "data": {
      "text/plain": [
       "(array([ 0.5, -0.5, -1. ]),\n",
       " array([], dtype=float64),\n",
       " 2,\n",
       " array([9.68124074e+00, 2.50471112e+00, 2.37375667e-16]))"
      ]
     },
     "execution_count": 22,
     "metadata": {},
     "output_type": "execute_result"
    }
   ],
   "source": [
    "lstsq(A,b)"
   ]
  },
  {
   "cell_type": "code",
   "execution_count": null,
   "metadata": {},
   "outputs": [],
   "source": []
  },
  {
   "cell_type": "markdown",
   "metadata": {},
   "source": [
    "## Thực hành 2\n",
    "Mô tả nghiệm \"tốt nhất\" của hệ $$\\begin{cases} -x+2y&=4\\\\ 2x-3y&=1 \\\\ -x+3y&=2 \\end{cases} $$"
   ]
  },
  {
   "cell_type": "code",
   "execution_count": 23,
   "metadata": {},
   "outputs": [
    {
     "name": "stdout",
     "output_type": "stream",
     "text": [
      "A:= [[-1  2]\n",
      " [ 2 -3]\n",
      " [-1  3]]\n",
      "b:= [4 1 2]\n",
      "z:= [3. 2.]\n"
     ]
    }
   ],
   "source": [
    "A=np.array([[-1,2],[2,-3],[-1,3]])\n",
    "b=np.array([4,1,2])\n",
    "print('A:=',A)\n",
    "print('b:=',b)\n",
    "z=np.dot(pinv(A),b)\n",
    "print('z:=',z)"
   ]
  },
  {
   "cell_type": "code",
   "execution_count": 24,
   "metadata": {},
   "outputs": [
    {
     "data": {
      "image/png": "[encoded data removed]",
      "text/plain": [
       "<Figure size 432x432 with 1 Axes>"
      ]
     },
     "metadata": {
      "needs_background": "light"
     },
     "output_type": "display_data"
    }
   ],
   "source": [
    "import matplotlib.pyplot as plt\n",
    "plt.figure(figsize=(6,6))\n",
    "x=np.linspace(-15,20,100)\n",
    "y1=(4+x)/2\n",
    "y2=(2*x-1)/3\n",
    "y3=(2+x)/3\n",
    "\n",
    "plt.plot(x,y1,c='blue')\n",
    "plt.plot(x,y2,c='pink')\n",
    "plt.plot(x,y3,c='green')\n",
    "plt.plot(z[0],z[1],c='red',marker='o')\n",
    "\n",
    "plt.show()"
   ]
  },
  {
   "cell_type": "code",
   "execution_count": 25,
   "metadata": {},
   "outputs": [
    {
     "name": "stderr",
     "output_type": "stream",
     "text": [
      "C:\\Users\\Admin\\AppData\\Local\\Temp\\ipykernel_15884\\3582444113.py:1: FutureWarning: `rcond` parameter will change to the default of machine precision times ``max(M, N)`` where M and N are the input matrix dimensions.\n",
      "To use the future default and silence this warning we advise to pass `rcond=None`, to keep using the old, explicitly pass `rcond=-1`.\n",
      "  lstsq(A,b)\n"
     ]
    },
    {
     "data": {
      "text/plain": [
       "(array([3., 2.]), array([11.]), 2, array([5.25371017, 0.63129192]))"
      ]
     },
     "execution_count": 25,
     "metadata": {},
     "output_type": "execute_result"
    }
   ],
   "source": [
    "lstsq(A,b)"
   ]
  },
  {
   "cell_type": "markdown",
   "metadata": {},
   "source": [
    "## Thực hành 3 \n",
    "Mô tả nghiệm \"tốt nhất\" của hệ $$\\begin{cases} x+y&=1\\\\ x+y&=2  \\end{cases} $$"
   ]
  },
  {
   "cell_type": "code",
   "execution_count": 26,
   "metadata": {},
   "outputs": [
    {
     "name": "stdout",
     "output_type": "stream",
     "text": [
      "A:= [[1 1]\n",
      " [1 1]]\n",
      "b:= [1 2]\n",
      "z:= [0.75 0.75]\n"
     ]
    }
   ],
   "source": [
    "A=np.array([[1,1],[1,1]])\n",
    "b=np.array([1,2])\n",
    "print('A:=',A)\n",
    "print('b:=',b)\n",
    "z=np.dot(pinv(A),b)\n",
    "print('z:=',z)"
   ]
  },
  {
   "cell_type": "code",
   "execution_count": 28,
   "metadata": {},
   "outputs": [
    {
     "name": "stderr",
     "output_type": "stream",
     "text": [
      "C:\\Users\\Admin\\AppData\\Local\\Temp\\ipykernel_15884\\3582444113.py:1: FutureWarning: `rcond` parameter will change to the default of machine precision times ``max(M, N)`` where M and N are the input matrix dimensions.\n",
      "To use the future default and silence this warning we advise to pass `rcond=None`, to keep using the old, explicitly pass `rcond=-1`.\n",
      "  lstsq(A,b)\n"
     ]
    },
    {
     "data": {
      "text/plain": [
       "(array([0.75, 0.75]), array([], dtype=float64), 1, array([2., 0.]))"
      ]
     },
     "execution_count": 28,
     "metadata": {},
     "output_type": "execute_result"
    }
   ],
   "source": [
    "lstsq(A,b)"
   ]
  },
  {
   "cell_type": "code",
   "execution_count": 27,
   "metadata": {},
   "outputs": [
    {
     "data": {
      "image/png": "[encoded data removed]",
      "text/plain": [
       "<Figure size 432x432 with 1 Axes>"
      ]
     },
     "metadata": {
      "needs_background": "light"
     },
     "output_type": "display_data"
    }
   ],
   "source": [
    "import matplotlib.pyplot as plt\n",
    "plt.figure(figsize=(6,6))\n",
    "x=np.linspace(0,2,100)\n",
    "y1=(1-x)\n",
    "y2=2-x\n",
    "\n",
    "\n",
    "plt.plot(x,y1,c='blue')\n",
    "plt.plot(x,y2,c='pink')\n",
    "plt.plot(z[0],z[1],c='red',marker='o')\n",
    "\n",
    "plt.xlim(0,2)\n",
    "plt.ylim(0,2)\n",
    "plt.show()"
   ]
  },
  {
   "cell_type": "code",
   "execution_count": null,
   "metadata": {},
   "outputs": [],
   "source": []
  }
 ],
 "metadata": {
  "kernelspec": {
   "display_name": "Python 3 (ipykernel)",
   "language": "python",
   "name": "python3"
  },
  "language_info": {
   "codemirror_mode": {
    "name": "ipython",
    "version": 3
   },
   "file_extension": ".py",
   "mimetype": "text/x-python",
   "name": "python",
   "nbconvert_exporter": "python",
   "pygments_lexer": "ipython3",
   "version": "3.8.12"
  }
 },
 "nbformat": 4,
 "nbformat_minor": 4
}
