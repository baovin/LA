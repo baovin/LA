{
 "cells": [
  {
   "cell_type": "code",
   "execution_count": 2,
   "metadata": {},
   "outputs": [],
   "source": [
    "import numpy as np\n",
    "import pandas as pd\n",
    "from numpy import linalg as LA"
   ]
  },
  {
   "cell_type": "markdown",
   "metadata": {},
   "source": [
    "## Thực hành 1 Thuật toán Lee-Seung\n",
    "Cho ma trận không âm $X$. \n",
    "\n",
    "Thực hiện thuật toán Lee-Seung với $k=3$ tìm $W$, $H$ để $X\\approx WH$.\n"
   ]
  },
  {
   "cell_type": "code",
   "execution_count": 7,
   "metadata": {},
   "outputs": [],
   "source": [
    "data=pd.read_csv(\"topicmodeling.csv\")"
   ]
  },
  {
   "cell_type": "code",
   "execution_count": 9,
   "metadata": {},
   "outputs": [
    {
     "data": {
      "text/html": [
       "<div>\n",
       "<style scoped>\n",
       "    .dataframe tbody tr th:only-of-type {\n",
       "        vertical-align: middle;\n",
       "    }\n",
       "\n",
       "    .dataframe tbody tr th {\n",
       "        vertical-align: top;\n",
       "    }\n",
       "\n",
       "    .dataframe thead th {\n",
       "        text-align: right;\n",
       "    }\n",
       "</style>\n",
       "<table border=\"1\" class=\"dataframe\">\n",
       "  <thead>\n",
       "    <tr style=\"text-align: right;\">\n",
       "      <th></th>\n",
       "      <th>singer</th>\n",
       "      <th>GDP</th>\n",
       "      <th>senate</th>\n",
       "      <th>election</th>\n",
       "      <th>vote</th>\n",
       "      <th>stock</th>\n",
       "      <th>bass</th>\n",
       "      <th>market</th>\n",
       "      <th>band</th>\n",
       "    </tr>\n",
       "  </thead>\n",
       "  <tbody>\n",
       "    <tr>\n",
       "      <th>0</th>\n",
       "      <td>6</td>\n",
       "      <td>1</td>\n",
       "      <td>1</td>\n",
       "      <td>0</td>\n",
       "      <td>0</td>\n",
       "      <td>1</td>\n",
       "      <td>9</td>\n",
       "      <td>0</td>\n",
       "      <td>8</td>\n",
       "    </tr>\n",
       "    <tr>\n",
       "      <th>1</th>\n",
       "      <td>1</td>\n",
       "      <td>0</td>\n",
       "      <td>9</td>\n",
       "      <td>5</td>\n",
       "      <td>8</td>\n",
       "      <td>1</td>\n",
       "      <td>0</td>\n",
       "      <td>1</td>\n",
       "      <td>0</td>\n",
       "    </tr>\n",
       "    <tr>\n",
       "      <th>2</th>\n",
       "      <td>8</td>\n",
       "      <td>1</td>\n",
       "      <td>0</td>\n",
       "      <td>1</td>\n",
       "      <td>0</td>\n",
       "      <td>0</td>\n",
       "      <td>9</td>\n",
       "      <td>1</td>\n",
       "      <td>7</td>\n",
       "    </tr>\n",
       "    <tr>\n",
       "      <th>3</th>\n",
       "      <td>0</td>\n",
       "      <td>7</td>\n",
       "      <td>1</td>\n",
       "      <td>0</td>\n",
       "      <td>0</td>\n",
       "      <td>9</td>\n",
       "      <td>1</td>\n",
       "      <td>7</td>\n",
       "      <td>0</td>\n",
       "    </tr>\n",
       "    <tr>\n",
       "      <th>4</th>\n",
       "      <td>0</td>\n",
       "      <td>5</td>\n",
       "      <td>6</td>\n",
       "      <td>7</td>\n",
       "      <td>5</td>\n",
       "      <td>6</td>\n",
       "      <td>0</td>\n",
       "      <td>7</td>\n",
       "      <td>2</td>\n",
       "    </tr>\n",
       "    <tr>\n",
       "      <th>5</th>\n",
       "      <td>1</td>\n",
       "      <td>0</td>\n",
       "      <td>8</td>\n",
       "      <td>5</td>\n",
       "      <td>9</td>\n",
       "      <td>2</td>\n",
       "      <td>0</td>\n",
       "      <td>0</td>\n",
       "      <td>1</td>\n",
       "    </tr>\n",
       "  </tbody>\n",
       "</table>\n",
       "</div>"
      ],
      "text/plain": [
       "   singer  GDP  senate  election  vote  stock  bass  market  band\n",
       "0       6    1       1         0     0      1     9       0     8\n",
       "1       1    0       9         5     8      1     0       1     0\n",
       "2       8    1       0         1     0      0     9       1     7\n",
       "3       0    7       1         0     0      9     1       7     0\n",
       "4       0    5       6         7     5      6     0       7     2\n",
       "5       1    0       8         5     9      2     0       0     1"
      ]
     },
     "execution_count": 9,
     "metadata": {},
     "output_type": "execute_result"
    }
   ],
   "source": [
    "data"
   ]
  },
  {
   "cell_type": "code",
   "execution_count": 10,
   "metadata": {},
   "outputs": [
    {
     "data": {
      "text/plain": [
       "(6, 9)"
      ]
     },
     "execution_count": 10,
     "metadata": {},
     "output_type": "execute_result"
    }
   ],
   "source": [
    "data.shape"
   ]
  },
  {
   "cell_type": "code",
   "execution_count": 11,
   "metadata": {},
   "outputs": [],
   "source": [
    "X=data.values"
   ]
  },
  {
   "cell_type": "code",
   "execution_count": 12,
   "metadata": {},
   "outputs": [],
   "source": [
    "Xt=np.transpose(X)"
   ]
  },
  {
   "cell_type": "markdown",
   "metadata": {},
   "source": [
    "# Khai trien SVD"
   ]
  },
  {
   "cell_type": "code",
   "execution_count": 6,
   "metadata": {},
   "outputs": [],
   "source": [
    "XXt=np.dot(X,Xt)"
   ]
  },
  {
   "cell_type": "code",
   "execution_count": 7,
   "metadata": {},
   "outputs": [],
   "source": [
    "XtX=np.dot(Xt,X)"
   ]
  },
  {
   "cell_type": "code",
   "execution_count": 8,
   "metadata": {},
   "outputs": [],
   "source": [
    "S,U=np.linalg.eigh(XXt)"
   ]
  },
  {
   "cell_type": "code",
   "execution_count": 9,
   "metadata": {},
   "outputs": [
    {
     "data": {
      "text/plain": [
       "array([  1.86230894,   4.10586676,  13.17603369, 202.53710898,\n",
       "       354.36496614, 558.95371549])"
      ]
     },
     "execution_count": 9,
     "metadata": {},
     "output_type": "execute_result"
    }
   ],
   "source": [
    "S"
   ]
  },
  {
   "cell_type": "code",
   "execution_count": 19,
   "metadata": {},
   "outputs": [
    {
     "data": {
      "text/plain": [
       "array([-0.2439383 , -0.46526843, -0.24282838, -0.31695293, -0.58262128,\n",
       "       -0.47449665])"
      ]
     },
     "execution_count": 19,
     "metadata": {},
     "output_type": "execute_result"
    }
   ],
   "source": [
    "U[:,-1]"
   ]
  },
  {
   "cell_type": "code",
   "execution_count": 17,
   "metadata": {},
   "outputs": [],
   "source": [
    "S,V=np.linalg.eigh(XtX)"
   ]
  },
  {
   "cell_type": "code",
   "execution_count": 18,
   "metadata": {},
   "outputs": [
    {
     "data": {
      "text/plain": [
       "array([-7.06544468e-15, -1.89121261e-15,  3.50468984e-14,  1.86230894e+00,\n",
       "        4.10586676e+00,  1.31760337e+01,  2.02537109e+02,  3.54364966e+02,\n",
       "        5.58953715e+02])"
      ]
     },
     "execution_count": 18,
     "metadata": {},
     "output_type": "execute_result"
    }
   ],
   "source": [
    "S"
   ]
  },
  {
   "cell_type": "code",
   "execution_count": 20,
   "metadata": {},
   "outputs": [
    {
     "data": {
      "text/plain": [
       "array([-0.18382475, -0.23764891, -0.50925916, -0.38152126, -0.46128206,\n",
       "       -0.33865306, -0.19870624, -0.29629711, -0.22379659])"
      ]
     },
     "execution_count": 20,
     "metadata": {},
     "output_type": "execute_result"
    }
   ],
   "source": [
    "V[:,-1]"
   ]
  },
  {
   "cell_type": "code",
   "execution_count": 21,
   "metadata": {},
   "outputs": [],
   "source": [
    "U,S,V=np.linalg.svd(X)"
   ]
  },
  {
   "cell_type": "code",
   "execution_count": 22,
   "metadata": {},
   "outputs": [
    {
     "data": {
      "text/plain": [
       "(6, 6)"
      ]
     },
     "execution_count": 22,
     "metadata": {},
     "output_type": "execute_result"
    }
   ],
   "source": [
    "U.shape"
   ]
  },
  {
   "cell_type": "code",
   "execution_count": 23,
   "metadata": {},
   "outputs": [
    {
     "data": {
      "text/plain": [
       "array([23.642202  , 18.82458409, 14.23155329,  3.62988067,  2.02629385,\n",
       "        1.3646644 ])"
      ]
     },
     "execution_count": 23,
     "metadata": {},
     "output_type": "execute_result"
    }
   ],
   "source": [
    "S"
   ]
  },
  {
   "cell_type": "code",
   "execution_count": 24,
   "metadata": {},
   "outputs": [
    {
     "data": {
      "text/plain": [
       "array([[-0.18382475, -0.23764891, -0.50925916, -0.38152126, -0.46128206,\n",
       "        -0.33865306, -0.19870624, -0.29629711, -0.22379659],\n",
       "       [ 0.46812431,  0.012264  , -0.22468896, -0.14828941, -0.24669275,\n",
       "        -0.07055157,  0.62869331, -0.05338785,  0.49426104],\n",
       "       [-0.13259131,  0.46797765, -0.30354013, -0.14442013, -0.37283256,\n",
       "         0.51849628, -0.04443082,  0.48542691, -0.07047543],\n",
       "       [-0.05724682, -0.03721719, -0.21805897,  0.70455642, -0.26126021,\n",
       "        -0.41873255, -0.16663567,  0.35792771,  0.22784792],\n",
       "       [ 0.65019475,  0.03176101, -0.01964265, -0.01724685,  0.03372222,\n",
       "        -0.23146601,  0.02931888,  0.31092311, -0.65062144],\n",
       "       [ 0.25041509,  0.00379506, -0.67910488,  0.20855589,  0.48716224,\n",
       "         0.28574645, -0.22743407, -0.24045481,  0.06384377],\n",
       "       [-0.46269538,  0.03756733, -0.2490279 ,  0.21208289,  0.21525207,\n",
       "        -0.07608221,  0.68761287, -0.00240234, -0.3906001 ],\n",
       "       [-0.08535656, -0.7429813 , -0.10677232, -0.22676324,  0.18393173,\n",
       "         0.15467909,  0.03759483,  0.55399068,  0.10860755],\n",
       "       [-0.13920042,  0.41052248, -0.12449562, -0.41833136,  0.44774095,\n",
       "        -0.52078745, -0.09331837,  0.29017767,  0.23872855]])"
      ]
     },
     "execution_count": 24,
     "metadata": {},
     "output_type": "execute_result"
    }
   ],
   "source": [
    "V"
   ]
  },
  {
   "cell_type": "code",
   "execution_count": 28,
   "metadata": {},
   "outputs": [],
   "source": [
    "D=np.diag(S)"
   ]
  },
  {
   "cell_type": "code",
   "execution_count": 33,
   "metadata": {},
   "outputs": [
    {
     "data": {
      "text/plain": [
       "(9, 9)"
      ]
     },
     "execution_count": 33,
     "metadata": {},
     "output_type": "execute_result"
    }
   ],
   "source": [
    "V.shape"
   ]
  },
  {
   "cell_type": "code",
   "execution_count": 30,
   "metadata": {},
   "outputs": [
    {
     "data": {
      "text/plain": [
       "(6, 6)"
      ]
     },
     "execution_count": 30,
     "metadata": {},
     "output_type": "execute_result"
    }
   ],
   "source": [
    "D.shape"
   ]
  },
  {
   "cell_type": "code",
   "execution_count": 38,
   "metadata": {},
   "outputs": [
    {
     "data": {
      "text/plain": [
       "array([[ 6.00000000e+00,  1.00000000e+00,  1.00000000e+00,\n",
       "         1.70696790e-15,  2.10942375e-15,  1.00000000e+00,\n",
       "         9.00000000e+00,  2.83106871e-15,  8.00000000e+00],\n",
       "       [ 1.00000000e+00,  7.89732862e-16,  9.00000000e+00,\n",
       "         5.00000000e+00,  8.00000000e+00,  1.00000000e+00,\n",
       "        -2.24820162e-15,  1.00000000e+00, -2.76167977e-15],\n",
       "       [ 8.00000000e+00,  1.00000000e+00,  6.82787160e-15,\n",
       "         1.00000000e+00,  3.96904731e-15,  1.23512311e-15,\n",
       "         9.00000000e+00,  1.00000000e+00,  7.00000000e+00],\n",
       "       [-9.38485401e-16,  7.00000000e+00,  1.00000000e+00,\n",
       "        -2.78293014e-15, -2.01227923e-15,  9.00000000e+00,\n",
       "         1.00000000e+00,  7.00000000e+00, -3.47812057e-16],\n",
       "       [ 1.22861790e-15,  5.00000000e+00,  6.00000000e+00,\n",
       "         7.00000000e+00,  5.00000000e+00,  6.00000000e+00,\n",
       "        -1.25477428e-15,  7.00000000e+00,  2.00000000e+00],\n",
       "       [ 1.00000000e+00, -4.22838847e-16,  8.00000000e+00,\n",
       "         5.00000000e+00,  9.00000000e+00,  2.00000000e+00,\n",
       "        -4.16333634e-16, -8.32667268e-16,  1.00000000e+00]])"
      ]
     },
     "execution_count": 38,
     "metadata": {},
     "output_type": "execute_result"
    }
   ],
   "source": [
    "np.dot(U,np.dot(D,V[:6]))"
   ]
  },
  {
   "cell_type": "code",
   "execution_count": 46,
   "metadata": {},
   "outputs": [],
   "source": [
    "U2=U[:,:2]\n",
    "D2=np.diag(S[:2])\n",
    "V2=V[:2]"
   ]
  },
  {
   "cell_type": "code",
   "execution_count": 50,
   "metadata": {},
   "outputs": [
    {
     "data": {
      "text/plain": [
       "array([[ 6.74229965,  1.51943954,  0.20972256,  0.40037283, -0.33405694,\n",
       "         1.09673117,  8.77712695,  1.06078924,  7.29007692],\n",
       "       [-0.03440554,  2.56025512,  6.58889518,  4.84815852,  6.15781126,\n",
       "         4.03510689, -0.57609003,  3.49379247,  0.29046475],\n",
       "       [ 6.98818029,  1.5197714 ,  0.07602676,  0.31094484, -0.47827792,\n",
       "         1.05006064,  9.10860995,  1.02442222,  7.54890621],\n",
       "       [ 1.13460896,  1.77445093,  3.93269036,  2.93585274,  3.58459179,\n",
       "         2.57428891,  1.16281538,  2.24799112,  1.42057613],\n",
       "       [ 0.95600128,  3.23219253,  7.77124883,  5.7545071 ,  7.18447315,\n",
       "         4.90229301,  0.62038095,  4.26107627,  1.41859413],\n",
       "       [ 0.21874084,  2.61768554,  6.59774853,  4.86391154,  6.1461834 ,\n",
       "         4.0768851 , -0.24662295,  3.53414075,  0.56422667]])"
      ]
     },
     "execution_count": 50,
     "metadata": {},
     "output_type": "execute_result"
    }
   ],
   "source": [
    "np.dot(U2,np.dot(D2,V2))"
   ]
  },
  {
   "cell_type": "code",
   "execution_count": 47,
   "metadata": {},
   "outputs": [
    {
     "data": {
      "text/plain": [
       "(6, 2)"
      ]
     },
     "execution_count": 47,
     "metadata": {},
     "output_type": "execute_result"
    }
   ],
   "source": [
    "U2.shape"
   ]
  },
  {
   "cell_type": "code",
   "execution_count": 48,
   "metadata": {},
   "outputs": [
    {
     "data": {
      "text/plain": [
       "(2, 9)"
      ]
     },
     "execution_count": 48,
     "metadata": {},
     "output_type": "execute_result"
    }
   ],
   "source": [
    "V2.shape"
   ]
  },
  {
   "cell_type": "code",
   "execution_count": 49,
   "metadata": {},
   "outputs": [
    {
     "data": {
      "text/plain": [
       "(2, 2)"
      ]
     },
     "execution_count": 49,
     "metadata": {},
     "output_type": "execute_result"
    }
   ],
   "source": [
    "D2.shape"
   ]
  },
  {
   "cell_type": "markdown",
   "metadata": {},
   "source": [
    "# Lee and Seung Algortihm"
   ]
  },
  {
   "cell_type": "code",
   "execution_count": 138,
   "metadata": {},
   "outputs": [],
   "source": [
    "import numpy as np\n",
    "def seung_objective(X, W, H):\n",
    "    ''' calculated the non-negative matrix factorization objective ||X-WH||\n",
    "        \n",
    "    Usage:\n",
    "        W, H = seung_update(X, W, H)\n",
    "    Parameters:\n",
    "        V: a (d x n)-array containing n observations in the columns\n",
    "        W: (d x k)-array of non-negative basis images (components)\n",
    "        H: (k x n)-array of weights, one column for each of the n observations\n",
    "    Returns:\n",
    "        F: a scalar objective\n",
    "    '''    \n",
    "    d, n = X.shape\n",
    "    WH = np.dot(W, H)\n",
    "\n",
    "    F = (X - WH).sum() / (d * n)\n",
    "    return F\n",
    "def seung_updateW(V, W, H):\n",
    "    ''' performs the multiplicative non-negative matrix factorization updates for W\n",
    "        \n",
    "    Usage:\n",
    "        W, H = seung_update(V, W, H)\n",
    "    Parameters:\n",
    "        V: a (d x n)-array containing n observations in the columns\n",
    "        W: (d x k)-array of non-negative basis images (components)\n",
    "        H: (k x n)-array of weights, one column for each of the n observations\n",
    "    Returns:\n",
    "        W: (d x k)-array of updated non-negative basis images (components)\n",
    "    '''\n",
    "    \n",
    "    WH = np.dot(W, H)\n",
    "    W_new = W * np.dot(V / WH, H.T)\n",
    "    W_new = W_new / np.sum(W_new, axis=0, keepdims=True)    \n",
    "    return W_new\n",
    "\n",
    "def seung_updateH(V, W, H):\n",
    "    ''' performs the multiplicative non-negative matrix factorization updates\n",
    "        \n",
    "    Usage:\n",
    "        W, H = seung_update(V, W, H)\n",
    "    Parameters:\n",
    "        V: a (d x n)-array containing n observations in the columns\n",
    "        W: (d x k)-array of non-negative basis images (components)\n",
    "        H: (k x n)-array of weights, one column for each of the n observations\n",
    "    Returns:\n",
    "        H: (k x n)-array of updated weights, one column for each of the n observations\n",
    "    '''\n",
    "    \n",
    "    WH = np.dot(W, H)\n",
    "    H_new = H * np.dot((V / WH).T, W).T\n",
    "    return H_new\n",
    "\n",
    "\n",
    "def seung_nmf(V, k, threshold=1e-5, maxiter=500):\n",
    "    ''' decomposes X into r components by non-negative matrix factorization\n",
    "        \n",
    "    Usage:\n",
    "        W, H = seung_nmf(X, r)\n",
    "    Parameters:\n",
    "        V: a (d x n)-array containing n observations in the columns\n",
    "        k: number of components to extract\n",
    "        threshold: relative error threshold of the iteration\n",
    "        maxiter: maximum number of iterations\n",
    "    Returns:\n",
    "        W: (d x k)-array of non-negative basis images (components)\n",
    "        H: (k x n)-array of weights, one column for each of the n observations\n",
    "    '''\n",
    "    \n",
    "    d, n = V.shape\n",
    "    W = np.random.rand(d, k)\n",
    "    H = np.random.rand(k, n)\n",
    "    F = seung_objective(V, W, H)\n",
    "    \n",
    "    it_no = 0\n",
    "    converged = False\n",
    "\n",
    "    while (not converged) and it_no <= maxiter:\n",
    "        W_new = seung_updateW(V, W, H)\n",
    "        H_new = seung_updateH(V, W_new, H)    \n",
    "        F_new = seung_objective(V, W_new, H_new)\n",
    "\n",
    "        converged = np.abs(F_new - F) <= threshold \n",
    "        W, H = W_new, H_new\n",
    "        it_no = it_no + 1\n",
    "    \n",
    "    return W, H"
   ]
  },
  {
   "cell_type": "code",
   "execution_count": 161,
   "metadata": {},
   "outputs": [],
   "source": [
    "W,H=seung_nmf(X,k=3)"
   ]
  },
  {
   "cell_type": "code",
   "execution_count": 162,
   "metadata": {},
   "outputs": [
    {
     "data": {
      "text/plain": [
       "array([[3.583e-042, 3.481e-002, 4.756e-001],\n",
       "       [3.472e-001, 4.128e-034, 1.894e-167],\n",
       "       [4.481e-129, 1.533e-014, 5.244e-001],\n",
       "       [5.949e-194, 5.747e-001, 3.470e-095],\n",
       "       [2.918e-001, 3.905e-001, 2.032e-060],\n",
       "       [3.610e-001, 1.118e-147, 1.290e-083]])"
      ]
     },
     "execution_count": 162,
     "metadata": {},
     "output_type": "execute_result"
    }
   ],
   "source": [
    "W"
   ]
  },
  {
   "cell_type": "code",
   "execution_count": 163,
   "metadata": {},
   "outputs": [
    {
     "data": {
      "text/plain": [
       "array([[2.000e+000, 1.491e-258, 2.246e+001, 1.700e+001, 2.200e+001,\n",
       "        3.996e+000, 0.000e+000, 1.558e+000, 3.000e+000],\n",
       "       [0.000e+000, 1.235e+001, 1.662e+000, 3.508e-126, 1.458e-256,\n",
       "        1.500e+001, 1.038e+000, 1.344e+001, 4.553e-016],\n",
       "       [1.400e+001, 1.645e+000, 8.783e-001, 1.000e+000, 0.000e+000,\n",
       "        6.423e-020, 1.796e+001, 1.000e+000, 1.500e+001]])"
      ]
     },
     "execution_count": 163,
     "metadata": {},
     "output_type": "execute_result"
    }
   ],
   "source": [
    "H"
   ]
  },
  {
   "cell_type": "code",
   "execution_count": null,
   "metadata": {},
   "outputs": [],
   "source": []
  },
  {
   "cell_type": "code",
   "execution_count": null,
   "metadata": {},
   "outputs": [],
   "source": []
  },
  {
   "cell_type": "code",
   "execution_count": 165,
   "metadata": {},
   "outputs": [
    {
     "name": "stdout",
     "output_type": "stream",
     "text": [
      "[[0.    0.035 0.476]\n",
      " [0.347 0.    0.   ]\n",
      " [0.    0.    0.524]\n",
      " [0.    0.575 0.   ]\n",
      " [0.292 0.39  0.   ]\n",
      " [0.361 0.    0.   ]]\n"
     ]
    }
   ],
   "source": [
    "print( np.array_str(W, precision=3, suppress_small=True) )"
   ]
  },
  {
   "cell_type": "code",
   "execution_count": 166,
   "metadata": {},
   "outputs": [
    {
     "name": "stdout",
     "output_type": "stream",
     "text": [
      "[[ 2.     0.    22.459 17.    22.     3.996  0.     1.558  3.   ]\n",
      " [ 0.    12.355  1.662  0.     0.    15.004  1.038 13.442  0.   ]\n",
      " [14.     1.645  0.878  1.     0.     0.    17.962  1.    15.   ]]\n"
     ]
    }
   ],
   "source": [
    "print( np.array_str(H, precision=3, suppress_small=True) )"
   ]
  },
  {
   "cell_type": "code",
   "execution_count": 167,
   "metadata": {},
   "outputs": [
    {
     "data": {
      "text/plain": [
       "5.012950878753692"
      ]
     },
     "execution_count": 167,
     "metadata": {},
     "output_type": "execute_result"
    }
   ],
   "source": [
    "LA.norm(X-W.dot(H))"
   ]
  },
  {
   "cell_type": "code",
   "execution_count": 169,
   "metadata": {},
   "outputs": [
    {
     "name": "stdout",
     "output_type": "stream",
     "text": [
      "[2 1 0 0 0 1 2 1 2]\n"
     ]
    }
   ],
   "source": [
    "print(np.argmax(H[:,:],axis=0))"
   ]
  },
  {
   "cell_type": "code",
   "execution_count": 128,
   "metadata": {},
   "outputs": [
    {
     "data": {
      "text/plain": [
       "array([ 0.   ,  1.279,  2.314, 12.776, 13.38 , 14.   , 14.   , 16.76 ,\n",
       "       19.   ])"
      ]
     },
     "execution_count": 128,
     "metadata": {},
     "output_type": "execute_result"
    }
   ],
   "source": [
    "H[0,:]"
   ]
  },
  {
   "cell_type": "code",
   "execution_count": null,
   "metadata": {},
   "outputs": [],
   "source": []
  },
  {
   "cell_type": "code",
   "execution_count": 148,
   "metadata": {},
   "outputs": [],
   "source": [
    "a=np.array([\n",
    "[0.278, 0.   ],\n",
    "[0.    ,0.34 ],\n",
    "[0.289 ,0.   ],\n",
    "[0.267 ,0.   ],\n",
    "[0.166 ,0.306],\n",
    "[0.    ,0.354],\n",
    "])"
   ]
  },
  {
   "cell_type": "code",
   "execution_count": 149,
   "metadata": {},
   "outputs": [],
   "source": [
    "b=np.array([\n",
    "[14.    ,14.   ,  2.314 , 1.279 , 0.   , 13.38 , 19.    ,12.776 ,16.76],\n",
    "[2.    , 0.    ,22.686 ,16.721, 22.   , 5.62  , 0.   ,  3.224  ,1.24  ] \n",
    "])"
   ]
  },
  {
   "cell_type": "code",
   "execution_count": 150,
   "metadata": {},
   "outputs": [],
   "source": [
    "WH=a.dot(b)"
   ]
  },
  {
   "cell_type": "code",
   "execution_count": 151,
   "metadata": {},
   "outputs": [
    {
     "name": "stdout",
     "output_type": "stream",
     "text": [
      "[[3.892 3.892 0.643 0.356 0.    3.72  5.282 3.552 4.659]\n",
      " [0.68  0.    7.713 5.685 7.48  1.911 0.    1.096 0.422]\n",
      " [4.046 4.046 0.669 0.37  0.    3.867 5.491 3.692 4.844]\n",
      " [3.738 3.738 0.618 0.341 0.    3.572 5.073 3.411 4.475]\n",
      " [2.936 2.324 7.326 5.329 6.732 3.941 3.154 3.107 3.162]\n",
      " [0.708 0.    8.031 5.919 7.788 1.989 0.    1.141 0.439]]\n"
     ]
    }
   ],
   "source": [
    "print( np.array_str(WH, precision=3, suppress_small=True) )"
   ]
  },
  {
   "cell_type": "code",
   "execution_count": null,
   "metadata": {},
   "outputs": [],
   "source": []
  },
  {
   "cell_type": "code",
   "execution_count": null,
   "metadata": {},
   "outputs": [],
   "source": []
  },
  {
   "cell_type": "code",
   "execution_count": null,
   "metadata": {},
   "outputs": [],
   "source": []
  },
  {
   "cell_type": "code",
   "execution_count": 113,
   "metadata": {},
   "outputs": [],
   "source": [
    "np.set_printoptions(precision=3)"
   ]
  },
  {
   "cell_type": "markdown",
   "metadata": {},
   "source": [
    "## Thực hành 2 ALS Algorithm\n",
    "\n",
    "Cho ma trận không âm $X$. \n",
    "\n",
    "Thực hiện thuật toán ALS với $k=3$ tìm $W$, $H$ để $X\\approx WH$."
   ]
  },
  {
   "cell_type": "code",
   "execution_count": 13,
   "metadata": {},
   "outputs": [],
   "source": [
    "data=pd.read_csv(\"topicmodeling.csv\")"
   ]
  },
  {
   "cell_type": "code",
   "execution_count": 14,
   "metadata": {},
   "outputs": [
    {
     "name": "stdout",
     "output_type": "stream",
     "text": [
      "[[6 1 1 0 0 1 9 0 8]\n",
      " [1 0 9 5 8 1 0 1 0]\n",
      " [8 1 0 1 0 0 9 1 7]\n",
      " [0 7 1 0 0 9 1 7 0]\n",
      " [0 5 6 7 5 6 0 7 2]\n",
      " [1 0 8 5 9 2 0 0 1]]\n"
     ]
    }
   ],
   "source": [
    "X=data.values\n",
    "print(X)"
   ]
  },
  {
   "cell_type": "code",
   "execution_count": 31,
   "metadata": {},
   "outputs": [],
   "source": [
    "import numpy as np\n",
    "from numpy.linalg import lstsq\n",
    "\n",
    "def als(A, k, num_iter=100, init_W = None, init_H = None):\n",
    "    # Initialize W and H\n",
    "    if init_W is None:\n",
    "        W = np.random.rand(np.size(A, 0), k)\n",
    "    else:\n",
    "        W = init_W\n",
    "\n",
    "    if init_H is None:\n",
    "        H = np.random.rand(k, np.size(A, 1))\n",
    "    else:\n",
    "        H = init_H\n",
    "\n",
    "    # Decompose the input matrix\n",
    "    for n in range(num_iter):\n",
    "        # Update H\n",
    "        # Solve the least squares problem: argmin_H ||WH - A||\n",
    "        H = lstsq(W, A, rcond = -1)[0]\n",
    "        # Set negative elements of H to 0\n",
    "        H[H < 0] = 0\n",
    "\n",
    "        # Update W\n",
    "        # Solve the least squares problem: argmin_W.T ||H.TW.T - A.T||\n",
    "        W = lstsq(H.T, A.T, rcond = -1)[0].T\n",
    "\n",
    "        # Set negative elements of W to 0\n",
    "        W[W < 0] = 0\n",
    "\n",
    "    return W, H"
   ]
  },
  {
   "cell_type": "code",
   "execution_count": 32,
   "metadata": {},
   "outputs": [],
   "source": [
    "W,H=als(X,k=2)"
   ]
  },
  {
   "cell_type": "code",
   "execution_count": 33,
   "metadata": {},
   "outputs": [
    {
     "data": {
      "text/plain": [
       "array([[8.44630932e-01, 0.00000000e+00],\n",
       "       [0.00000000e+00, 3.63952311e-01],\n",
       "       [8.76541064e-01, 0.00000000e+00],\n",
       "       [9.50249105e-02, 2.18116312e-01],\n",
       "       [6.27731805e-02, 4.29287173e-01],\n",
       "       [6.98149819e-04, 3.63711611e-01]])"
      ]
     },
     "execution_count": 33,
     "metadata": {},
     "output_type": "execute_result"
    }
   ],
   "source": [
    "W"
   ]
  },
  {
   "cell_type": "code",
   "execution_count": 34,
   "metadata": {},
   "outputs": [
    {
     "data": {
      "text/plain": [
       "array([[ 8.06487148,  1.57509438,  0.30572556,  0.45545962,  0.        ,\n",
       "         1.03040092, 10.45127052,  1.01301737,  8.66284542],\n",
       "       [ 0.68798592,  7.25145358, 18.06808181, 13.34581822, 16.82362876,\n",
       "        11.24821176,  0.        ,  9.76975232,  1.62717603]])"
      ]
     },
     "execution_count": 34,
     "metadata": {},
     "output_type": "execute_result"
    }
   ],
   "source": [
    "H"
   ]
  },
  {
   "cell_type": "code",
   "execution_count": null,
   "metadata": {},
   "outputs": [],
   "source": []
  }
 ],
 "metadata": {
  "kernelspec": {
   "display_name": "Python 3",
   "language": "python",
   "name": "python3"
  },
  "language_info": {
   "codemirror_mode": {
    "name": "ipython",
    "version": 3
   },
   "file_extension": ".py",
   "mimetype": "text/x-python",
   "name": "python",
   "nbconvert_exporter": "python",
   "pygments_lexer": "ipython3",
   "version": "3.8.8"
  }
 },
 "nbformat": 4,
 "nbformat_minor": 4
}
