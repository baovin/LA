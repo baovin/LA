{
 "cells": [
  {
   "cell_type": "markdown",
   "metadata": {},
   "source": [
    "# Bài thực hành 4\n",
    "### Môn: Linear Algebra"
   ]
  },
  {
   "cell_type": "code",
   "execution_count": 1,
   "metadata": {},
   "outputs": [],
   "source": [
    "import numpy as np\n",
    "from scipy import linalg\n",
    "from scipy.optimize import curve_fit\n",
    "import matplotlib.pyplot as plt"
   ]
  },
  {
   "cell_type": "code",
   "execution_count": 2,
   "metadata": {},
   "outputs": [],
   "source": [
    "# Phương pháp khử Gauss - Jordan\n",
    "def gauss_jordan(A):\n",
    "    m,n = A.shape\n",
    "    pivots=[]\n",
    "    s=-1\n",
    "    for j in range(n):\n",
    "        col = A[:,j].copy()\n",
    "        for i in pivots:\n",
    "            col[i] = 0\n",
    "        col = np.abs(col)\n",
    "        pivot_arg = np.argmax(col)\n",
    "        pivot = A[pivot_arg,j]\n",
    "        if col[pivot_arg]!=0 and s<m-1:\n",
    "            s+=1\n",
    "            pivots.append(s)\n",
    "            A[pivot_arg,:] = 1/pivot*A[pivot_arg,:]\n",
    "            row_swap = A[s,:].copy()\n",
    "            A[s,:] = A[pivot_arg,:]\n",
    "            A[pivot_arg,:] = row_swap\n",
    "            for i in range(m):\n",
    "                if i!=s:\n",
    "                    A[i,:] -= A[i,j]*A[s,:]"
   ]
  },
  {
   "cell_type": "markdown",
   "metadata": {},
   "source": [
    "### Bài tập 1\n",
    "Cho hai không gian $U_1$ và $U_2$, trong đó $U_1$ được sinh bởi các cột của ma trận ${\\bf A}_1$, $U_2$ được sinh bởi các cột của ma trận ${\\bf A}_2$ với\n",
    "\n",
    "$${\\bf A}_1=\\left[\\begin{matrix}\n",
    "1 & 0 & 1\\\\\n",
    "1 & -2 & -1\\\\\n",
    "2 & 1 & 3\\\\\n",
    "1 & 0 & 1\n",
    "\\end{matrix}\\right],\\ \n",
    "{\\bf A}_2=\\left[\\begin{matrix}\n",
    "3 & -3 & 0\\\\\n",
    "1 & 2 & 3\\\\\n",
    "7 & -5 & 2\\\\\n",
    "3 & -1 & 2\n",
    "\\end{matrix}\\right]$$\n",
    "\n",
    "Xác định một cơ sở và số chiều của các không gian véc tơ sau đây:\n",
    "* $U_1$, $U_2$.\n",
    "* $U_3=U_1+U_2=\\{x=x_1+x_2\\,:\\,x_1\\in U_1,\\,x_2\\in U_2\\}$.\n",
    "* $U_4=U_1\\cap U_2=\\{x\\,:\\,x\\in U_1,\\,x\\in U_2\\}$."
   ]
  },
  {
   "cell_type": "code",
   "execution_count": 3,
   "metadata": {},
   "outputs": [
    {
     "name": "stdout",
     "output_type": "stream",
     "text": [
      "[[ 1.  0.  1.]\n",
      " [ 1. -2. -1.]\n",
      " [ 2.  1.  3.]\n",
      " [ 1.  0.  1.]]\n",
      "[[ 3. -3.  0.]\n",
      " [ 1.  2.  3.]\n",
      " [ 7. -5.  2.]\n",
      " [ 3. -1.  2.]]\n"
     ]
    },
    {
     "name": "stderr",
     "output_type": "stream",
     "text": [
      "<ipython-input-3-0d4fa03b3d83>:1: DeprecationWarning: `np.float` is a deprecated alias for the builtin `float`. To silence this warning, use `float` by itself. Doing this will not modify any behavior and is safe. If you specifically wanted the numpy scalar type, use `np.float64` here.\n",
      "Deprecated in NumPy 1.20; for more details and guidance: https://numpy.org/devdocs/release/1.20.0-notes.html#deprecations\n",
      "  A1 = np.array([1,0,1,1,-2,-1,2,1,3,1,0,1],dtype=np.float).reshape(4,3)\n",
      "<ipython-input-3-0d4fa03b3d83>:2: DeprecationWarning: `np.float` is a deprecated alias for the builtin `float`. To silence this warning, use `float` by itself. Doing this will not modify any behavior and is safe. If you specifically wanted the numpy scalar type, use `np.float64` here.\n",
      "Deprecated in NumPy 1.20; for more details and guidance: https://numpy.org/devdocs/release/1.20.0-notes.html#deprecations\n",
      "  A2 = np.array([3,-3,0,1,2,3,7,-5,2,3,-1,2],dtype=np.float).reshape(4,3)\n"
     ]
    }
   ],
   "source": [
    "A1 = np.array([1,0,1,1,-2,-1,2,1,3,1,0,1],dtype=np.float).reshape(4,3)\n",
    "A2 = np.array([3,-3,0,1,2,3,7,-5,2,3,-1,2],dtype=np.float).reshape(4,3)\n",
    "print(A1,A2,sep='\\n')"
   ]
  },
  {
   "cell_type": "code",
   "execution_count": 4,
   "metadata": {},
   "outputs": [
    {
     "name": "stdout",
     "output_type": "stream",
     "text": [
      "dim(U1) =  2\n",
      "[[ 2.00000000e+00  1.00000000e+00  3.00000000e+00]\n",
      " [ 0.00000000e+00 -2.50000000e+00 -2.50000000e+00]\n",
      " [ 0.00000000e+00  0.00000000e+00  2.77555756e-17]]\n",
      "Cơ sở của U1 là:\n",
      "u1 = [1. 1. 2. 1.]\n",
      "u2 = [ 0. -2.  1.  0.]\n",
      "dim(U2) =  2\n",
      "[[ 7.00000000e+00 -5.00000000e+00  2.00000000e+00]\n",
      " [ 0.00000000e+00  2.71428571e+00  2.71428571e+00]\n",
      " [ 0.00000000e+00  0.00000000e+00 -5.34242658e-17]]\n",
      "Cơ sở của U2 là:\n",
      "u3 = [3. 1. 7. 3.]\n",
      "u4 = [-3.  2. -5. -1.]\n"
     ]
    }
   ],
   "source": [
    "# Cơ sở và số chiều của U1\n",
    "print(\"dim(U1) = \",np.linalg.matrix_rank(A1))\n",
    "print(linalg.lu(A1)[2])\n",
    "print(\"Cơ sở của U1 là:\")\n",
    "print(\"u1 =\",A1[:,0].flatten())\n",
    "print(\"u2 =\",A1[:,1].flatten())\n",
    "\n",
    "# Cơ sở và số chiều của U2\n",
    "print(\"dim(U2) = \",np.linalg.matrix_rank(A2))\n",
    "print(linalg.lu(A2)[2])\n",
    "print(\"Cơ sở của U2 là:\")\n",
    "print(\"u3 =\",A2[:,0].flatten())\n",
    "print(\"u4 =\",A2[:,1].flatten())"
   ]
  },
  {
   "cell_type": "code",
   "execution_count": 5,
   "metadata": {
    "scrolled": true
   },
   "outputs": [
    {
     "name": "stdout",
     "output_type": "stream",
     "text": [
      "[[ 1.  0.  1.  3. -3.  0.]\n",
      " [ 1. -2. -1.  1.  2.  3.]\n",
      " [ 2.  1.  3.  7. -5.  2.]\n",
      " [ 1.  0.  1.  3. -1.  2.]]\n",
      "[[ 1.  0.  1.  3.  0.  3.]\n",
      " [-0.  1.  1.  1.  0.  1.]\n",
      " [-0. -0. -0. -0.  1.  1.]\n",
      " [ 0.  0.  0.  0.  0.  0.]]\n",
      "dim(U3) =  3\n",
      "Cơ sở của U3 là:\n",
      "[1. 1. 2. 1.]\n",
      "[ 0. -2.  1.  0.]\n",
      "[-3.  2. -5. -1.]\n"
     ]
    }
   ],
   "source": [
    "# Cơ sở và số chiều của U3\n",
    "A3 = np.hstack([A1,A2])\n",
    "print(A3)\n",
    "A3_=A3.copy()\n",
    "gauss_jordan(A3_)\n",
    "print(A3_)\n",
    "print(\"dim(U3) = \",np.linalg.matrix_rank(A3_))\n",
    "print(\"Cơ sở của U3 là:\",A3[:,0].flatten(),\n",
    "      A3[:,1].flatten(),A3[:,4].flatten(),sep='\\n')"
   ]
  },
  {
   "cell_type": "code",
   "execution_count": 6,
   "metadata": {},
   "outputs": [
    {
     "name": "stdout",
     "output_type": "stream",
     "text": [
      "[[ 1.  0. -3.  3.]\n",
      " [ 1. -2. -1. -2.]\n",
      " [ 2.  1. -7.  5.]\n",
      " [ 1.  0. -3.  1.]]\n",
      "[[ 1.  0. -3.  0.]\n",
      " [-0.  1. -1.  0.]\n",
      " [ 0.  0.  0.  1.]\n",
      " [ 0.  0.  0.  0.]]\n",
      "dim(U4) =  1\n",
      "Cơ sở của U4 là: [-3. -1. -7. -3.]\n"
     ]
    }
   ],
   "source": [
    "# Cơ sở và số chiều của U3\n",
    "A4 = np.hstack([A1[:,:2],-A2[:,:2]])\n",
    "print(A4)\n",
    "A4_=A4.copy()\n",
    "gauss_jordan(A4_)\n",
    "print(A4_)\n",
    "print(\"dim(U4) = \",len(A4_)-np.linalg.matrix_rank(A4_))\n",
    "print(\"Cơ sở của U4 là:\",(A4[:,2]-A4_[2,2]*A4[:,3]).flatten())"
   ]
  },
  {
   "cell_type": "markdown",
   "metadata": {},
   "source": [
    "### Bài tập 2\n",
    "Cho các đa thức: \n",
    "$${\\bf p}_1(x)=1+x,\\,{\\bf p}_2(x)=1-x,\\,{\\bf p}_3(x)=4$$\n",
    "$${\\bf p}_4(x)=1+x^2,\\,{\\bf p}_5(x)=1+2x+x^2$$\n",
    "\n",
    "Gọi $H$ là không gian con của $\\mathbb{P}_5$ sinh bởi tập $S=\\{{\\bf p}_1,{\\bf p}_2,{\\bf p}_3,{\\bf p}_4,{\\bf p}_5\\}$.\n",
    "\n",
    "* Hãy tìm một cơ sở và số chiều của $H$.\n",
    "* Tìm tọa độ của ${\\bf q}=3-2x+x^2\\in H$ theo cơ sở tìm được."
   ]
  },
  {
   "cell_type": "code",
   "execution_count": 7,
   "metadata": {},
   "outputs": [
    {
     "name": "stdout",
     "output_type": "stream",
     "text": [
      "[[ 1  1  4  1  1]\n",
      " [ 1 -1  0  0  2]\n",
      " [ 0  0  0  1  1]]\n",
      "dim(H) =  3\n",
      "[[ 1.  1.  4.  1.  1.]\n",
      " [ 0. -2. -4. -1.  1.]\n",
      " [ 0.  0.  0.  1.  1.]]\n",
      "Một cơ sở của H:\n",
      "p1 = 1 + 1.x + 0.x^2\n",
      "p2 = 1 + -1.x + 0.x^2\n",
      "p4 = 1 + 0.x + 1.x^2\n",
      "Tọa độ véc tơ q = 3 + -2.x + 1.x^2 là (0.0, 2.0, 1.0)\n"
     ]
    }
   ],
   "source": [
    "p1 = np.array([1,1,0])\n",
    "p2 = np.array([1,-1,0])\n",
    "p3 = np.array([4,0,0])\n",
    "p4 = np.array([1,0,1])\n",
    "p5 = np.array([1,2,1])\n",
    "H = np.vstack([p1,p2,p3,p4,p5]).T\n",
    "print(H)\n",
    "print(\"dim(H) = \",np.linalg.matrix_rank(H))\n",
    "U = linalg.lu(H)[2]\n",
    "print(U)\n",
    "print(\"Một cơ sở của H:\")\n",
    "print(\"p1 = %d + %d.x + %d.x^2\"%tuple(p1))\n",
    "print(\"p2 = %d + %d.x + %d.x^2\"%tuple(p2))\n",
    "print(\"p4 = %d + %d.x + %d.x^2\"%tuple(p4))\n",
    "q = np.array([3,-2,1])\n",
    "sol=np.linalg.solve(np.vstack([p1,p2,p4]).T,q)\n",
    "print(\"Tọa độ véc tơ q = %d + %d.x + %d.x^2 là\"%tuple(q),tuple(sol))"
   ]
  },
  {
   "cell_type": "markdown",
   "metadata": {},
   "source": [
    "### Bài 3\n",
    "Trong xử lý tín hiệu số, phương trình sai phân cấp $n$:\n",
    "\n",
    "$$y_{k+3}-2y_{k+2}+9y_{k+1}-18y_k=z_k$$\n",
    "\n",
    "mô tả một bộ lọc tuyến tính với $\\{y_k\\}$ là tín hiệu vào và $\\{z_k\\}$ là tín hiệu ra. Trường hợp $z_k=0$ phương trình được gọi là thuần nhất. Tập tín hiệu vào $\\{y_k\\}$ thoả mãn phương trình thuần nhất là một không gian véc tơ 3 chiều $H$. Xét tập tín hiệu \n",
    "\n",
    "$$(\\mathcal{B})=\\left\\{2^k,\\,3^k\\sin\\left(\\frac{k\\pi}{2}\\right),\\,3^k\\cos\\left(\\frac{k\\pi}{2}\\right)\\right\\}$$\n",
    "\n",
    "* Chứng minh $(\\mathcal{B})$ gồm các nghiệm của phương trình thuần nhất.\n",
    "* Chứng minh $(\\mathcal{B})$ là một cơ sở của $H$."
   ]
  },
  {
   "cell_type": "markdown",
   "metadata": {},
   "source": [
    "#### Đáp án:\n",
    "* Thay trực tiếp vào phương trình\n",
    "* Chứng minh $(\\mathcal{B})$ là hệ độc lập tuyến tính, từ đó suy ra cơ sở. Đặt\n",
    "\n",
    "$$u_k=2^k,\\,v_k=3^k\\sin\\left(\\frac{k\\pi}{2}\\right),\\,w_k=3^k\\cos\\left(\\frac{k\\pi}{2}\\right)$$\n",
    "\n",
    "Ta sẽ chứng minh \n",
    "$$c_1 u_k+c_2 v_k+c_3 w_k=0$$ \n",
    "đúng với mọi $k$ thì $c_1=c_2=c_3=0$. Thay $k$ tương ứng bởi $k$, $k+1$, $k+2$ ta thu được hệ phương trình:\n",
    "$$\n",
    "\\begin{pmatrix}\n",
    "u_k & v_k & w_k \\\\\n",
    "u_{k+1} & v_{k+1} & w_{k+1} \\\\\n",
    "u_{k+2} & v_{k+2} & w_{k+2}\n",
    "\\end{pmatrix}\n",
    "\\begin{pmatrix}\n",
    "c_1 \\\\\n",
    "c_2 \\\\\n",
    "c_3 \n",
    "\\end{pmatrix} = \n",
    "\\begin{pmatrix}\n",
    "0 \\\\\n",
    "0 \\\\\n",
    "0\n",
    "\\end{pmatrix}\n",
    "$$"
   ]
  },
  {
   "cell_type": "code",
   "execution_count": 8,
   "metadata": {},
   "outputs": [],
   "source": [
    "# Chọn k = 0\n",
    "A = np.array([[1,0,1],[2,3,0],[4,0,-9]])\n",
    "detA = np.linalg.det(A)\n",
    "\n",
    "# Vì detA khác 0 nên suy ra c1 = c2 = c3 = 0. "
   ]
  }
 ],
 "metadata": {
  "kernelspec": {
   "display_name": "Python 3",
   "language": "python",
   "name": "python3"
  },
  "language_info": {
   "codemirror_mode": {
    "name": "ipython",
    "version": 3
   },
   "file_extension": ".py",
   "mimetype": "text/x-python",
   "name": "python",
   "nbconvert_exporter": "python",
   "pygments_lexer": "ipython3",
   "version": "3.8.8"
  }
 },
 "nbformat": 4,
 "nbformat_minor": 4
}
