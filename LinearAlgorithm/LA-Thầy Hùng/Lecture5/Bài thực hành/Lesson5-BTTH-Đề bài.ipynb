{
 "cells": [
  {
   "cell_type": "markdown",
   "metadata": {},
   "source": [
    "# Bài thực hành 5\n",
    "### Môn: Linear Algebra"
   ]
  },
  {
   "cell_type": "code",
   "execution_count": 1,
   "metadata": {},
   "outputs": [],
   "source": [
    "import numpy as np"
   ]
  },
  {
   "cell_type": "markdown",
   "metadata": {},
   "source": [
    "### Bài tập 1\n",
    "Cho các véc tơ ${\\bf x}_1=\\left[\\begin{matrix}\n",
    "1 \\\\\n",
    "5 \\\\\n",
    "-6\\\\\n",
    "3\n",
    "\\end{matrix}\\right],\\,{\\bf x}_2=\\left[\\begin{matrix}\n",
    "-3 \\\\\n",
    "11 \\\\\n",
    "-9 \\\\\n",
    "12\n",
    "\\end{matrix}\\right],\\,{\\bf x}_3=\\left[\\begin{matrix}\n",
    "-10 \\\\\n",
    "9 \\\\\n",
    "-4 \\\\\n",
    "4\n",
    "\\end{matrix}\\right]$ và ${\\bf y}=\\left[\\begin{matrix}\n",
    "0 \\\\\n",
    "0 \\\\\n",
    "0 \\\\\n",
    "-1\n",
    "\\end{matrix}\\right]$. \n",
    "* Hãy xây dựng một cơ sở trực giao cho $W=\\mathrm{span}\\{{\\bf x}_1,{\\bf x}_2,{\\bf x}_3\\}$.\n",
    "* Tìm hình chiếu trực giao của $\\bf y$ trên $W$"
   ]
  },
  {
   "cell_type": "code",
   "execution_count": null,
   "metadata": {},
   "outputs": [],
   "source": []
  },
  {
   "cell_type": "markdown",
   "metadata": {},
   "source": [
    "### Bài tập 2\n",
    "\n",
    "Cho ma trận: \n",
    "$${\\bf A}=\\left[\\begin{matrix}\n",
    "1 & 3 & -7\\\\\n",
    "2 & 1 & 1\\\\\n",
    "-2 & 7 & 11\\\\\n",
    "9 & 11 & 3\n",
    "\\end{matrix}\\right],\\ \n",
    "{\\bf b}=\\left[\\begin{matrix}\n",
    "3\\\\\n",
    "1\\\\\n",
    "-1\\\\\n",
    "3\n",
    "\\end{matrix}\\right]$$\n",
    "* Thực hiện phân tích QR cho ma trận ${\\bf A}$.\n",
    "* Tìm nghiệm bình phương cực tiểu của ${\\bf A}{\\bf x}={\\bf b}$ bằng phân tích QR.\n",
    "* Tìm một cơ sở trực chuẩn của không gian cột của $A$."
   ]
  },
  {
   "cell_type": "code",
   "execution_count": null,
   "metadata": {},
   "outputs": [],
   "source": []
  },
  {
   "cell_type": "markdown",
   "metadata": {},
   "source": [
    "### Bài 3 (Đo khoảng cách giữa các văn bản)\n",
    "\n",
    "Mỗi văn bản được mô tả bởi 1 véc tơ $v\\in\\mathbb{R}^D$, ở đó $D$ là số lượng từ phân biệt có thể có. Mỗi thành phần toạ độ của $v$ tương ứng với 1 từ và ghi số từ có trong văn bản. Giả sử xét các đoạn văn bản sau:\n",
    "> * $D_1$: *Tôi là An*.\n",
    "> * $D_2$: *Tôi thích xem phim*.\n",
    "> * $D_3$: *An là tên tôi*.\n",
    "> * $D_4$: *Tôi rất thích đi du lịch, An là tên tôi*.\n",
    "\n",
    "* Viết toạ độ của các văn bản trong không gian 11 chiều với toạ độ tương ứng với danh sách các từ sau:\n",
    "> (*An, du, đi, là, lịch, phim, rất, tên, thích, tôi, xem*)\n",
    "* Tính khoảng cách Euclide giữa các văn bản $D_1,D_2,D_3$, và $D_4$.\n"
   ]
  },
  {
   "cell_type": "code",
   "execution_count": null,
   "metadata": {},
   "outputs": [],
   "source": []
  }
 ],
 "metadata": {
  "kernelspec": {
   "display_name": "Python 3",
   "language": "python",
   "name": "python3"
  },
  "language_info": {
   "codemirror_mode": {
    "name": "ipython",
    "version": 3
   },
   "file_extension": ".py",
   "mimetype": "text/x-python",
   "name": "python",
   "nbconvert_exporter": "python",
   "pygments_lexer": "ipython3",
   "version": "3.8.8"
  }
 },
 "nbformat": 4,
 "nbformat_minor": 4
}
