{
 "cells": [
  {
   "cell_type": "markdown",
   "metadata": {},
   "source": [
    "# Thực hành 1\n",
    "### Môn: Linear Algebra"
   ]
  },
  {
   "cell_type": "code",
   "execution_count": 1,
   "metadata": {},
   "outputs": [],
   "source": [
    "import numpy as np"
   ]
  },
  {
   "cell_type": "markdown",
   "metadata": {},
   "source": [
    "### Bài 1\n",
    "* Tạo một mảng 2-chiều $a$ cỡ $10\\times 10$, các phần tử hàng đầu tiên được khởi tạo ngẫu nhiên trong đoạn [-10,10]; các phần tử cột đầu tiên bằng $a[0,0]$; các phần tử cột cuối cùng bằng $a[0,9]$.\n",
    "* Tính các phần tử còn lại được tính theo quy tắc: \"*phần tử của hàng dưới bằng trung bình cộng của 3 phần tử gần nó nhất ở hàng trên*\" (mô tả như hình vẽ trong phiếu bài tập)"
   ]
  },
  {
   "cell_type": "code",
   "execution_count": null,
   "metadata": {},
   "outputs": [],
   "source": []
  },
  {
   "cell_type": "markdown",
   "metadata": {},
   "source": [
    "### Bài 2\n",
    "* Tạo một mảng 1 chiều $\\bf x$ gồm $n=10$ số thực.\n",
    "* Chọn 3 hàm số tùy ý $f_1(x),\\,f_2(x),\\,f_3(x)$.\n",
    "* Tạo 3 mảng 1-chiều $y_1=[f_1(x)]$, $y_2=[f_2(x)]$, $y_3=[f_3(x)]$.\n",
    "* Ghép bốn mảng 1-chiều thành một mảng 2-chiều kích thước $n\\times 4$."
   ]
  },
  {
   "cell_type": "code",
   "execution_count": null,
   "metadata": {},
   "outputs": [],
   "source": []
  },
  {
   "cell_type": "markdown",
   "metadata": {},
   "source": [
    "### Bài 3\n",
    "* Tải dữ liệu từ file *heart$\\_$rate.txt* vào mảng $a$.\n",
    "* Thực hiện mô tả thống kê với các biến **Time** và **Heart Rate**: cỡ mẫu, trung bình, trung vị, độ lệch tiêu chuẩn, giá trị lớn nhất/nhỏ nhất, phần tư $Q_1,\\,Q_2$ và $Q_3$."
   ]
  },
  {
   "cell_type": "code",
   "execution_count": null,
   "metadata": {},
   "outputs": [],
   "source": []
  },
  {
   "cell_type": "markdown",
   "metadata": {},
   "source": [
    "### Bài 4\n",
    "* Ảnh *'towerbridge.jpg'* được biểu diễn bởi 1 tensor bậc 3 'arrcolor' bằng lệnh cho dưới đây.\n",
    "* Chuyển thành ảnh xám bằng cách biến đổi tensor thành ma trận 'arrgray', mỗi phần tử là độ sáng của điểm ảnh bằng trung bình cộng các màu của điểm ảnh đó trong tensor. Tính và hiển thị ảnh xám ra màn hình."
   ]
  },
  {
   "cell_type": "code",
   "execution_count": null,
   "metadata": {},
   "outputs": [],
   "source": []
  }
 ],
 "metadata": {
  "kernelspec": {
   "display_name": "Python 3",
   "language": "python",
   "name": "python3"
  },
  "language_info": {
   "codemirror_mode": {
    "name": "ipython",
    "version": 3
   },
   "file_extension": ".py",
   "mimetype": "text/x-python",
   "name": "python",
   "nbconvert_exporter": "python",
   "pygments_lexer": "ipython3",
   "version": "3.8.8"
  }
 },
 "nbformat": 4,
 "nbformat_minor": 4
}
