{
 "cells": [
  {
   "cell_type": "markdown",
   "metadata": {},
   "source": [
    "# Bài tập về nhà 1\n",
    "### Môn: Linear Algebra"
   ]
  },
  {
   "cell_type": "code",
   "execution_count": 6,
   "metadata": {},
   "outputs": [],
   "source": [
    "import numpy as np"
   ]
  },
  {
   "cell_type": "markdown",
   "metadata": {
    "editable": true,
    "slideshow": {
     "slide_type": ""
    },
    "tags": []
   },
   "source": [
    "### Bài 1 - Dãy số co\n",
    "Bắt đầu với một dãy $S=(a_1,\\dots,a_{8})$ gồm 8 số nguyên dương phân biệt, được chọn ngẫu nhiên trong đoạn $[1,300]$ và tìm chuỗi \n",
    "\n",
    "$$S_1=T(S)=(|a_1-a_{2}|,\\dots,|a_{7}-a_{8}|,|a_{8}-a_{1}|)$$\n",
    "\n",
    "Các dãy $S,\\,S_1,\\,S_2=T(S_1),S_3=T(S_2),\\dots$ có kết thúc bởi dãy $(0,\\dots,0)$ hay không? Hãy tìm câu trả lời bằng cách xây dựng mảng 2-chiều $A$ có hàng $A[i]$ là dãy $S_i$, hàng cuối cùng của mảng $A$ tương ứng với dãy số 0."
   ]
  },
  {
   "cell_type": "code",
   "execution_count": 12,
   "metadata": {
    "editable": true,
    "slideshow": {
     "slide_type": ""
    },
    "tags": []
   },
   "outputs": [
    {
     "name": "stdout",
     "output_type": "stream",
     "text": [
      "201\n"
     ]
    }
   ],
   "source": [
    "x = np.random.randint(0, 301, size=8)\n",
    "print(x[1])"
   ]
  },
  {
   "cell_type": "markdown",
   "metadata": {},
   "source": [
    "### Bài 2 - Tam giác Pascal\n",
    "Tạo một mảng 2-chiều kích thước $10\\times 10$. Mảng được chia thành hai hình tam giác đối xứng qua đường chéo phụ (*xem hình vẽ trong phiếu bài tập về nhà*), trong đó hình tam giác (nửa mảng) gồm các phần tử tạo thành tam giác Pascal."
   ]
  },
  {
   "cell_type": "code",
   "execution_count": null,
   "metadata": {},
   "outputs": [],
   "source": []
  }
 ],
 "metadata": {
  "kernelspec": {
   "display_name": "Python 3 (ipykernel)",
   "language": "python",
   "name": "python3"
  },
  "language_info": {
   "codemirror_mode": {
    "name": "ipython",
    "version": 3
   },
   "file_extension": ".py",
   "mimetype": "text/x-python",
   "name": "python",
   "nbconvert_exporter": "python",
   "pygments_lexer": "ipython3",
   "version": "3.12.4"
  }
 },
 "nbformat": 4,
 "nbformat_minor": 4
}
