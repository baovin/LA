{
 "cells": [
  {
   "cell_type": "markdown",
   "metadata": {},
   "source": [
    "# Bài tập về nhà 4\n",
    "### Môn: Linear Algebra"
   ]
  },
  {
   "cell_type": "code",
   "execution_count": 1,
   "metadata": {},
   "outputs": [],
   "source": [
    "import numpy as np\n",
    "from scipy import linalg\n",
    "from scipy.optimize import curve_fit\n",
    "import matplotlib.pyplot as plt"
   ]
  },
  {
   "cell_type": "markdown",
   "metadata": {},
   "source": [
    "### Bài tập 1\n",
    "Cho dữ liệu về lưu lượng giao thông đo được tại một nút giao thông trong 24 giờ liên tiếp:\n",
    "\n",
    "| $x$ | 0 | 1 | 2 | 3 | 4 | 5 | 6 | 7 | 8 | 9 | 10 | 11 |\n",
    "|---:|:---|:---|:---|:---|:---|:---|:---|:---|:---|:---|:---|:---|\n",
    "| $y$ |416|212|121|17|12|132|445|1412|1322|1121|925|823|\n",
    "\n",
    "| $x$ |12|13|14|15|16| 17 | 18 | 19 | 20 | 21 | 22 | 23 |\n",
    "|---:|:---|:---|:---|:---|:---|:---|:---|:---|:---|:---|:---|:---|\n",
    "| $y$ |721|772|913|1005|802|743|754|543|431|429|423|419|\n",
    "\n",
    "Biến đổi của lưu lượng giao thông được mô tả bởi sự chồng chất 3 hàm Lorentz:\n",
    "\n",
    "$$y=a_0+\\dfrac{a_1}{b_1^2+(x-3.5)^2}+\\dfrac{a_2}{b_2^2+(x-7.5)^2}+\\dfrac{a_3}{b_3^2+(x-15.5)^2}$$\n",
    "\n",
    "* Trường hợp cố định các tham số $b_1=b_2=2,\\,b_3=3$: Mô hình lưu lượng giao thông là tuyến tính. Sử dụng kĩ thuật hồi quy tuyến tính để xác định các tham số còn lại của mô hình.\n",
    "* Mô hình lưu lượng giao thông dạng đầy đủ thực chất là mô hình phi tuyến. Sử dụng hàm **curve_fit** trong **scipy.optimize** để xác định các tham số của mô hình phù hợp với dữ liệu."
   ]
  },
  {
   "cell_type": "code",
   "execution_count": null,
   "metadata": {},
   "outputs": [],
   "source": []
  },
  {
   "cell_type": "markdown",
   "metadata": {},
   "source": [
    "### Bài tập 2\n",
    "Sử dụng dữ liệu trong file *sample.csv* để xác định các tham số của mô hình hồi quy dưới dạng sau đây:\n",
    "\n",
    "$$y=\\dfrac{1}{a+b.\\exp({-c\\,x})}$$\n",
    "\n",
    "Tải dữ liệu từ file vào mảng sử dụng thư viện pandas"
   ]
  },
  {
   "cell_type": "code",
   "execution_count": 1,
   "metadata": {},
   "outputs": [],
   "source": [
    "import pandas as pd\n",
    "data=pd.read_csv(\"sample.csv\")\n",
    "x=data[\"x\"].values\n",
    "y=data[\"y\"].values"
   ]
  },
  {
   "cell_type": "code",
   "execution_count": null,
   "metadata": {},
   "outputs": [],
   "source": []
  }
 ],
 "metadata": {
  "kernelspec": {
   "display_name": "Python 3",
   "language": "python",
   "name": "python3"
  },
  "language_info": {
   "codemirror_mode": {
    "name": "ipython",
    "version": 3
   },
   "file_extension": ".py",
   "mimetype": "text/x-python",
   "name": "python",
   "nbconvert_exporter": "python",
   "pygments_lexer": "ipython3",
   "version": "3.8.8"
  }
 },
 "nbformat": 4,
 "nbformat_minor": 4
}
