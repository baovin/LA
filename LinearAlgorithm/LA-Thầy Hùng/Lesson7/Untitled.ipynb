{
 "cells": [
  {
   "cell_type": "code",
   "execution_count": 16,
   "id": "ee38625b-ac39-45ad-9a49-428d957e6229",
   "metadata": {},
   "outputs": [],
   "source": [
    "import numpy as np"
   ]
  },
  {
   "cell_type": "code",
   "execution_count": 17,
   "id": "0d0a5263-af04-49ac-b4d7-78da74fc9b32",
   "metadata": {},
   "outputs": [
    {
     "name": "stdout",
     "output_type": "stream",
     "text": [
      "[ 5 15 25 35 45 55] [ 5 20 14 32 22 38]\n"
     ]
    }
   ],
   "source": [
    "x=np.array([5,15,25,35,45,55])\n",
    "y=np.array([5,20,14,32,22,38])\n",
    "print(x,y)"
   ]
  },
  {
   "cell_type": "code",
   "execution_count": 18,
   "id": "8d3e2021-54d7-41d1-8c79-942eef750dd8",
   "metadata": {},
   "outputs": [
    {
     "name": "stdout",
     "output_type": "stream",
     "text": [
      "[[ 1.  5.]\n",
      " [ 1. 15.]\n",
      " [ 1. 25.]\n",
      " [ 1. 35.]\n",
      " [ 1. 45.]\n",
      " [ 1. 55.]]\n"
     ]
    }
   ],
   "source": [
    "A=np.vstack([np.ones(len(x)),x]).T\n",
    "print(A)"
   ]
  },
  {
   "cell_type": "code",
   "execution_count": 19,
   "id": "4e53fa2a-1d9c-4cdb-b12e-46ccb4212d1c",
   "metadata": {},
   "outputs": [
    {
     "name": "stdout",
     "output_type": "stream",
     "text": [
      "[5.63333333 0.54      ]\n"
     ]
    }
   ],
   "source": [
    "beta=np.linalg.pinv(A)@y\n",
    "print(beta)"
   ]
  },
  {
   "cell_type": "code",
   "execution_count": 20,
   "id": "ddc4e467-1bc8-4008-a72b-5217a9a23dee",
   "metadata": {},
   "outputs": [
    {
     "name": "stdout",
     "output_type": "stream",
     "text": [
      "[5.63333333 0.54      ]\n"
     ]
    },
    {
     "name": "stderr",
     "output_type": "stream",
     "text": [
      "C:\\Users\\Admin\\AppData\\Local\\Temp\\ipykernel_24640\\3160162078.py:1: FutureWarning: `rcond` parameter will change to the default of machine precision times ``max(M, N)`` where M and N are the input matrix dimensions.\n",
      "To use the future default and silence this warning we advise to pass `rcond=None`, to keep using the old, explicitly pass `rcond=-1`.\n",
      "  beta=np.linalg.lstsq(A,y)[0]\n"
     ]
    }
   ],
   "source": [
    "beta=np.linalg.lstsq(A,y)[0]\n",
    "print(beta)"
   ]
  },
  {
   "cell_type": "code",
   "execution_count": 21,
   "id": "d02034d5-1725-4430-99c7-cd38169f0564",
   "metadata": {},
   "outputs": [
    {
     "name": "stdout",
     "output_type": "stream",
     "text": [
      "5.633333333333329 [0.54]\n"
     ]
    }
   ],
   "source": [
    "from sklearn.linear_model import LinearRegression\n",
    "model = LinearRegression().fit(x.reshape(-1,1), y)\n",
    "print(model.intercept_,model.coef_)"
   ]
  },
  {
   "cell_type": "code",
   "execution_count": 22,
   "id": "a2a61401-ae67-4590-b0e7-c716b4061208",
   "metadata": {},
   "outputs": [],
   "source": [
    "def MSE(y,y_pred):\n",
    "    MSE=np.mean((y-y_pred)**2)\n",
    "    return MSE"
   ]
  },
  {
   "cell_type": "code",
   "execution_count": 23,
   "id": "c9ab7419-af10-4e78-8cdb-878b265d9ce0",
   "metadata": {},
   "outputs": [
    {
     "data": {
      "text/plain": [
       "33.75555555555555"
      ]
     },
     "execution_count": 23,
     "metadata": {},
     "output_type": "execute_result"
    }
   ],
   "source": [
    "y_pred=beta[0]+beta[1]*x\n",
    "MSE(y,y_pred)"
   ]
  },
  {
   "cell_type": "code",
   "execution_count": null,
   "id": "ffb8fa4a-264b-4b25-bcff-179cb4f05d32",
   "metadata": {},
   "outputs": [],
   "source": []
  },
  {
   "cell_type": "code",
   "execution_count": 22,
   "id": "043ff0d2-962c-42e5-9fd5-676600bfabef",
   "metadata": {},
   "outputs": [
    {
     "name": "stdout",
     "output_type": "stream",
     "text": [
      "[[1.000e+00 5.000e+00 2.500e+01]\n",
      " [1.000e+00 1.500e+01 2.250e+02]\n",
      " [1.000e+00 2.500e+01 6.250e+02]\n",
      " [1.000e+00 3.500e+01 1.225e+03]\n",
      " [1.000e+00 4.500e+01 2.025e+03]\n",
      " [1.000e+00 5.500e+01 3.025e+03]]\n"
     ]
    }
   ],
   "source": [
    "A=np.vstack([np.ones(len(x)),x,x**2]).T\n",
    "print(A)"
   ]
  },
  {
   "cell_type": "code",
   "execution_count": 23,
   "id": "acfed244-9def-4152-9a6e-0b7be584a936",
   "metadata": {},
   "outputs": [
    {
     "name": "stdout",
     "output_type": "stream",
     "text": [
      "[ 4.43839286e+00  6.57857143e-01 -1.96428571e-03]\n"
     ]
    }
   ],
   "source": [
    "beta=np.linalg.pinv(A)@y\n",
    "print(beta)"
   ]
  },
  {
   "cell_type": "code",
   "execution_count": 24,
   "id": "bfed8b18-163c-49d4-83d9-c8accac83c92",
   "metadata": {},
   "outputs": [
    {
     "data": {
      "text/plain": [
       "33.515476190476186"
      ]
     },
     "execution_count": 24,
     "metadata": {},
     "output_type": "execute_result"
    }
   ],
   "source": [
    "y_pred=beta[0]+beta[1]*x+beta[2]*x**2\n",
    "MSE(y,y_pred)"
   ]
  },
  {
   "cell_type": "code",
   "execution_count": 1,
   "id": "8ea011b4-60b8-4316-9aa2-68ef2d0b5d54",
   "metadata": {},
   "outputs": [],
   "source": [
    "import numpy as np\n",
    "from numpy.linalg import inv as inv\n",
    "from numpy.linalg import pinv as pinv\n",
    "from numpy.linalg import lstsq"
   ]
  },
  {
   "cell_type": "code",
   "execution_count": 2,
   "id": "1b407d1b-d467-4bad-98e4-1efa66d46970",
   "metadata": {},
   "outputs": [
    {
     "name": "stdout",
     "output_type": "stream",
     "text": [
      "[[1 2 3]\n",
      " [4 5 6]\n",
      " [7 8 9]]\n"
     ]
    }
   ],
   "source": [
    "A=np.array([[1,2,3],[4,5,6],[7,8,9]])\n",
    "print(A)"
   ]
  },
  {
   "cell_type": "code",
   "execution_count": 3,
   "id": "1698482a-a64f-47c8-8be6-15db33a65364",
   "metadata": {},
   "outputs": [
    {
     "data": {
      "text/plain": [
       "2"
      ]
     },
     "execution_count": 3,
     "metadata": {},
     "output_type": "execute_result"
    }
   ],
   "source": [
    "np.linalg.matrix_rank(A)"
   ]
  },
  {
   "cell_type": "code",
   "execution_count": 4,
   "id": "cc241a43-28b0-4b4c-b276-6d5dc43adbf2",
   "metadata": {},
   "outputs": [
    {
     "data": {
      "text/plain": [
       "array([[-6.38888889e-01, -1.66666667e-01,  3.05555556e-01],\n",
       "       [-5.55555556e-02,  3.36727575e-17,  5.55555556e-02],\n",
       "       [ 5.27777778e-01,  1.66666667e-01, -1.94444444e-01]])"
      ]
     },
     "execution_count": 4,
     "metadata": {},
     "output_type": "execute_result"
    }
   ],
   "source": [
    "pinv(A)"
   ]
  },
  {
   "cell_type": "code",
   "execution_count": 5,
   "id": "805ec3c2-b772-4451-95e6-3bb6beb418bb",
   "metadata": {},
   "outputs": [
    {
     "name": "stdout",
     "output_type": "stream",
     "text": [
      "[[0.25 0.25]\n",
      " [0.25 0.25]]\n"
     ]
    }
   ],
   "source": [
    "A=np.array([1,1,1,1]).reshape(2,2)\n",
    "print(pinv(A))"
   ]
  },
  {
   "cell_type": "code",
   "execution_count": 6,
   "id": "60fda005-54af-471e-b44e-9cfe56b8c8b9",
   "metadata": {},
   "outputs": [
    {
     "data": {
      "text/plain": [
       "array([[0.5, 0.5],\n",
       "       [0.5, 0.5]])"
      ]
     },
     "execution_count": 6,
     "metadata": {},
     "output_type": "execute_result"
    }
   ],
   "source": [
    "A@pinv(A)"
   ]
  },
  {
   "cell_type": "code",
   "execution_count": 7,
   "id": "83b6adb0-a82e-4275-a08a-01a6e23eebcd",
   "metadata": {},
   "outputs": [
    {
     "data": {
      "text/plain": [
       "array([[0.5, 0.5],\n",
       "       [0.5, 0.5]])"
      ]
     },
     "execution_count": 7,
     "metadata": {},
     "output_type": "execute_result"
    }
   ],
   "source": [
    "pinv(A)@A"
   ]
  },
  {
   "cell_type": "code",
   "execution_count": 8,
   "id": "7443990e-e360-4a11-aec3-9a034292de15",
   "metadata": {},
   "outputs": [
    {
     "name": "stdout",
     "output_type": "stream",
     "text": [
      "[[1 0]\n",
      " [0 1]\n",
      " [0 1]]\n"
     ]
    }
   ],
   "source": [
    "A=np.array([1,0,0,1,0,1]).reshape(3,2)\n",
    "print(A)"
   ]
  },
  {
   "cell_type": "code",
   "execution_count": 9,
   "id": "d9bf54fe-ffee-4c2e-9f70-86a565ba7c3f",
   "metadata": {},
   "outputs": [
    {
     "data": {
      "text/plain": [
       "array([[1. , 0. , 0. ],\n",
       "       [0. , 0.5, 0.5]])"
      ]
     },
     "execution_count": 9,
     "metadata": {},
     "output_type": "execute_result"
    }
   ],
   "source": [
    "pinv(A)"
   ]
  },
  {
   "cell_type": "code",
   "execution_count": 10,
   "id": "3c42f855-205f-42e6-91bb-bda732d40837",
   "metadata": {},
   "outputs": [
    {
     "name": "stdout",
     "output_type": "stream",
     "text": [
      "[[ 1 -6]\n",
      " [ 1 -2]\n",
      " [ 1  1]\n",
      " [ 1  7]]\n"
     ]
    }
   ],
   "source": [
    "A=np.array([1,-6,1,-2,1,1,1,7]).reshape(4,2)\n",
    "print(A)"
   ]
  },
  {
   "cell_type": "code",
   "execution_count": 11,
   "id": "c659b83c-515d-4ab4-92d8-a1b449ecfba4",
   "metadata": {},
   "outputs": [
    {
     "name": "stdout",
     "output_type": "stream",
     "text": [
      "[-1  2  1  6]\n"
     ]
    }
   ],
   "source": [
    "b=np.array([-1,2,1,6])\n",
    "print(b)"
   ]
  },
  {
   "cell_type": "code",
   "execution_count": 12,
   "id": "5ae2f24a-7e4f-4ee3-bf81-88f6ff0d2b95",
   "metadata": {},
   "outputs": [
    {
     "name": "stdout",
     "output_type": "stream",
     "text": [
      "[2.  0.5]\n"
     ]
    }
   ],
   "source": [
    "z=pinv(A)@b\n",
    "print(z)"
   ]
  },
  {
   "cell_type": "code",
   "execution_count": 14,
   "id": "2f55c63f-4de5-4597-9fc1-5c95024f65b9",
   "metadata": {},
   "outputs": [
    {
     "name": "stderr",
     "output_type": "stream",
     "text": [
      "C:\\Users\\Admin\\AppData\\Local\\Temp\\ipykernel_24640\\1814808541.py:1: FutureWarning: `rcond` parameter will change to the default of machine precision times ``max(M, N)`` where M and N are the input matrix dimensions.\n",
      "To use the future default and silence this warning we advise to pass `rcond=None`, to keep using the old, explicitly pass `rcond=-1`.\n",
      "  lstsq(A,b)[0]\n"
     ]
    },
    {
     "data": {
      "text/plain": [
       "array([2. , 0.5])"
      ]
     },
     "execution_count": 14,
     "metadata": {},
     "output_type": "execute_result"
    }
   ],
   "source": [
    "lstsq(A,b)[0]"
   ]
  },
  {
   "cell_type": "code",
   "execution_count": 15,
   "id": "b06832a9-0733-4f64-8f84-17a013cbe008",
   "metadata": {},
   "outputs": [
    {
     "name": "stderr",
     "output_type": "stream",
     "text": [
      "C:\\Users\\Admin\\AppData\\Local\\Temp\\ipykernel_24640\\3582444113.py:1: FutureWarning: `rcond` parameter will change to the default of machine precision times ``max(M, N)`` where M and N are the input matrix dimensions.\n",
      "To use the future default and silence this warning we advise to pass `rcond=None`, to keep using the old, explicitly pass `rcond=-1`.\n",
      "  lstsq(A,b)\n"
     ]
    },
    {
     "data": {
      "text/plain": [
       "(array([2. , 0.5]), array([3.5]), 2, array([9.48683298, 2.        ]))"
      ]
     },
     "execution_count": 15,
     "metadata": {},
     "output_type": "execute_result"
    }
   ],
   "source": [
    "lstsq(A,b)"
   ]
  },
  {
   "cell_type": "code",
   "execution_count": null,
   "id": "2545f4cf-ffbe-44ce-87c7-a0b70884d783",
   "metadata": {},
   "outputs": [],
   "source": []
  }
 ],
 "metadata": {
  "kernelspec": {
   "display_name": "Python 3 (ipykernel)",
   "language": "python",
   "name": "python3"
  },
  "language_info": {
   "codemirror_mode": {
    "name": "ipython",
    "version": 3
   },
   "file_extension": ".py",
   "mimetype": "text/x-python",
   "name": "python",
   "nbconvert_exporter": "python",
   "pygments_lexer": "ipython3",
   "version": "3.8.12"
  }
 },
 "nbformat": 4,
 "nbformat_minor": 5
}
