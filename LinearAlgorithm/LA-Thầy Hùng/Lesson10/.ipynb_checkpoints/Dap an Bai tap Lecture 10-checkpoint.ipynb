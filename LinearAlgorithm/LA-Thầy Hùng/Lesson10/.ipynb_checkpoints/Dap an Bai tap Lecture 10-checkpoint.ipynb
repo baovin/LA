{
 "cells": [
  {
   "cell_type": "code",
   "execution_count": 2,
   "metadata": {},
   "outputs": [],
   "source": [
    "import numpy as np\n",
    "import pandas as pd\n",
    "from numpy import linalg as LA"
   ]
  },
  {
   "cell_type": "markdown",
   "metadata": {},
   "source": [
    "## Bài 1: Ma trận không âm"
   ]
  },
  {
   "cell_type": "code",
   "execution_count": 5,
   "metadata": {},
   "outputs": [
    {
     "name": "stdout",
     "output_type": "stream",
     "text": [
      "[[0 1 0]\n",
      " [3 0 3]\n",
      " [0 2 0]]\n"
     ]
    }
   ],
   "source": [
    "A=np.array([0, 1, 0, 3, 0, 3, 0, 2,0]).reshape(3,3)\n",
    "print(A)"
   ]
  },
  {
   "cell_type": "code",
   "execution_count": 7,
   "metadata": {},
   "outputs": [
    {
     "name": "stdout",
     "output_type": "stream",
     "text": [
      "[-3. -0.  3.]\n",
      "[[ 0.2673  0.7071  0.2673]\n",
      " [-0.8018 -0.      0.8018]\n",
      " [ 0.5345 -0.7071  0.5345]]\n"
     ]
    }
   ],
   "source": [
    "lam,v=LA.eig(A)\n",
    "print(lam.round(4))\n",
    "print(v.round(4))"
   ]
  },
  {
   "cell_type": "code",
   "execution_count": 12,
   "metadata": {},
   "outputs": [
    {
     "name": "stdout",
     "output_type": "stream",
     "text": [
      "Giá trị Perron:  3.0\n",
      "Véc-tơ Perron:  [0.1667 0.5    0.3333]\n"
     ]
    }
   ],
   "source": [
    "print(\"Giá trị Perron: \",lam.max())\n",
    "pv=v[:,np.argmax(lam)]/v[:,np.argmax(lam)].sum()\n",
    "print(\"Véc-tơ Perron: \", pv.round(4))"
   ]
  },
  {
   "cell_type": "code",
   "execution_count": 18,
   "metadata": {},
   "outputs": [
    {
     "name": "stdout",
     "output_type": "stream",
     "text": [
      "[-3.00000000e+00 -3.81639165e-16  3.00000000e+00]\n"
     ]
    }
   ],
   "source": [
    "print(lam)"
   ]
  },
  {
   "cell_type": "markdown",
   "metadata": {},
   "source": [
    "* Ma trận $A$ chỉ có duy nhất một giá trị riêng dương nên $A$ không rút gọn được."
   ]
  },
  {
   "cell_type": "markdown",
   "metadata": {},
   "source": []
  },
  {
   "cell_type": "markdown",
   "metadata": {},
   "source": [
    "# Lee and Seung Algortihm"
   ]
  },
  {
   "cell_type": "code",
   "execution_count": 1,
   "metadata": {},
   "outputs": [],
   "source": [
    "import numpy as np\n",
    "def seung_objective(X, W, H):\n",
    "    ''' calculated the non-negative matrix factorization objective ||X-WH||\n",
    "        \n",
    "    Usage:\n",
    "        W, H = seung_update(X, W, H)\n",
    "    Parameters:\n",
    "        V: a (d x n)-array containing n observations in the columns\n",
    "        W: (d x k)-array of non-negative basis images (components)\n",
    "        H: (k x n)-array of weights, one column for each of the n observations\n",
    "    Returns:\n",
    "        F: a scalar objective\n",
    "    '''    \n",
    "    d, n = X.shape\n",
    "    WH = np.dot(W, H)\n",
    "\n",
    "    F = (X - WH).sum() / (d * n)\n",
    "    return F\n",
    "def seung_updateW(V, W, H):\n",
    "    ''' performs the multiplicative non-negative matrix factorization updates for W\n",
    "        \n",
    "    Usage:\n",
    "        W, H = seung_update(V, W, H)\n",
    "    Parameters:\n",
    "        V: a (d x n)-array containing n observations in the columns\n",
    "        W: (d x k)-array of non-negative basis images (components)\n",
    "        H: (k x n)-array of weights, one column for each of the n observations\n",
    "    Returns:\n",
    "        W: (d x k)-array of updated non-negative basis images (components)\n",
    "    '''\n",
    "    \n",
    "    WH = np.dot(W, H)\n",
    "    W_new = W * np.dot(V / WH, H.T)\n",
    "    W_new = W_new / np.sum(W_new, axis=0, keepdims=True)    \n",
    "    return W_new\n",
    "\n",
    "def seung_updateH(V, W, H):\n",
    "    ''' performs the multiplicative non-negative matrix factorization updates\n",
    "        \n",
    "    Usage:\n",
    "        W, H = seung_update(V, W, H)\n",
    "    Parameters:\n",
    "        V: a (d x n)-array containing n observations in the columns\n",
    "        W: (d x k)-array of non-negative basis images (components)\n",
    "        H: (k x n)-array of weights, one column for each of the n observations\n",
    "    Returns:\n",
    "        H: (k x n)-array of updated weights, one column for each of the n observations\n",
    "    '''\n",
    "    \n",
    "    WH = np.dot(W, H)\n",
    "    H_new = H * np.dot((V / WH).T, W).T\n",
    "    return H_new\n",
    "\n",
    "\n",
    "def seung_nmf(V, k, threshold=1e-5, maxiter=500):\n",
    "    ''' decomposes X into r components by non-negative matrix factorization\n",
    "        \n",
    "    Usage:\n",
    "        W, H = seung_nmf(X, r)\n",
    "    Parameters:\n",
    "        V: a (d x n)-array containing n observations in the columns\n",
    "        k: number of components to extract\n",
    "        threshold: relative error threshold of the iteration\n",
    "        maxiter: maximum number of iterations\n",
    "    Returns:\n",
    "        W: (d x k)-array of non-negative basis images (components)\n",
    "        H: (k x n)-array of weights, one column for each of the n observations\n",
    "    '''\n",
    "    \n",
    "    d, n = V.shape\n",
    "    W = np.random.rand(d, k)\n",
    "    H = np.random.rand(k, n)\n",
    "    F = seung_objective(V, W, H)\n",
    "    \n",
    "    it_no = 0\n",
    "    converged = False\n",
    "\n",
    "    while (not converged) and it_no <= maxiter:\n",
    "        W_new = seung_updateW(V, W, H)\n",
    "        H_new = seung_updateH(V, W_new, H)    \n",
    "        F_new = seung_objective(V, W_new, H_new)\n",
    "\n",
    "        converged = np.abs(F_new - F) <= threshold \n",
    "        W, H = W_new, H_new\n",
    "        it_no = it_no + 1\n",
    "    \n",
    "    return W, H"
   ]
  },
  {
   "cell_type": "code",
   "execution_count": 2,
   "metadata": {},
   "outputs": [],
   "source": [
    "import numpy as np\n",
    "from numpy.linalg import lstsq\n",
    "\n",
    "def als(A, k, num_iter=100, init_W = None, init_H = None):\n",
    "    # Initialize W and H\n",
    "    if init_W is None:\n",
    "        W = np.random.rand(np.size(A, 0), k)\n",
    "    else:\n",
    "        W = init_W\n",
    "\n",
    "    if init_H is None:\n",
    "        H = np.random.rand(k, np.size(A, 1))\n",
    "    else:\n",
    "        H = init_H\n",
    "\n",
    "    # Decompose the input matrix\n",
    "    for n in range(num_iter):\n",
    "        # Update H\n",
    "        # Solve the least squares problem: argmin_H ||WH - A||\n",
    "        H = lstsq(W, A, rcond = -1)[0]\n",
    "        # Set negative elements of H to 0\n",
    "        H[H < 0] = 0\n",
    "\n",
    "        # Update W\n",
    "        # Solve the least squares problem: argmin_W.T ||H.TW.T - A.T||\n",
    "        W = lstsq(H.T, A.T, rcond = -1)[0].T\n",
    "\n",
    "        # Set negative elements of W to 0\n",
    "        W[W < 0] = 0\n",
    "\n",
    "    return W, H"
   ]
  },
  {
   "cell_type": "code",
   "execution_count": null,
   "metadata": {},
   "outputs": [],
   "source": []
  },
  {
   "cell_type": "markdown",
   "metadata": {},
   "source": [
    "## Dữ liệu Faces dataset"
   ]
  },
  {
   "cell_type": "code",
   "execution_count": 3,
   "metadata": {},
   "outputs": [],
   "source": [
    "import numpy as np\n",
    "import pandas as pd\n",
    "import matplotlib.pyplot as plt\n",
    "from sklearn import decomposition\n",
    "from sklearn.datasets import fetch_olivetti_faces"
   ]
  },
  {
   "cell_type": "code",
   "execution_count": 4,
   "metadata": {},
   "outputs": [
    {
     "name": "stdout",
     "output_type": "stream",
     "text": [
      "downloading Olivetti faces from https://ndownloader.figshare.com/files/5976027 to C:\\Users\\tvlon\\scikit_learn_data\n"
     ]
    }
   ],
   "source": [
    "# Load faces data\n",
    "faces, _ = fetch_olivetti_faces(return_X_y=True, shuffle=True)"
   ]
  },
  {
   "cell_type": "code",
   "execution_count": 5,
   "metadata": {},
   "outputs": [],
   "source": [
    "n_samples, n_features = faces.shape"
   ]
  },
  {
   "cell_type": "code",
   "execution_count": 6,
   "metadata": {},
   "outputs": [
    {
     "data": {
      "text/plain": [
       "(400, 4096)"
      ]
     },
     "execution_count": 6,
     "metadata": {},
     "output_type": "execute_result"
    }
   ],
   "source": [
    "faces.shape"
   ]
  },
  {
   "cell_type": "code",
   "execution_count": 7,
   "metadata": {},
   "outputs": [
    {
     "name": "stdout",
     "output_type": "stream",
     "text": [
      "Dataset consists of 400 faces\n"
     ]
    }
   ],
   "source": [
    "print(\"Dataset consists of %d faces\" % n_samples)"
   ]
  },
  {
   "cell_type": "markdown",
   "metadata": {},
   "source": [
    "## Bài 2: Thực hiện thuật toán Lee-Seung với dữ liệu faces."
   ]
  },
  {
   "cell_type": "code",
   "execution_count": 27,
   "metadata": {},
   "outputs": [],
   "source": [
    "W,H=seung_nmf(faces,k=5)"
   ]
  },
  {
   "cell_type": "code",
   "execution_count": 28,
   "metadata": {},
   "outputs": [
    {
     "data": {
      "text/plain": [
       "121.83820478508709"
      ]
     },
     "execution_count": 28,
     "metadata": {},
     "output_type": "execute_result"
    }
   ],
   "source": [
    "np.linalg.norm(faces-W.dot(H))"
   ]
  },
  {
   "cell_type": "code",
   "execution_count": 29,
   "metadata": {},
   "outputs": [
    {
     "data": {
      "image/png": "[encoded data removed]",
      "text/plain": [
       "<Figure size 432x288 with 1 Axes>"
      ]
     },
     "metadata": {
      "needs_background": "light"
     },
     "output_type": "display_data"
    }
   ],
   "source": [
    "X1=W[0,:].dot(H)\n",
    "img=X1.reshape(64,64)\n",
    "plt.imshow(img,cmap='gray')\n",
    "plt.show()"
   ]
  },
  {
   "cell_type": "code",
   "execution_count": null,
   "metadata": {},
   "outputs": [],
   "source": []
  },
  {
   "cell_type": "code",
   "execution_count": null,
   "metadata": {},
   "outputs": [],
   "source": []
  },
  {
   "cell_type": "code",
   "execution_count": null,
   "metadata": {},
   "outputs": [],
   "source": []
  },
  {
   "cell_type": "markdown",
   "metadata": {},
   "source": [
    "## Bài 3: Thực hiện thuật toán ALS với dữ liệu faces."
   ]
  },
  {
   "cell_type": "code",
   "execution_count": 34,
   "metadata": {},
   "outputs": [],
   "source": [
    "W,H=als(faces,k=5)"
   ]
  },
  {
   "cell_type": "code",
   "execution_count": 35,
   "metadata": {},
   "outputs": [
    {
     "data": {
      "text/plain": [
       "122.37609272217304"
      ]
     },
     "execution_count": 35,
     "metadata": {},
     "output_type": "execute_result"
    }
   ],
   "source": [
    "np.linalg.norm(faces-W.dot(H))"
   ]
  },
  {
   "cell_type": "code",
   "execution_count": 36,
   "metadata": {},
   "outputs": [
    {
     "data": {
      "image/png": "[encoded data removed]",
      "text/plain": [
       "<Figure size 432x288 with 1 Axes>"
      ]
     },
     "metadata": {
      "needs_background": "light"
     },
     "output_type": "display_data"
    }
   ],
   "source": [
    "X1=W[0,:].dot(H)\n",
    "img=X1.reshape(64,64)\n",
    "plt.imshow(img,cmap='gray')\n",
    "plt.show()"
   ]
  },
  {
   "cell_type": "code",
   "execution_count": null,
   "metadata": {},
   "outputs": [],
   "source": []
  },
  {
   "cell_type": "code",
   "execution_count": null,
   "metadata": {},
   "outputs": [],
   "source": []
  },
  {
   "cell_type": "code",
   "execution_count": null,
   "metadata": {},
   "outputs": [],
   "source": []
  },
  {
   "cell_type": "markdown",
   "metadata": {},
   "source": [
    "## Bài 4: Thực hiện thư viện sklearn.decomposition.NMF với dữ liệu faces.\n"
   ]
  },
  {
   "cell_type": "code",
   "execution_count": 9,
   "metadata": {},
   "outputs": [],
   "source": [
    "from sklearn.decomposition import NMF"
   ]
  },
  {
   "cell_type": "code",
   "execution_count": 16,
   "metadata": {},
   "outputs": [],
   "source": [
    "n_components=5\n",
    "model=decomposition.NMF(n_components=n_components, init='nndsvda', tol=5e-3)"
   ]
  },
  {
   "cell_type": "code",
   "execution_count": 17,
   "metadata": {},
   "outputs": [],
   "source": [
    "W = model.fit_transform(faces)"
   ]
  },
  {
   "cell_type": "code",
   "execution_count": 18,
   "metadata": {},
   "outputs": [
    {
     "data": {
      "text/plain": [
       "(400, 5)"
      ]
     },
     "execution_count": 18,
     "metadata": {},
     "output_type": "execute_result"
    }
   ],
   "source": [
    "W.shape"
   ]
  },
  {
   "cell_type": "code",
   "execution_count": 19,
   "metadata": {},
   "outputs": [],
   "source": [
    "H = model.components_"
   ]
  },
  {
   "cell_type": "code",
   "execution_count": 20,
   "metadata": {},
   "outputs": [
    {
     "data": {
      "text/plain": [
       "(5, 4096)"
      ]
     },
     "execution_count": 20,
     "metadata": {},
     "output_type": "execute_result"
    }
   ],
   "source": [
    "H.shape"
   ]
  },
  {
   "cell_type": "code",
   "execution_count": 21,
   "metadata": {},
   "outputs": [
    {
     "data": {
      "text/plain": [
       "121.61366"
      ]
     },
     "execution_count": 21,
     "metadata": {},
     "output_type": "execute_result"
    }
   ],
   "source": [
    "np.linalg.norm(faces-W.dot(H))"
   ]
  },
  {
   "cell_type": "code",
   "execution_count": null,
   "metadata": {},
   "outputs": [],
   "source": []
  },
  {
   "cell_type": "markdown",
   "metadata": {},
   "source": [
    "#### Phân tích ảnh"
   ]
  },
  {
   "cell_type": "code",
   "execution_count": 22,
   "metadata": {},
   "outputs": [],
   "source": [
    "X1=W[0,:].dot(H)"
   ]
  },
  {
   "cell_type": "code",
   "execution_count": 23,
   "metadata": {},
   "outputs": [
    {
     "data": {
      "text/plain": [
       "(4096,)"
      ]
     },
     "execution_count": 23,
     "metadata": {},
     "output_type": "execute_result"
    }
   ],
   "source": [
    "X1.shape"
   ]
  },
  {
   "cell_type": "code",
   "execution_count": 24,
   "metadata": {},
   "outputs": [],
   "source": [
    "img=X1.reshape(64,64)"
   ]
  },
  {
   "cell_type": "code",
   "execution_count": 25,
   "metadata": {},
   "outputs": [
    {
     "data": {
      "image/png": "[encoded data removed]",
      "text/plain": [
       "<Figure size 432x288 with 1 Axes>"
      ]
     },
     "metadata": {
      "needs_background": "light"
     },
     "output_type": "display_data"
    }
   ],
   "source": [
    "plt.imshow(img,cmap='gray')\n",
    "plt.show()"
   ]
  },
  {
   "cell_type": "code",
   "execution_count": 62,
   "metadata": {},
   "outputs": [],
   "source": [
    "H1=H[0,:]"
   ]
  },
  {
   "cell_type": "code",
   "execution_count": 65,
   "metadata": {},
   "outputs": [
    {
     "data": {
      "image/png": "[encoded data removed]",
      "text/plain": [
       "<Figure size 432x288 with 1 Axes>"
      ]
     },
     "metadata": {
      "needs_background": "light"
     },
     "output_type": "display_data"
    },
    {
     "data": {
      "image/png": "[encoded data removed]",
      "text/plain": [
       "<Figure size 432x288 with 1 Axes>"
      ]
     },
     "metadata": {
      "needs_background": "light"
     },
     "output_type": "display_data"
    },
    {
     "data": {
      "image/png": "[encoded data removed]",
      "text/plain": [
       "<Figure size 432x288 with 1 Axes>"
      ]
     },
     "metadata": {
      "needs_background": "light"
     },
     "output_type": "display_data"
    },
    {
     "data": {
      "image/png": "[encoded data removed]",
      "text/plain": [
       "<Figure size 432x288 with 1 Axes>"
      ]
     },
     "metadata": {
      "needs_background": "light"
     },
     "output_type": "display_data"
    },
    {
     "data": {
      "image/png": "[encoded data removed]",
      "text/plain": [
       "<Figure size 432x288 with 1 Axes>"
      ]
     },
     "metadata": {
      "needs_background": "light"
     },
     "output_type": "display_data"
    }
   ],
   "source": [
    "for k in range(5):\n",
    "    plt.imshow(H[k,:].reshape(64,64),cmap='gray')\n",
    "    plt.show()"
   ]
  },
  {
   "cell_type": "code",
   "execution_count": null,
   "metadata": {},
   "outputs": [],
   "source": []
  }
 ],
 "metadata": {
  "kernelspec": {
   "display_name": "Python 3",
   "language": "python",
   "name": "python3"
  },
  "language_info": {
   "codemirror_mode": {
    "name": "ipython",
    "version": 3
   },
   "file_extension": ".py",
   "mimetype": "text/x-python",
   "name": "python",
   "nbconvert_exporter": "python",
   "pygments_lexer": "ipython3",
   "version": "3.8.8"
  }
 },
 "nbformat": 4,
 "nbformat_minor": 4
}
