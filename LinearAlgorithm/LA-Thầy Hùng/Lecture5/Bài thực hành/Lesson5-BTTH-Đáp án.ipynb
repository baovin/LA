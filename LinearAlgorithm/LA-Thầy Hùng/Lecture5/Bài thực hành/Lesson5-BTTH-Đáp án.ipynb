{
 "cells": [
  {
   "cell_type": "markdown",
   "metadata": {},
   "source": [
    "# Bài thực hành 5\n",
    "### Môn: Linear Algebra"
   ]
  },
  {
   "cell_type": "code",
   "execution_count": 1,
   "metadata": {},
   "outputs": [],
   "source": [
    "import numpy as np"
   ]
  },
  {
   "cell_type": "markdown",
   "metadata": {},
   "source": [
    "### Bài tập 1\n",
    "Cho các véc tơ ${\\bf x}_1=\\left[\\begin{matrix}\n",
    "1 \\\\\n",
    "5 \\\\\n",
    "-6\\\\\n",
    "3\n",
    "\\end{matrix}\\right],\\,{\\bf x}_2=\\left[\\begin{matrix}\n",
    "-3 \\\\\n",
    "11 \\\\\n",
    "-9 \\\\\n",
    "12\n",
    "\\end{matrix}\\right],\\,{\\bf x}_3=\\left[\\begin{matrix}\n",
    "-10 \\\\\n",
    "9 \\\\\n",
    "-4 \\\\\n",
    "4\n",
    "\\end{matrix}\\right]$ và ${\\bf y}=\\left[\\begin{matrix}\n",
    "0 \\\\\n",
    "0 \\\\\n",
    "0 \\\\\n",
    "-1\n",
    "\\end{matrix}\\right]$. \n",
    "* Hãy xây dựng một cơ sở trực giao cho $W=\\mathrm{span}\\{{\\bf x}_1,{\\bf x}_2,{\\bf x}_3\\}$.\n",
    "* Tìm hình chiếu trực giao của $\\bf y$ trên $W$"
   ]
  },
  {
   "cell_type": "code",
   "execution_count": 2,
   "metadata": {},
   "outputs": [],
   "source": [
    "x1 = np.array([1,5,-6,3])\n",
    "x2 = np.array([-3,11,-9,12])\n",
    "x3 = np.array([-10,9,-4,4])\n",
    "\n",
    "# Thủ tục Gram-Schmidt\n",
    "X = np.vstack([x1,x2,x3])\n",
    "n = len(X)\n",
    "A = [X[0]]      # orthonormal set\n",
    "\n",
    "# Trực giao hóa\n",
    "for i in range(1,n):\n",
    "    u = X[i].copy()\n",
    "    for v in A:\n",
    "        if v.any()!=0:\n",
    "            u = np.around(u-(np.inner(u,v)/np.inner(v,v))*v,10)\n",
    "    if u.any()!=0:\n",
    "        A.append(u)\n",
    "\n",
    "# Trực chuẩn hóa\n",
    "for i in range(len(A)):\n",
    "    v = A[i]\n",
    "    A[i] = np.around(1/np.linalg.norm(v)*v,10)\n",
    "A=np.array(A)"
   ]
  },
  {
   "cell_type": "code",
   "execution_count": 3,
   "metadata": {},
   "outputs": [
    {
     "name": "stdout",
     "output_type": "stream",
     "text": [
      "Cơ sở trực giao của W:\n",
      "[ 0.11867817  0.59339083 -0.71206899  0.3560345 ]\n",
      "[-0.59339083  0.11867817  0.3560345   0.71206899]\n",
      "[-0.71206899  0.3560345  -0.11867817 -0.59339083]\n"
     ]
    }
   ],
   "source": [
    "print('Cơ sở trực giao của W:')\n",
    "for a in A:\n",
    "    print(a)"
   ]
  },
  {
   "cell_type": "code",
   "execution_count": 4,
   "metadata": {},
   "outputs": [
    {
     "name": "stdout",
     "output_type": "stream",
     "text": [
      "Hình chiếu trực giao trên W: [-0.04225352 -0.08450704 -0.07042254 -0.98591549]\n"
     ]
    }
   ],
   "source": [
    "y = np.array([0,0,0,-1])\n",
    "y_p = np.zeros(4)\n",
    "for a in A:\n",
    "    y_p +=np.dot(y,a)/np.inner(a,a)*a\n",
    "print(\"Hình chiếu trực giao trên W:\",y_p)"
   ]
  },
  {
   "cell_type": "markdown",
   "metadata": {},
   "source": [
    "### Bài tập 2\n",
    "\n",
    "Cho ma trận: \n",
    "$${\\bf A}=\\left[\\begin{matrix}\n",
    "1 & 3 & -7\\\\\n",
    "2 & 1 & 1\\\\\n",
    "-2 & 7 & 11\\\\\n",
    "9 & 11 & 3\n",
    "\\end{matrix}\\right],\\ \n",
    "{\\bf b}=\\left[\\begin{matrix}\n",
    "3\\\\\n",
    "1\\\\\n",
    "-1\\\\\n",
    "3\n",
    "\\end{matrix}\\right]$$\n",
    "* Thực hiện phân tích QR cho ma trận ${\\bf A}$.\n",
    "* Tìm nghiệm bình phương cực tiểu của ${\\bf A}{\\bf x}={\\bf b}$ bằng phân tích QR.\n",
    "* Tìm một cơ sở trực chuẩn của không gian cột của $A$."
   ]
  },
  {
   "cell_type": "code",
   "execution_count": 5,
   "metadata": {},
   "outputs": [
    {
     "name": "stdout",
     "output_type": "stream",
     "text": [
      "Ma trận A, Q, R theo thứ tự:\n",
      "[[ 1  3 -7]\n",
      " [ 2  1  1]\n",
      " [-2  7 11]\n",
      " [ 9 11  3]]\n",
      "[[-0.10540926  0.21081851  0.9486833 ]\n",
      " [-0.21081851 -0.10540926 -0.21081851]\n",
      " [ 0.21081851  0.9486833  -0.21081851]\n",
      " [-0.9486833   0.21081851 -0.10540926]]\n",
      "[[-9.48683298 -9.48683298  0.        ]\n",
      " [ 0.          9.48683298  9.48683298]\n",
      " [ 0.          0.         -9.48683298]]\n"
     ]
    }
   ],
   "source": [
    "a=np.array([[1,3,-7],[2,1,1],[-2,7,11],[9,11,3]])\n",
    "q,r=np.linalg.qr(a)\n",
    "print(\"Ma trận A, Q, R theo thứ tự:\")\n",
    "print(a,q,r,sep=\"\\n\")"
   ]
  },
  {
   "cell_type": "code",
   "execution_count": 6,
   "metadata": {},
   "outputs": [
    {
     "name": "stdout",
     "output_type": "stream",
     "text": [
      "Nghiệm: [ 0.08888889  0.28888889 -0.26666667]\n"
     ]
    }
   ],
   "source": [
    "b=np.array([3,1,-1,3])\n",
    "rinv=np.linalg.inv(r)\n",
    "qt=q.T\n",
    "print(\"Nghiệm:\",np.dot(np.dot(rinv,qt),b))"
   ]
  },
  {
   "cell_type": "code",
   "execution_count": 7,
   "metadata": {},
   "outputs": [
    {
     "name": "stdout",
     "output_type": "stream",
     "text": [
      "Cơ sở trực chuẩn:\n",
      "[-0.10540926 -0.21081851  0.21081851 -0.9486833 ]\n",
      "[ 0.21081851 -0.10540926  0.9486833   0.21081851]\n",
      "[ 0.9486833  -0.21081851 -0.21081851 -0.10540926]\n"
     ]
    }
   ],
   "source": [
    "print(\"Cơ sở trực chuẩn:\")\n",
    "for i in range(q.shape[1]):\n",
    "    print(q[:,i])"
   ]
  },
  {
   "cell_type": "markdown",
   "metadata": {},
   "source": [
    "### Bài 3 (Đo khoảng cách giữa các văn bản)\n",
    "\n",
    "Mỗi văn bản được mô tả bởi 1 véc tơ $v\\in\\mathbb{R}^D$, ở đó $D$ là số lượng từ phân biệt có thể có. Mỗi thành phần toạ độ của $v$ tương ứng với 1 từ và ghi số từ có trong văn bản. Giả sử xét các đoạn văn bản sau:\n",
    "> * $D_1$: *Tôi là An*.\n",
    "> * $D_2$: *Tôi thích xem phim*.\n",
    "> * $D_3$: *An là tên tôi*.\n",
    "> * $D_4$: *Tôi rất rất thích đi du lịch, An là tên tôi*.\n",
    "\n",
    "* Viết toạ độ của các văn bản trong không gian 11 chiều với toạ độ tương ứng với danh sách các từ sau:\n",
    "> (*An, du, đi, là, lịch, phim, rất, tên, thích, tôi, xem*)\n",
    "* Tính khoảng cách Euclide giữa các văn bản $D_1,D_2,D_3$, và $D_4$.\n"
   ]
  },
  {
   "cell_type": "code",
   "execution_count": 8,
   "metadata": {},
   "outputs": [
    {
     "name": "stdout",
     "output_type": "stream",
     "text": [
      "Khoảng cách d1 và d2 là 2.23606797749979\n",
      "Khoảng cách d1 và d3 là 1.0\n",
      "Khoảng cách d1 và d4 là 3.1622776601683795\n",
      "Khoảng cách d2 và d3 là 2.449489742783178\n",
      "Khoảng cách d2 và d4 là 3.605551275463989\n",
      "Khoảng cách d3 và d4 là 3.0\n"
     ]
    }
   ],
   "source": [
    "d1 = np.array([1,0,0,1,0,0,0,0,0,1,0])\n",
    "d2 = np.array([0,0,0,0,0,1,0,0,1,1,1])\n",
    "d3 = np.array([1,0,0,1,0,0,0,1,0,1,0])\n",
    "d4 = np.array([1,1,1,1,1,0,2,1,1,2,0])\n",
    "D = np.vstack([d1,d2,d3,d4])\n",
    "for i in range(len(D)):\n",
    "    for j in range(i+1,len(D)):\n",
    "        print('Khoảng cách d{} và d{} là'.format(i+1,j+1), np.linalg.norm(D[i]-D[j]))"
   ]
  },
  {
   "cell_type": "code",
   "execution_count": null,
   "metadata": {},
   "outputs": [],
   "source": []
  }
 ],
 "metadata": {
  "kernelspec": {
   "display_name": "Python 3",
   "language": "python",
   "name": "python3"
  },
  "language_info": {
   "codemirror_mode": {
    "name": "ipython",
    "version": 3
   },
   "file_extension": ".py",
   "mimetype": "text/x-python",
   "name": "python",
   "nbconvert_exporter": "python",
   "pygments_lexer": "ipython3",
   "version": "3.8.8"
  }
 },
 "nbformat": 4,
 "nbformat_minor": 4
}
