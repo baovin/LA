{
 "cells": [
  {
   "cell_type": "markdown",
   "metadata": {},
   "source": [
    "# Bài thực hành 4\n",
    "### Môn: Linear Algebra"
   ]
  },
  {
   "cell_type": "code",
   "execution_count": 1,
   "metadata": {},
   "outputs": [],
   "source": [
    "import numpy as np\n",
    "from scipy import linalg\n",
    "from scipy.optimize import curve_fit\n",
    "import matplotlib.pyplot as plt"
   ]
  },
  {
   "cell_type": "code",
   "execution_count": 11,
   "metadata": {},
   "outputs": [
    {
     "name": "stdout",
     "output_type": "stream",
     "text": [
      "[[ 0  2]\n",
      " [ 2  2]\n",
      " [-1  0]]\n"
     ]
    }
   ],
   "source": [
    "v1 = np.array([0, 2, -1])\n",
    "v2 = np.array([2, 2, 0])\n",
    "v3 = np.array([6, 16, -5])\n",
    "\n",
    "A = np.vstack([v1, v2]).T\n",
    "print(A)\n",
    "\n"
   ]
  },
  {
   "cell_type": "code",
   "execution_count": 8,
   "metadata": {},
   "outputs": [
    {
     "name": "stderr",
     "output_type": "stream",
     "text": [
      "C:\\Users\\baotg2\\AppData\\Local\\Temp\\ipykernel_21532\\2008512070.py:3: LinAlgWarning: Diagonal number 3 is exactly zero. Singular matrix.\n",
      "  lu,piv = linalg.lu_factor(A)\n"
     ]
    },
    {
     "data": {
      "text/plain": [
       "array([nan, nan, nan])"
      ]
     },
     "execution_count": 8,
     "metadata": {},
     "output_type": "execute_result"
    }
   ],
   "source": [
    "from scipy import linalg\n",
    "\n",
    "lu,piv = linalg.lu_factor(A)\n",
    "linalg.lu_solve((lu,piv),v3)"
   ]
  },
  {
   "cell_type": "code",
   "execution_count": 16,
   "metadata": {},
   "outputs": [
    {
     "name": "stdout",
     "output_type": "stream",
     "text": [
      "2\n",
      "Hệ phương trình có nghiệm duy nhất\n",
      "[5. 3.]\n"
     ]
    }
   ],
   "source": [
    "print(np.linalg.matrix_rank(A))\n",
    "A_mr = np.hstack([A, v3.reshape(-1,1)])\n",
    "rA = np.linalg.matrix_rank(A)\n",
    "rAm = np.linalg.matrix_rank(A_mr)\n",
    "if rA == rAm and rA ==2:\n",
    "    print(\"Hệ phương trình có nghiệm duy nhất\")\n",
    "    print(np.linalg.lstsq(A,v3,rcond=None)[0])"
   ]
  },
  {
   "cell_type": "code",
   "execution_count": 17,
   "metadata": {},
   "outputs": [
    {
     "name": "stdout",
     "output_type": "stream",
     "text": [
      "[[ 1  1 -1]\n",
      " [ 2  1 -2]\n",
      " [-3  0  1]\n",
      " [ 4  2  1]]\n"
     ]
    }
   ],
   "source": [
    "#  Kiểm tra tính độc lập ha phụ thuộc tuyến tính\n",
    "v1 = np.array([1,2,-3,4])\n",
    "v2 = np.array([1,1,0,2])\n",
    "v3 = np.array([-1,-2,1,1])\n",
    "\n",
    "A = np.vstack([v1,v2,v3]).T\n",
    "\n",
    "print(A)"
   ]
  },
  {
   "cell_type": "code",
   "execution_count": 18,
   "metadata": {},
   "outputs": [
    {
     "name": "stdout",
     "output_type": "stream",
     "text": [
      "Hệ vecto độc lập tuyến tính\n"
     ]
    }
   ],
   "source": [
    "rA = np.linalg.matrix_rank(A)\n",
    "\n",
    "if rA == 3: \n",
    "    print(\"Hệ vecto độc lập tuyến tính\")\n",
    "else: \n",
    "    print(\"Hệ vecto phụ thuộc tuyến tính\")"
   ]
  },
  {
   "cell_type": "code",
   "execution_count": 26,
   "metadata": {},
   "outputs": [],
   "source": [
    "# tìm cơ sở của không gian vector cho trước \n",
    "v1 = np.array([1,2,-1,-1])\n",
    "v2 = np.array([2,-1,1,2])\n",
    "v3 = np.array([3,-4,3,5])\n",
    "v4 = np.array([-1,8,-5,-6])\n",
    "\n",
    "A = np.vstack([v1,v2,v3,v4]).T"
   ]
  },
  {
   "cell_type": "code",
   "execution_count": 28,
   "metadata": {},
   "outputs": [
    {
     "ename": "TypeError",
     "evalue": "'tuple' object is not callable",
     "output_type": "error",
     "traceback": [
      "\u001b[1;31m---------------------------------------------------------------------------\u001b[0m",
      "\u001b[1;31mTypeError\u001b[0m                                 Traceback (most recent call last)",
      "Cell \u001b[1;32mIn[28], line 4\u001b[0m\n\u001b[0;32m      1\u001b[0m \u001b[38;5;28;01mfrom\u001b[39;00m \u001b[38;5;21;01mscipy\u001b[39;00m \u001b[38;5;28;01mimport\u001b[39;00m linalg\n\u001b[0;32m      3\u001b[0m lu \u001b[38;5;241m=\u001b[39m linalg\u001b[38;5;241m.\u001b[39mlu(A)\n\u001b[1;32m----> 4\u001b[0m lu(\u001b[38;5;241m-\u001b[39m\u001b[38;5;241m1\u001b[39m)\n",
      "\u001b[1;31mTypeError\u001b[0m: 'tuple' object is not callable"
     ]
    }
   ],
   "source": [
    "from scipy import linalg\n",
    "\n",
    "lu = linalg.lu(A)\n",
    "lu(-1)"
   ]
  },
  {
   "cell_type": "markdown",
   "metadata": {},
   "source": [
    "### Bài tập 1\n",
    "Cho hai không gian $U_1$ và $U_2$, trong đó $U_1$ được sinh bởi các cột của ma trận ${\\bf A}_1$, $U_2$ được sinh bởi các cột của ma trận ${\\bf A}_2$ với\n",
    "\n",
    "$${\\bf A}_1=\\left[\\begin{matrix}\n",
    "1 & 0 & 1\\\\\n",
    "1 & -2 & -1\\\\\n",
    "2 & 1 & 3\\\\\n",
    "1 & 0 & 1\n",
    "\\end{matrix}\\right],\\ \n",
    "{\\bf A}_2=\\left[\\begin{matrix}\n",
    "3 & -3 & 0\\\\\n",
    "1 & 2 & 3\\\\\n",
    "7 & -5 & 2\\\\\n",
    "3 & -1 & 2\n",
    "\\end{matrix}\\right]$$\n",
    "\n",
    "Xác định một cơ sở và số chiều của các không gian véc tơ sau đây:\n",
    "* $U_1$, $U_2$.\n",
    "* $U_3=U_1+U_2=\\{x=x_1+x_2\\,:\\,x_1\\in U_1,\\,x_2\\in U_2\\}$.\n",
    "* $U_4=U_1\\cap U_2=\\{x\\,:\\,x\\in U_1,\\,x\\in U_2\\}$."
   ]
  },
  {
   "cell_type": "code",
   "execution_count": null,
   "metadata": {},
   "outputs": [],
   "source": []
  },
  {
   "cell_type": "code",
   "execution_count": 29,
   "metadata": {},
   "outputs": [
    {
     "name": "stdout",
     "output_type": "stream",
     "text": [
      "ma trận chuyển tọa độ P =  [[ 6.  4.]\n",
      " [-5. -3.]]\n"
     ]
    }
   ],
   "source": [
    "# tìm ma trận chuyển tọa độ từ B sang C\n",
    "\n",
    "b1 = np.array([-9,1])\n",
    "b2 = np.array([-5,-1])\n",
    "c1 = np.array([1,-4])\n",
    "c2 = np.array([3,-5])\n",
    "\n",
    "B = np.vstack([b1,b2]).T\n",
    "C = np.vstack([c1,c2]).T\n",
    "print(\"ma trận chuyển tọa độ P = \", np.linalg.inv(C)@B)"
   ]
  },
  {
   "cell_type": "code",
   "execution_count": 30,
   "metadata": {},
   "outputs": [
    {
     "name": "stdout",
     "output_type": "stream",
     "text": [
      "[[-1.    -6.375]\n",
      " [-0.444 -2.211]\n",
      " [ 0.111  4.491]\n",
      " [ 0.667  0.146]\n",
      " [ 1.222  2.987]\n",
      " [ 1.778  2.545]\n",
      " [ 2.333  0.05 ]\n",
      " [ 2.889  4.134]\n",
      " [ 3.444 13.312]\n",
      " [ 4.    26.058]]\n"
     ]
    }
   ],
   "source": [
    "data = np.loadtxt(\"polyfit-data.csv\", delimiter=\",\")\n",
    "\n",
    "print(data)"
   ]
  },
  {
   "cell_type": "code",
   "execution_count": 31,
   "metadata": {},
   "outputs": [
    {
     "name": "stdout",
     "output_type": "stream",
     "text": [
      "Các hệ số trong mô hình: [ 2.10197554  3.27292648 -4.60377845  1.32026397]\n"
     ]
    }
   ],
   "source": [
    "x = data[:,0]\n",
    "y = data[:,1]\n",
    "\n",
    "X = np.vstack([np.ones(len(x)), x, x**2, x**3]).T\n",
    "b = np.linalg.lstsq(X,y, rcond=None)[0]\n",
    "print(\"Các hệ số trong mô hình:\", b)"
   ]
  },
  {
   "cell_type": "code",
   "execution_count": 32,
   "metadata": {},
   "outputs": [
    {
     "data": {
      "text/plain": [
       "<matplotlib.legend.Legend at 0x2b1553f0830>"
      ]
     },
     "execution_count": 32,
     "metadata": {},
     "output_type": "execute_result"
    },
    {
     "data": {
      "image/png": "[encoded data removed]",
      "text/plain": [
       "<Figure size 640x480 with 1 Axes>"
      ]
     },
     "metadata": {},
     "output_type": "display_data"
    }
   ],
   "source": [
    "import matplotlib.pyplot as plt\n",
    "\n",
    "plt.plot(x,y,'o',label='data points')\n",
    "y_predict = b[0] + b[1]*x + b[2]*x**2 + b[3]*x**3 \n",
    "plt.plot(x, y_predict, '-r', label = \"regression line\")\n",
    "plt.legend()"
   ]
  },
  {
   "cell_type": "code",
   "execution_count": 34,
   "metadata": {},
   "outputs": [
    {
     "name": "stdout",
     "output_type": "stream",
     "text": [
      "Các hệ số của mô hình [2.12683655e+02 6.41211439e-02]\n"
     ]
    }
   ],
   "source": [
    "data = np.loadtxt(\"michalis-menten.csv\", delimiter=\",\")\n",
    "x = data[:,0]\n",
    "y = data[:,1]\n",
    "f = lambda x, a, b: a*x/(b+x)\n",
    "p0 = [1,1] #giá trị xuất phát của a và b\n",
    "\n",
    "from scipy.optimize import curve_fit\n",
    "\n",
    "p = curve_fit(f, x, y, p0)[0]\n",
    "print(\"Các hệ số của mô hình\", p)\n"
   ]
  },
  {
   "cell_type": "code",
   "execution_count": 36,
   "metadata": {},
   "outputs": [
    {
     "data": {
      "text/plain": [
       "<matplotlib.legend.Legend at 0x2b156557c80>"
      ]
     },
     "execution_count": 36,
     "metadata": {},
     "output_type": "execute_result"
    },
    {
     "data": {
      "image/png": "[encoded data removed]",
      "text/plain": [
       "<Figure size 640x480 with 1 Axes>"
      ]
     },
     "metadata": {},
     "output_type": "display_data"
    }
   ],
   "source": [
    "plt.plot(x,y,'o',label='data points')\n",
    "X = np.linspace(x.min(), x.max(),5000)\n",
    "plt.plot(X, f(X,p[0],p[1]), '-r', label = \"michalis-menten line\")\n",
    "plt.legend()"
   ]
  },
  {
   "cell_type": "markdown",
   "metadata": {},
   "source": [
    "### Bài tập 2\n",
    "Cho các đa thức: \n",
    "$${\\bf p}_1(x)=1+x,\\,{\\bf p}_2(x)=1-x,\\,{\\bf p}_3(x)=4$$\n",
    "$${\\bf p}_4(x)=1+x^2,\\,{\\bf p}_5(x)=1+2x+x^2$$\n",
    "\n",
    "Gọi $H$ là không gian con của $\\mathbb{P}_5$ sinh bởi tập $S=\\{{\\bf p}_1,{\\bf p}_2,{\\bf p}_3,{\\bf p}_4,{\\bf p}_5\\}$.\n",
    "\n",
    "* Hãy tìm một cơ sở và số chiều của $H$.\n",
    "* Tìm tọa độ của ${\\bf q}=3-2x+x^2\\in H$ theo cơ sở tìm được."
   ]
  },
  {
   "cell_type": "code",
   "execution_count": null,
   "metadata": {},
   "outputs": [],
   "source": []
  },
  {
   "cell_type": "markdown",
   "metadata": {},
   "source": [
    "### Bài 3\n",
    "Trong xử lý tín hiệu số, phương trình sai phân cấp $n$:\n",
    "\n",
    "$$y_{k+3}-2y_{k+2}+9y_{k+1}-18y_k=z_k$$\n",
    "\n",
    "mô tả một bộ lọc tuyến tính với $\\{y_k\\}$ là tín hiệu vào và $\\{z_k\\}$ là tín hiệu ra. Trường hợp $z_k=0$ phương trình được gọi là thuần nhất. Tập tín hiệu vào $\\{y_k\\}$ thoả mãn phương trình thuần nhất là một không gian véc tơ 3 chiều $H$. Xét tập tín hiệu \n",
    "\n",
    "$$(\\mathcal{B})=\\left\\{2^k,\\,3^k\\sin\\left(\\frac{k\\pi}{2}\\right),\\,3^k\\cos\\left(\\frac{k\\pi}{2}\\right)\\right\\}$$\n",
    "\n",
    "* Chứng minh $(\\mathcal{B})$ gồm các nghiệm của phương trình thuần nhất.\n",
    "* Chứng minh $(\\mathcal{B})$ là một cơ sở của $H$."
   ]
  },
  {
   "cell_type": "code",
   "execution_count": null,
   "metadata": {},
   "outputs": [],
   "source": []
  }
 ],
 "metadata": {
  "kernelspec": {
   "display_name": "Python 3",
   "language": "python",
   "name": "python3"
  },
  "language_info": {
   "codemirror_mode": {
    "name": "ipython",
    "version": 3
   },
   "file_extension": ".py",
   "mimetype": "text/x-python",
   "name": "python",
   "nbconvert_exporter": "python",
   "pygments_lexer": "ipython3",
   "version": "3.12.4"
  }
 },
 "nbformat": 4,
 "nbformat_minor": 4
}
