{
 "cells": [
  {
   "cell_type": "markdown",
   "metadata": {},
   "source": [
    "# Bài tập về nhà 5\n",
    "### Môn: Linear Algebra"
   ]
  },
  {
   "cell_type": "code",
   "execution_count": 1,
   "metadata": {},
   "outputs": [],
   "source": [
    "import numpy as np"
   ]
  },
  {
   "cell_type": "markdown",
   "metadata": {},
   "source": [
    "### Bài tập 1\n",
    "Cho $U\\subset\\mathbb{R}^6$ và ${\\bf x}\\in\\mathbb{R}^5$ như sau:\n",
    "$$U=\\mathrm{span}\\left\\{\\left[\\begin{matrix}\n",
    "0 \\\\\n",
    "-1 \\\\\n",
    "2 \\\\\n",
    "0 \\\\\n",
    "2\n",
    "\\end{matrix}\\right],\\,\\left[\\begin{matrix}\n",
    "1 \\\\\n",
    "-3 \\\\\n",
    "1 \\\\\n",
    "-1 \\\\\n",
    "2\n",
    "\\end{matrix}\\right],\\,\\left[\\begin{matrix}\n",
    "-3 \\\\\n",
    "4 \\\\\n",
    "1 \\\\\n",
    "2 \\\\\n",
    "1\n",
    "\\end{matrix}\\right],\\,\\left[\\begin{matrix}\n",
    "-1 \\\\\n",
    "-3 \\\\\n",
    "5 \\\\\n",
    "0 \\\\\n",
    "7\n",
    "\\end{matrix}\\right]\\right\\},\\,{\\bf x}=\\left[\\begin{matrix}\n",
    "-1 \\\\\n",
    "-9 \\\\\n",
    "-1 \\\\\n",
    "4 \\\\\n",
    "1\n",
    "\\end{matrix}\\right]$$\n",
    "* Xác định hình chiếu trực giao của $\\bf x$ trên $U$.\n",
    "* Tính khoảng cách $d({\\bf x},U)$."
   ]
  },
  {
   "cell_type": "code",
   "execution_count": null,
   "metadata": {},
   "outputs": [],
   "source": []
  },
  {
   "cell_type": "markdown",
   "metadata": {},
   "source": [
    "### Bài tập 2\n",
    "Cho ma trận ${\\bf A}=\\left[\\begin{matrix}\n",
    "7 & -6 & -4 & 1\\\\\n",
    "-5 & 1 & 0 & -2\\\\\n",
    "10 & 11 & 7 & -3\\\\\n",
    "19 & 9 & 7 & 1\n",
    "\\end{matrix}\\right]$ và véc tơ \n",
    "${\\bf b}=\\left[\\begin{matrix}\n",
    "0.100\\\\\n",
    "2.888\\\\\n",
    "-1.404\\\\\n",
    "1.462\n",
    "\\end{matrix}\\right]$\n",
    "* Thực hiện phân tích QR cho ma trận ${\\bf A}$.\n",
    "* Tìm nghiệm bình phương cực tiểu của ${\\bf A}{\\bf x}={\\bf b}$ bằng phân tích QR."
   ]
  },
  {
   "cell_type": "code",
   "execution_count": null,
   "metadata": {},
   "outputs": [],
   "source": []
  }
 ],
 "metadata": {
  "kernelspec": {
   "display_name": "Python 3",
   "language": "python",
   "name": "python3"
  },
  "language_info": {
   "codemirror_mode": {
    "name": "ipython",
    "version": 3
   },
   "file_extension": ".py",
   "mimetype": "text/x-python",
   "name": "python",
   "nbconvert_exporter": "python",
   "pygments_lexer": "ipython3",
   "version": "3.8.8"
  }
 },
 "nbformat": 4,
 "nbformat_minor": 4
}
