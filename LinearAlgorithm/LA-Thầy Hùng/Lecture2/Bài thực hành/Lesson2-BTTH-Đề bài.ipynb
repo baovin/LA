{
 "cells": [
  {
   "cell_type": "markdown",
   "metadata": {},
   "source": [
    "# Bài thực hành 2\n",
    "### Môn: Linear Algebra"
   ]
  },
  {
   "cell_type": "code",
   "execution_count": 2,
   "metadata": {},
   "outputs": [],
   "source": [
    "import numpy as np"
   ]
  },
  {
   "cell_type": "markdown",
   "metadata": {},
   "source": [
    "### Bài tập 1\n",
    "Cho ma trận ${ A}=\\left[\\begin{matrix}\n",
    "0 & 0 & 0\\\\\n",
    "1 & 0 & 0\\\\\n",
    "0 & 1 & 0\n",
    "\\end{matrix}\\right]\\ \\ ;\\ \\ { B}=\\left[\\begin{matrix}\n",
    "4 & -2 & 1\\\\\n",
    "3 & 1 & -1\\\\\n",
    "-1 & 5 & 0\n",
    "\\end{matrix}\\right]$\n",
    "\n",
    "* Chứng tỏ rằng ${A}^3=0$. Tính $({I}-{A})({I}+{A}+{A}^2)$.\n",
    "* Tạo ma trận khối $C=\\left[\\begin{matrix}\n",
    "A & I\\\\\n",
    "-I & B\n",
    "\\end{matrix}\\right]$. Tính định thức và hạng của $C$."
   ]
  },
  {
   "cell_type": "code",
   "execution_count": 6,
   "metadata": {},
   "outputs": [
    {
     "name": "stdout",
     "output_type": "stream",
     "text": [
      "B==K\n"
     ]
    }
   ],
   "source": [
    "A = np.array([0,0,0,1,0,0,0,1,0]).reshape(3,3)\n",
    "B = np.array([4,-2,1,3,1,-1,-1,5,0]).reshape(3,3)\n",
    "\n",
    "A_3 = np.linalg.matrix_power(A,3)\n",
    "K = np.zeros((3,3))\n",
    "if not np.allclose(B,K): print(\"B==K\")\n",
    "else: print(\"B!=K\")"
   ]
  },
  {
   "cell_type": "code",
   "execution_count": 15,
   "metadata": {},
   "outputs": [
    {
     "name": "stdout",
     "output_type": "stream",
     "text": [
      "det(C) = -0.9999999999999998\n",
      "rank(C) = 6\n"
     ]
    }
   ],
   "source": [
    "I = np.identity(3)\n",
    "\n",
    "C1 = np.concatenate([A,I], axis=1)\n",
    "C2 = np.concatenate([-I,B], axis=1)\n",
    "C = np.concatenate([C1,C2], axis=0)\n",
    "\n",
    "C = np.block([[A,I],[-I,B]])\n",
    "\n",
    "print(\"det(C) =\",np.linalg.det(C))\n",
    "print(\"rank(C) =\",np.linalg.matrix_rank(C))"
   ]
  },
  {
   "cell_type": "markdown",
   "metadata": {},
   "source": [
    "### Bài tập 2\n",
    "Lũy thừa ma trận có thể được sử dụng như một công cụ để phân tích trạng thái tới hạn của một số hệ động lực. Cho hai ma trận sau đây:\n",
    "\n",
    "$${\\bf A}=\\left[\\begin{matrix}\n",
    "0.4 & 0.2 & 0.3\\\\\n",
    "0.3 & 0.6 & 0.3\\\\\n",
    "0.3 & 0.2 & 0.4\n",
    "\\end{matrix}\\right],\\,{\\bf B}=\\left[\\begin{matrix}\n",
    "0 & 0.2 & 0.3\\\\\n",
    "0.1 & 0.6 & 0.3\\\\\n",
    "0.9 & 0.2 & 0.4\n",
    "\\end{matrix}\\right]$$\n",
    "\n",
    "Hãy kiểm tra xem điều gì sẽ xảy ra với ${\\bf A}^k$ và ${\\bf B}^k$ khi $k$ nhận giá trị lớn."
   ]
  },
  {
   "cell_type": "code",
   "execution_count": 20,
   "metadata": {},
   "outputs": [
    {
     "name": "stdout",
     "output_type": "stream",
     "text": [
      "[[0.28571429 0.28571429 0.28571429]\n",
      " [0.42857143 0.42857143 0.42857143]\n",
      " [0.28571429 0.28571429 0.28571429]]\n",
      "[[0.20224719 0.20224719 0.20224719]\n",
      " [0.37078652 0.37078652 0.37078652]\n",
      " [0.42696629 0.42696629 0.42696629]]\n"
     ]
    }
   ],
   "source": [
    "A = np.array([0.4,0.2,0.3,0.3,0.6,0.3,0.3,0.2,0.4]).reshape(3,3)\n",
    "B = np.array([0,  0.2,0.3,0.1,0.6,0.3,0.9,0.2,0.4]).reshape(3,3)\n",
    "\n",
    "\n",
    "k = 1000009\n",
    "\n",
    "print(np.linalg.matrix_power(A,k))\n",
    "print(np.linalg.matrix_power(B,k))\n",
    "\n"
   ]
  },
  {
   "cell_type": "markdown",
   "metadata": {},
   "source": [
    "### Bài 3\n",
    "Phân tích ma trận đánh giá\n",
    "$${\\bf X}=\\left[\\begin{matrix}\n",
    "3 & 3 & 0 & 4 & 4\\\\\n",
    "0 & 5 & 2 & 0 & 1\\\\\n",
    "2 & 0 & 1 & 2 & 5 \\\\\n",
    "0 & 3 & 2 & 5 & 0 \\\\\n",
    "2 & 5 & 0 & 3 & 2\n",
    "\\end{matrix}\\right]\n",
    "$$\n",
    "thành tích $\\bf W\\,H^T$, với ${\\bf W}\\in\\mathbb{R}^{5\\times 3}$, ${\\bf H}\\in\\mathbb{R}^{5\\times 3}$. Sử dụng hàm mất mát dạng:\n",
    "$$\\mathcal{L}({\\bf W},{\\bf H})=\\sum_{(u,i):x_{ui}\\neq 0}\\left(x_{ui}-\\sum^3_{j=1}w_{uj}h_{ij}\\right)^2$$"
   ]
  },
  {
   "cell_type": "code",
   "execution_count": null,
   "metadata": {},
   "outputs": [],
   "source": [
    "def MF(A, W, H, K, steps=1000, beta=0.002):\n",
    "    m, n = A.shape\n",
    "    for step in range(steps): # Bước lặp\n",
    "        for i in range(m):    # Cập nhật lại ma trận W, H\n",
    "            for j in range(n):\n",
    "                if A[i,j]!=0:\n",
    "                    eij = A[i,j] - W[i]@H[j]\n",
    "                    for k in range(K):\n",
    "                        W[i,k] += beta*(2*eij*H[j,k])\n",
    "                        H[j,k] += beta*(2*eij*W[i,k])\n",
    "        e = 0 # Tính tổng bình phương sai số\n",
    "        for i in range(m):\n",
    "            for j in range(n):\n",
    "                if A[i,j]!=0:\n",
    "                    e += (A[i,j] - W[i]@H[j])**2\n",
    "        if e<1e-5: break  # Điều kiện dừng\n",
    "    return W, H"
   ]
  },
  {
   "cell_type": "code",
   "execution_count": 23,
   "metadata": {},
   "outputs": [
    {
     "name": "stdout",
     "output_type": "stream",
     "text": [
      "[[3 3 0 4 4]\n",
      " [0 5 2 0 1]\n",
      " [2 0 1 2 5]\n",
      " [0 3 2 5 0]\n",
      " [2 5 0 3 2]]\n",
      "5 5\n",
      "[[0.25744788 0.5080927 ]\n",
      " [0.50599638 0.28453607]\n",
      " [0.44614224 0.98381872]\n",
      " [0.50989962 0.06342915]\n",
      " [0.77501102 0.67868878]] [[0.83803578 0.03518666]\n",
      " [0.23566819 0.6074285 ]\n",
      " [0.05678238 0.83432135]\n",
      " [0.59671147 0.81258288]\n",
      " [0.67076735 0.62573827]]\n",
      "[[0.23362862 0.36930226 0.43853109 0.56648953 0.49062068]\n",
      " [0.43405494 0.29208257 0.2661262  0.53314298 0.51745096]\n",
      " [0.40850045 0.70274106 0.84615398 1.06565244 0.91487067]\n",
      " [0.42954599 0.15869579 0.08187361 0.35580439 0.38171406]\n",
      " [0.67336775 0.59490035 0.61025152 1.01394885 0.94453363]]\n"
     ]
    }
   ],
   "source": [
    "X = np.array([3, 3, 0, 4, 4,\n",
    "              0, 5, 2, 0, 1,\n",
    "              2, 0, 1, 2, 5,\n",
    "              0, 3, 2, 5, 0,\n",
    "              2, 5, 0, 3, 2]).reshape(5,5)\n",
    "print(X)\n",
    "M, N = X.shape\n",
    "print(M, N)\n",
    "K = 2\n",
    "W = np.random.rand(M,K)\n",
    "H = np.random.rand(N,K)\n",
    "print(W,H)\n",
    "\n",
    "print(W@H.T)"
   ]
  }
 ],
 "metadata": {
  "kernelspec": {
   "display_name": "Python 3",
   "language": "python",
   "name": "python3"
  },
  "language_info": {
   "codemirror_mode": {
    "name": "ipython",
    "version": 3
   },
   "file_extension": ".py",
   "mimetype": "text/x-python",
   "name": "python",
   "nbconvert_exporter": "python",
   "pygments_lexer": "ipython3",
   "version": "3.12.4"
  }
 },
 "nbformat": 4,
 "nbformat_minor": 4
}
