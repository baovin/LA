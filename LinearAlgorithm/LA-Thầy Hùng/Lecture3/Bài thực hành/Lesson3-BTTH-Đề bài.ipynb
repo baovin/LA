{
 "cells": [
  {
   "cell_type": "markdown",
   "metadata": {},
   "source": [
    "# Bài thực hành 3\n",
    "### Môn: Linear Algebra"
   ]
  },
  {
   "cell_type": "code",
   "execution_count": 1,
   "metadata": {},
   "outputs": [],
   "source": [
    "import numpy as np"
   ]
  },
  {
   "cell_type": "code",
   "execution_count": 2,
   "metadata": {},
   "outputs": [
    {
     "name": "stdout",
     "output_type": "stream",
     "text": [
      "Hệ phương trình có nghiệm.\n",
      "Nghiệm của hệ phương trình là: [-14.   9.  -8.]\n"
     ]
    }
   ],
   "source": [
    "'''\n",
    "Các phương pháp giải hệ phương trình:\n",
    "5x1 + x2 - 3x3 = -37\n",
    "x1 + 4x2 + 2x3 = 6\n",
    "-3x1 + 2x2 = 7x3 = 4\n",
    "'''\n",
    "\n",
    "# Khởi tạo các ma trận\n",
    "\n",
    "A = np.array([5,1,-3,1,4,2,-3,2,7]).reshape(3,3)\n",
    "b = np.array([-37,6,4])\n",
    "A_aug = np.hstack([A, b.reshape(-1,1)])\n",
    "\n",
    "# kiểm tra điều kiện có nghiệm\n",
    "r = np.linalg.matrix_rank(A)\n",
    "r1 = np.linalg.matrix_rank(A_aug)\n",
    "\n",
    "if r==r1: print(\"Hệ phương trình có nghiệm.\")\n",
    "\n",
    "#Giải hệ bằng ma trận nghịch đảo\n",
    "A_inv = np.linalg.inv(A)\n",
    "print(\"Nghiệm của hệ phương trình là:\", A_inv@b)"
   ]
  },
  {
   "cell_type": "code",
   "execution_count": 3,
   "metadata": {},
   "outputs": [
    {
     "name": "stdout",
     "output_type": "stream",
     "text": [
      "Nghiệm của hệ phương trình là: [-14.   9.  -8.]\n"
     ]
    }
   ],
   "source": [
    "# Giải hệ bằng phân tích LU\n",
    "from scipy import linalg\n",
    "\n",
    "linalg.lu(A)\n",
    "lu, piv = linalg.lu_factor(A)\n",
    "print(\"Nghiệm của hệ phương trình là:\", linalg.lu_solve((lu,piv), b))\n"
   ]
  },
  {
   "cell_type": "code",
   "execution_count": 4,
   "metadata": {},
   "outputs": [
    {
     "name": "stdout",
     "output_type": "stream",
     "text": [
      "[[ 0  0  0]\n",
      " [ 1  0  0]\n",
      " [-3  2  0]]\n",
      "[[ 5  1  0]\n",
      " [ 1  4  2]\n",
      " [-3  2  7]]\n",
      "[[5 0 0]\n",
      " [0 4 0]\n",
      " [0 0 7]]\n",
      "Nghiệm xấp xỉ tại bước 1 [1 1 1]\n",
      "Nghiệm xấp xỉ tại bước 2 [-8.6        -0.5        -0.14285714]\n",
      "Nghiệm xấp xỉ tại bước 3 [ 1.3         6.37142857 -6.37142857]\n",
      "Nghiệm xấp xỉ tại bước 4 [-9.97428571 -2.33571429  4.41632653]\n",
      "Nghiệm xấp xỉ tại bước 5 [  3.04142857   6.61469388 -11.05959184]\n",
      "Nghiệm xấp xỉ tại bước 6 [-11.76436735  -1.10561224  10.45813411]\n",
      "Nghiệm xấp xỉ tại bước 7 [  4.5854898    3.25872886 -19.33867055]\n",
      "Nghiệm xấp xỉ tại bước 8 [-12.63723557   5.61786152  21.97838817]\n",
      "Nghiệm xấp xỉ tại bước 9 [  4.11366327  -8.78843782 -35.44908238]\n",
      "Nghiệm xấp xỉ tại bước 10 [-9.7559757  25.95614738 44.56847251]\n",
      "Nghiệm xấp xỉ tại bước 11 [ -2.83525377 -41.86239578 -67.19139304]\n",
      "Nghiệm xấp xỉ tại bước 12 [ 3.80773293 78.37571918 89.2539731 ]\n",
      "Nghiệm xấp xỉ tại bước 13 [ -26.88287677 -123.4065722  -130.2048987 ]\n",
      "Nghiệm xấp xỉ tại bước 14 [ 44.16419121 203.45045993 178.25190273]\n",
      "Nghiệm xấp xỉ tại bước 15 [ -92.25428319 -313.1585069  -256.0828588 ]\n",
      "Nghiệm xấp xỉ tại bước 16 [147.48598457 488.82707789 356.52690572]\n",
      "Nghiệm xấp xỉ tại bước 17 [-252.65140015 -739.33352303 -508.86867774]\n",
      "Nghiệm xấp xỉ tại bước 18 [ 393.11810476 1121.59356198  715.3580622 ]\n",
      "Nghiệm xấp xỉ tại bước 19 [ -624.83681715 -1674.33164545 -1018.73886497]\n",
      "Nghiệm xấp xỉ tại bước 20 [ 952.30314624 2497.61948651 1440.4968191 ]\n",
      "Nghiệm xấp xỉ tại bước 21 [-1459.22704354 -3692.51946918 -2050.87668604]\n",
      "Nghiệm xấp xỉ tại bước 22 [2190.33093738 5449.07133397 2910.69320253]\n",
      "Nghiệm xấp xỉ tại bước 23 [-3287.54520417 -7998.08340393 -4146.45030419]\n",
      "Nghiệm xấp xỉ tại bước 24 [ 4879.76188496 11716.58115811  5899.45921714]\n",
      "Nghiệm xấp xỉ tại bước 25 [ -7230.47811658 -17104.69170916  -8411.42397752]\n",
      "Nghiệm xấp xỉ tại bước 26 [10644.01645841 24927.14275621 11988.55228283]\n",
      "Nghiệm xấp xỉ tại bước 27 [-15636.84500965 -36241.92712683 -17108.6197506 ]\n",
      "Nghiệm xấp xỉ tại bước 28 [22877.83043502 52616.15950695 24415.8538148 ]\n",
      "Nghiệm xấp xỉ tại bước 29 [-33408.46233641 -76261.50163186 -34872.09030304]\n",
      "Nghiệm xấp xỉ tại bước 30 [ 48653.36266278 110403.27795159  49814.83780432]\n",
      "Nghiệm xấp xỉ tại bước 31 [ -70741.4182531  -159635.87818514  -71198.97149427]\n",
      "Nghiệm xấp xỉ tại bước 32 [102661.19389013 230607.57305882 101784.54338312]\n",
      "Nghiệm xấp xỉ tại bước 33 [-148790.10850189 -332828.94169545 -145564.41893948]\n",
      "Nghiệm xấp xỉ tại bước 34 [215348.49684098 480007.70541614 208218.57833526]\n",
      "Nghiệm xấp xỉ tại bước 35 [-311357.43792421 -691789.74300426 -297923.69842364]\n",
      "Nghiệm xấp xỉ tại bước 36 [449707.98652506 996431.81117818 426354.89049104]\n",
      "Nghiệm xấp xỉ tại bước 37 [ -649001.7487607  -1434461.74968623  -610279.93699995]\n",
      "Nghiệm xấp xỉ tại bước 38 [ 935886.69869794 2064104.09256656  873685.7235972 ]\n",
      "Nghiệm xấp xỉ tại bước 39 [-1348714.91721126 -2968888.80371413 -1250984.60617985]\n",
      "Nghiệm xấp xỉ tại bước 40 [1942485.27795408 4268740.06540968 1791451.70783542]\n",
      "Nghiệm xấp xỉ tại bước 41 [-2796240.69103602 -6135707.05830443 -2565743.79268031]\n",
      "Nghiệm xấp xỉ tại bước 42 [4023374.7026969  8816700.8001626  3675084.94796626]\n",
      "Nghiệm xấp xỉ tại bước 43 [ -5786722.26272942 -12665929.12549418  -5264592.23146183]\n",
      "Nghiệm xấp xỉ tại bước 44 [ 8319900.68782826 18191587.87258981  7542218.935119  ]\n",
      "Nghiệm xấp xỉ tại bước 45 [-11958225.66234622 -26122646.18406344 -10806067.9870318 ]\n",
      "Nghiệm xấp xỉ tại bước 46 [17182747.49915891 37504794.50875245 15483387.23877129]\n",
      "Nghiệm xấp xỉ tại bước 47 [-24683713.8009094  -53837860.37771755 -22186628.53020791]\n",
      "Nghiệm xấp xỉ tại bước 48 [35451278.47645291 77273033.0432762  31793651.77383845]\n",
      "Nghiệm xấp xỉ tại bước 49 [-5.09058925e+07 -1.10895497e+08 -4.55628600e+07]\n",
      "Nghiệm xấp xỉ tại bước 50 [7.30849844e+07 1.59129874e+08 6.52980936e+07]\n",
      "Nghiệm xấp xỉ tại bước 51 [-1.04910967e+08 -2.28321412e+08 -9.35851775e+07]\n",
      "Nghiệm xấp xỉ tại bước 52 [1.50575242e+08 3.27569486e+08 1.34130871e+08]\n",
      "Nghiệm xấp xỉ tại bước 53 [-2.16089146e+08 -4.69922540e+08 -1.92248940e+08]\n",
      "Nghiệm xấp xỉ tại bước 54 [3.10073647e+08 6.74091585e+08 2.75556839e+08]\n",
      "Nghiệm xấp xỉ tại bước 55 [-4.44891971e+08 -9.66906826e+08 -3.94974618e+08]\n",
      "Nghiệm xấp xỉ tại bước 56 [6.38273329e+08 1.38684012e+09 5.66156829e+08]\n",
      "Nghiệm xấp xỉ tại bước 57 [-9.15641361e+08 -1.98905520e+09 -8.11545474e+08]\n",
      "Nghiệm xấp xỉ tại bước 58 [1.31345239e+09 2.85264862e+09 1.16331299e+09]\n",
      "Nghiệm xấp xỉ tại bước 59 [-1.88398212e+09 -4.09103131e+09 -1.66758158e+09]\n",
      "Nghiệm xấp xỉ tại bước 60 [2.70218838e+09 5.86681316e+09 2.39047194e+09]\n",
      "Nghiệm xấp xỉ tại bước 61 [-3.87555102e+09 -8.41314332e+09 -3.42677513e+09]\n",
      "Nghiệm xấp xỉ tại bước 62 [5.55817968e+09 1.20643064e+10 4.91238473e+09]\n",
      "Nghiệm xấp xỉ tại bước 63 [-7.97104096e+09 -1.72995886e+10 -7.04212009e+09]\n",
      "Nghiệm xấp xỉ tại bước 64 [1.14309587e+10 2.48061691e+10 1.00952785e+10]\n",
      "Nghiệm xấp xỉ tại bước 65 [-1.63921925e+10 -3.55692877e+10 -1.44722677e+10]\n",
      "Nghiệm xấp xỉ tại bước 66 [2.35060500e+10 5.10015178e+10 2.07471242e+10]\n",
      "Nghiệm xấp xỉ tại bước 67 [-3.37063536e+10 -7.31281049e+10 -2.97428058e+10]\n",
      "Nghiệm xấp xỉ tại bước 68 [4.83319746e+10 1.04852685e+11 4.26391341e+10]\n",
      "Nghiệm xấp xỉ tại bước 69 [-6.93025115e+10 -1.50338239e+11 -6.11275471e+10]\n",
      "Nghiệm xấp xỉ tại bước 70 [9.93701593e+10 2.15553268e+11 8.76329594e+10]\n",
      "Nghiệm xấp xỉ tại bước 71 [-1.42480813e+11 -3.09054828e+11 -1.25631833e+11]\n",
      "Nghiệm xấp xỉ tại bước 72 [2.04291778e+11 4.43111151e+11 1.80108181e+11]\n",
      "Nghiệm xấp xỉ tại bước 73 [-2.92914009e+11 -6.35311130e+11 -2.58207314e+11]\n",
      "Nghiệm xấp xỉ tại bước 74 [4.19976235e+11 9.10871792e+11 3.70173095e+11]\n",
      "Nghiệm xấp xỉ tại bước 75 [-6.02150593e+11 -1.30594646e+12 -5.30691632e+11]\n",
      "Nghiệm xấp xỉ tại bước 76 [8.63339884e+11 1.87236757e+12 7.60817671e+11]\n",
      "Nghiệm xấp xỉ tại bước 77 [-1.23781340e+12 -2.68444635e+12 -1.09073638e+12]\n",
      "Nghiệm xấp xỉ tại bước 78 [1.77470267e+12 3.84872124e+12 1.56372281e+12]\n",
      "Nghiệm xấp xỉ tại bước 79 [-2.54444691e+12 -5.51793397e+12 -2.24181837e+12]\n",
      "Nghiệm xấp xỉ tại bước 80 [3.64803371e+12 7.91106662e+12 3.21396900e+12]\n",
      "Nghiệm xấp xỉ tại bước 81 [-5.23024703e+12 -1.13420680e+13 -4.60769246e+12]\n",
      "Nghiệm xấp xỉ tại bước 82 [7.49866063e+12 1.62610377e+13 6.60580527e+12]\n",
      "Nghiệm xấp xỉ tại bước 83 [-1.07508682e+13 -2.33132707e+13 -9.47040343e+12]\n",
      "Nghiệm xấp xỉ tại bước 84 [1.54135223e+13 3.34239065e+13 1.35772425e+13]\n",
      "Nghiệm xấp xỉ tại bước 85 [-2.20983036e+13 -4.79192889e+13 -1.94650271e+13]\n",
      "Nghiệm xấp xỉ tại bước 86 [3.16821614e+13 6.87009543e+13 2.79060748e+13]\n",
      "Nghiệm xấp xỉ tại bước 87 [-4.54223522e+13 -9.84950723e+13 -4.00076246e+13]\n",
      "Nghiệm xấp xỉ tại bước 88 [6.51213667e+13 1.41210061e+14 5.73570783e+13]\n",
      "Nghiệm xấp xỉ tại bước 89 [-9.33633789e+13 -2.02449283e+14 -8.22302273e+13]\n",
      "Nghiệm xấp xỉ tại bước 90 [1.33853236e+14 2.90246086e+14 1.17889779e+14]\n",
      "Nghiệm xấp xỉ tại bước 91 [-1.91902453e+14 -4.16117594e+14 -1.69013341e+14]\n",
      "Nghiệm xấp xỉ tại bước 92 [2.75125972e+14 5.96575490e+14 2.42307006e+14]\n",
      "Nghiệm xấp xỉ tại bước 93 [-3.94441070e+14 -8.55291979e+14 -3.47385025e+14]\n",
      "Nghiệm xấp xỉ tại bước 94 [5.65499465e+14 1.22620503e+15 4.98030953e+14]\n",
      "Nghiệm xấp xỉ tại bước 95 [-8.10740471e+14 -1.75797024e+15 -7.14005712e+14]\n",
      "Nghiệm xấp xỉ tại bước 96 [1.16233452e+15 2.52034333e+15 1.02363973e+15]\n",
      "Nghiệm xấp xỉ tại bước 97 [-1.66640318e+15 -3.61333045e+15 -1.46754919e+15]\n",
      "Nghiệm xấp xỉ tại bước 98 [2.38906927e+15 5.18030663e+15 2.10396386e+15]\n",
      "Nghiệm xấp xỉ tại bước 99 [-3.42513060e+15 -7.42682320e+15 -3.01636541e+15]\n"
     ]
    }
   ],
   "source": [
    "L = np.tril(A,-1)\n",
    "U = np.tril(A,1)\n",
    "D = np.diag(np.diag(A))\n",
    "print(L, U, D, sep='\\n')\n",
    "\n",
    "X = np.array([1,1,1]) # giá trị xuất phát\n",
    "for i in range (1,100):\n",
    "    print(f\"Nghiệm xấp xỉ tại bước {i}\", X)\n",
    "    X = np.linalg.inv(D)@(-(L+U)@X+b)\n",
    "    "
   ]
  },
  {
   "cell_type": "code",
   "execution_count": 5,
   "metadata": {},
   "outputs": [
    {
     "name": "stdout",
     "output_type": "stream",
     "text": [
      "[[1.  1.1]\n",
      " [1.  1.3]\n",
      " [1.  1.5]\n",
      " [1.  2. ]\n",
      " [1.  2.2]]\n",
      "các tham số của mô hình: [41517.05069124  -109.9078341 ]\n"
     ]
    }
   ],
   "source": [
    "'''Bài toán hồi quy tuyến tính\n",
    "   Số năm KN (X) 1.1 1.3 1.5 2.0 2.2\n",
    "   Thu nhập (y) 39343 46205 37731 43525 39891\n",
    "   Tìm hàm hồi quy tuyến tính y = b0 + b1x\n",
    "'''\n",
    "\n",
    "x = np.array([1.1, 1.3, 1.5, 2.0, 2.2 ])\n",
    "y = np.array([39343, 46205, 37731, 43525, 39891])\n",
    "\n",
    "X = np.vstack([np.ones(len(x)), x]).T\n",
    "print(X)\n",
    "\n",
    "# Giải hệ phương trình chính tắc\n",
    "B = np.linalg.solve(X.T@X, X.T@y)\n",
    "print(\"các tham số của mô hình:\", B)"
   ]
  },
  {
   "cell_type": "code",
   "execution_count": 6,
   "metadata": {},
   "outputs": [
    {
     "data": {
      "text/plain": [
       "<matplotlib.legend.Legend at 0x22041fbf350>"
      ]
     },
     "execution_count": 6,
     "metadata": {},
     "output_type": "execute_result"
    },
    {
     "data": {
      "image/png": "[encoded data removed]",
      "text/plain": [
       "<Figure size 640x480 with 1 Axes>"
      ]
     },
     "metadata": {},
     "output_type": "display_data"
    }
   ],
   "source": [
    "import matplotlib.pyplot as plt\n",
    "\n",
    "plt.plot(x, y, 'or', label='data points')\n",
    "plt.plot(x,B[0]+B[1]*x,'-b',label='regression line')\n",
    "plt.legend()"
   ]
  },
  {
   "cell_type": "code",
   "execution_count": 7,
   "metadata": {},
   "outputs": [
    {
     "data": {
      "text/plain": [
       "array([41517.05069124,  -109.9078341 ])"
      ]
     },
     "execution_count": 7,
     "metadata": {},
     "output_type": "execute_result"
    }
   ],
   "source": [
    "np.linalg.lstsq(X,y, rcond=None)[0]"
   ]
  },
  {
   "cell_type": "markdown",
   "metadata": {},
   "source": [
    "### Bài tập 1\n",
    "Giải hệ phương trình tuyến tính ${\\bf A}{\\bf x}={\\bf b}$ với\n",
    "\n",
    "$${\\bf A}=\\left[\\begin{matrix}\n",
    "2 & 1 & -1 & -1 \\\\\n",
    "2 & 5 & -7 & -5 \\\\\n",
    "2 & -1 & 1 & 3 \\\\\n",
    "5 & 2 & -4 & 2\n",
    "\\end{matrix}\\right],\\ \n",
    "{\\bf b}=\\left[\\begin{matrix}\n",
    "1 \\\\\n",
    "-2 \\\\\n",
    "4 \\\\\n",
    "6\n",
    "\\end{matrix}\\right]\n",
    "$$\n",
    "\n",
    "bằng phương pháp\n",
    "* Ma trận nghịch đảo\n",
    "* Phép khử Gauss\n",
    "* Phân tích LU "
   ]
  },
  {
   "cell_type": "code",
   "execution_count": 8,
   "metadata": {},
   "outputs": [],
   "source": [
    "A = np.array"
   ]
  },
  {
   "cell_type": "markdown",
   "metadata": {},
   "source": [
    "### Bài tập 2\n",
    "Tìm đa thức nội suy \n",
    "\n",
    "$$y(x)=c_0\\,f_0(x)+c_1\\,f_1(x)+c_2\\,f_2(x)+c_3\\,f_3(x)$$\n",
    "\n",
    "đi qua các điểm dữ liệu:\n",
    "\n",
    "$$(1,1),\\,(2,3),\\,(3,5),\\,(4,4)$$\n",
    "\n",
    "với hệ hàm cơ sở $\\{f_0,f_1,f_2,f_3\\}$ được cho sau đây:\n",
    "* $f_0=1,\\,f_1=x,\\,f_2=x^2,\\,f_3=x^3$\n",
    "* $f_0=1,\\,f_1=x-1,\\,f_2=(x-1)(x-2),\\,f_3=(x-1)(x-2)(x-3)$"
   ]
  },
  {
   "cell_type": "code",
   "execution_count": null,
   "metadata": {},
   "outputs": [],
   "source": []
  },
  {
   "cell_type": "markdown",
   "metadata": {},
   "source": [
    "### Bài 3\n",
    "Nghiệm của một bài toán truyền nhiệt dừng được xấp xỉ bởi nghiệm của hệ phương trình $Ax=b$, với $b=(5,15,0,10,0,10,20,30)$ và \n",
    "\n",
    "$$\n",
    "A = \\begin{pmatrix}\n",
    "4 & -1 & -1 & 0 & 0 & 0 & 0 & 0 \\\\\n",
    "-1 & 4 & 0 & -1 & 0 & 0 & 0 & 0 \\\\\n",
    "-1 & 0 & 4 & -1 & -1 & 0 & 0 & 0 \\\\\n",
    "0 & -1 & -1 & 4 & 0 & -1 & 0 & 0 \\\\\n",
    "0 & 0 & -1 & 0 & 4 & -1 & -1 & 0 \\\\\n",
    "0 & 0 & 0 & -1 & -1 & 4 & 0 & -1 \\\\\n",
    "0 & 0 & 0 & 0 & -1 & 0 & 4 & -1 \\\\\n",
    "0 & 0 & 0 & 0 & 0 & -1 & -1 & 4 \\\\\n",
    "\\end{pmatrix}\n",
    "$$\n",
    "\n",
    "* Tìm phân tích LU của $A$.\n",
    "* Sử dụng phân tích LU để giải phương trình $Ax=b$."
   ]
  },
  {
   "cell_type": "code",
   "execution_count": null,
   "metadata": {},
   "outputs": [],
   "source": []
  }
 ],
 "metadata": {
  "kernelspec": {
   "display_name": "Python 3",
   "language": "python",
   "name": "python3"
  },
  "language_info": {
   "codemirror_mode": {
    "name": "ipython",
    "version": 3
   },
   "file_extension": ".py",
   "mimetype": "text/x-python",
   "name": "python",
   "nbconvert_exporter": "python",
   "pygments_lexer": "ipython3",
   "version": "3.12.4"
  }
 },
 "nbformat": 4,
 "nbformat_minor": 4
}
