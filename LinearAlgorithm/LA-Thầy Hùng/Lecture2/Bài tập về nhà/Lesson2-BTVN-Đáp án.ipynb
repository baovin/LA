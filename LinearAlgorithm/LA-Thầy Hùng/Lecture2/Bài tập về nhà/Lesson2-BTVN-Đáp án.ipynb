{
 "cells": [
  {
   "cell_type": "markdown",
   "metadata": {},
   "source": [
    "# Bài tập về nhà 2\n",
    "### Môn: Linear Algebra"
   ]
  },
  {
   "cell_type": "code",
   "execution_count": 1,
   "metadata": {},
   "outputs": [],
   "source": [
    "import numpy as np"
   ]
  },
  {
   "cell_type": "markdown",
   "metadata": {},
   "source": [
    "### Bài tập 1\n",
    "Ma trận $\\exp({X})$ được định nghĩa bởi chuỗi lũy thừa:\n",
    "$$\\exp({X})=\\sum^\\infty_{k=0}\\dfrac{1}{k!}{X}^k$$\n",
    "ở đó ${X}^0$ là ma trận đơn vị $I$. \n",
    "\n",
    "* Hãy viết một hàm tên: *matrix_exp(X,n)* nhận vào ma trận $X$, số nguyên $n$, trả về giá trị xấp xỉ cho $\\exp({X})$ bằng khai triển chuỗi đến cấp $n$.\n",
    "* Sử dụng hàm *matrix_exp(X,n)* để tính xấp xỉ $\\exp({X})$ trong các trường hợp: \n",
    "\n",
    "> a) ${X}=I$\n",
    ">\n",
    "> b) $X = {A}=\\left[\\begin{matrix}\n",
    "1 & 0 & -1\\\\\n",
    "2 & 1 & 1\\\\\n",
    "0 & 0 & 2\n",
    "\\end{matrix}\\right]$"
   ]
  },
  {
   "cell_type": "code",
   "execution_count": 7,
   "metadata": {},
   "outputs": [
    {
     "name": "stdout",
     "output_type": "stream",
     "text": [
      "exp(I) = \n",
      "[[2.7182818 0.        0.       ]\n",
      " [0.        2.7182818 0.       ]\n",
      " [0.        0.        2.7182818]]\n",
      "exp(A) = \n",
      "[[ 2.7182818   0.         -4.67071291]\n",
      " [ 5.43656305  2.7182818   0.76585014]\n",
      " [ 0.          0.          7.38899471]]\n"
     ]
    }
   ],
   "source": [
    "A = np.array([1,0,-1,2,1,1,0,0,2]).reshape(3,3)\n",
    "\n",
    "def matrix_exp(A,n):\n",
    "    I=np.identity(3)\n",
    "    s=I\n",
    "    for i in range(1,n+1):\n",
    "        s+=np.linalg.matrix_power(A,i)/np.math.factorial(i)\n",
    "    return s\n",
    "\n",
    "print(\"exp(I) = \")\n",
    "print(matrix_exp(np.identity(3),10))\n",
    "print(\"exp(A) = \")\n",
    "print(matrix_exp(A,10))\n"
   ]
  },
  {
   "attachments": {
    "cofactor.png": {
     "image/png": "[encoded data removed]"
    }
   },
   "cell_type": "markdown",
   "metadata": {},
   "source": [
    "### Bài tập 2\n",
    "Hãy viết một chương trình tính tất cả các phần bù đại số của một ma trận.\n",
    "\n",
    "> Ví dụ tính phần bù đại số:\n",
    ">\n",
    "> ![cofactor.png](attachment:cofactor.png)"
   ]
  },
  {
   "cell_type": "code",
   "execution_count": 8,
   "metadata": {},
   "outputs": [
    {
     "name": "stdout",
     "output_type": "stream",
     "text": [
      "Khởi tạo ma trận:\n",
      "[[-2  1  0]\n",
      " [-3 -5 -3]\n",
      " [-3  2  2]]\n",
      "Ma trận phần bù đại số:\n",
      "[[ -4.  15. -21.]\n",
      " [ -2.  -4.   1.]\n",
      " [ -3.  -6.  13.]]\n",
      "Kiểm tra: A_adj.T*A = det(A)*I ==> True\n"
     ]
    }
   ],
   "source": [
    "# Hàm tính phần bù đại số của phần tử A(i,j)\n",
    "def matrix_adj(A):\n",
    "    n=len(A)\n",
    "    A_adj=np.empty((n,n))\n",
    "    for i in range(n):\n",
    "        Atem=np.delete(A,i,axis=0)\n",
    "        for j in range(n):\n",
    "            Mij=np.linalg.det(np.delete(Atem,j,axis=1))\n",
    "            A_adj[i,j]=pow(-1,i+j)*Mij\n",
    "    return A_adj\n",
    "\n",
    "n=3\n",
    "A = np.random.randint(-5,5,(n,n))\n",
    "print(\"Khởi tạo ma trận:\")\n",
    "print(A)\n",
    "print(\"Ma trận phần bù đại số:\")\n",
    "A_adj=matrix_adj(A)\n",
    "print(A_adj)\n",
    "print(\"Kiểm tra: A_adj.T*A = det(A)*I ==>\",\n",
    "      np.allclose(A_adj.T@A,np.linalg.det(A)*np.eye(3)))"
   ]
  },
  {
   "cell_type": "markdown",
   "metadata": {},
   "source": [
    "### Bài tập 3\n",
    "Hãy thay đổi chương trình trong ví dụ phân tích ma trận $\\bf X=W\\,H^T$ với hàm mất mát hiệu chỉnh có dạng như sau:\n",
    "$$\\mathcal{L}({\\bf W},{\\bf H})=\\sum_{(u,i):r_{ui}=1}\\left(x_{ui}-\\sum^K_{j=1}w_{uj}h_{ij}\\right)^2+\\lambda\\left(\\|{\\bf W}\\|_F^2+\\|{\\bf H}\\|_F^2\\right)$$"
   ]
  },
  {
   "cell_type": "code",
   "execution_count": 9,
   "metadata": {},
   "outputs": [],
   "source": [
    "\"\"\"\n",
    "@INPUT:\n",
    "    A     : a matrix to be factorized, dimension N x M\n",
    "    W     : an initial matrix of dimension N x K\n",
    "    H     : an initial matrix of dimension M x K\n",
    "    K     : the number of latent features\n",
    "    steps : the maximum number of steps to perform the optimisation\n",
    "    beta : the learning rate\n",
    "    alpha  : the regularization parameter\n",
    "@OUTPUT:\n",
    "    the final matrices W and H\n",
    "\"\"\"\n",
    "def MF_reg(A, W, H, K, steps=5000, beta=0.0002, alpha=0.01):\n",
    "    H = H.T\n",
    "    m,n = A.shape\n",
    "    for step in range(steps):\n",
    "        for i in range(m):\n",
    "            for j in range(n):\n",
    "                if A[i][j] > 0:\n",
    "                    eij = A[i][j] - np.dot(W[i,:],H[:,j])\n",
    "                    for k in range(K):\n",
    "                        W[i][k] = W[i][k] + beta*(2*eij*H[k][j]\n",
    "                                                  -2*alpha*W[i][k])\n",
    "                        H[k][j] = H[k][j] + beta*(2*eij*W[i][k]\n",
    "                                                  -2*alpha*H[k][j])\n",
    "        e = 0\n",
    "        for i in range(m):\n",
    "            for j in range(n):\n",
    "                if A[i][j] > 0:\n",
    "                    e += pow(A[i][j]-np.dot(W[i,:],H[:,j]),2)\n",
    "        e += alpha*(np.linalg.norm(W)**2+np.linalg.norm(H)**2)\n",
    "        if e < 0.0001:\n",
    "            break\n",
    "    return W, H.T"
   ]
  },
  {
   "cell_type": "code",
   "execution_count": 10,
   "metadata": {},
   "outputs": [
    {
     "name": "stdout",
     "output_type": "stream",
     "text": [
      "[[2.06182789 0.2558162 ]\n",
      " [1.63769039 0.29729819]\n",
      " [0.16443386 2.25579014]\n",
      " [0.21525429 1.80034664]\n",
      " [0.26831987 1.828727  ]]\n",
      "[[2.38102601 0.27085417]\n",
      " [1.40447269 0.34072619]\n",
      " [0.52867057 2.63030725]\n",
      " [0.21401349 2.17933169]]\n"
     ]
    },
    {
     "data": {
      "text/plain": [
       "array([[4.97855472, 2.98294424, 1.76290294, 0.99876734],\n",
       "       [3.97990787, 2.4013887 , 1.6477843 , 0.99839921],\n",
       "       [1.00251145, 0.99954963, 6.0203525 , 4.95130601],\n",
       "       [1.00015745, 0.91574401, 4.84926342, 3.96961981],\n",
       "       [1.13419491, 0.9999431 , 4.95196671, 4.04282679]])"
      ]
     },
     "execution_count": 10,
     "metadata": {},
     "output_type": "execute_result"
    }
   ],
   "source": [
    "# Khởi tạo ma trận\n",
    "A = np.array([[5,3,0,1],\n",
    "              [4,0,0,1],\n",
    "              [1,1,0,5],\n",
    "              [1,0,0,4],\n",
    "              [0,1,5,4]])\n",
    "\n",
    "# Phân tích ma trận\n",
    "M = len(A)\n",
    "N = len(A[0])\n",
    "K = 2\n",
    "\n",
    "W = np.random.rand(M,K)\n",
    "H = np.random.rand(N,K)\n",
    "\n",
    "nW2, nH2 = MF_reg(A, W, H, K)\n",
    "print(nW2)\n",
    "print(nH2)\n",
    "np.dot(nW2,nH2.T)"
   ]
  }
 ],
 "metadata": {
  "kernelspec": {
   "display_name": "Python 3",
   "language": "python",
   "name": "python3"
  },
  "language_info": {
   "codemirror_mode": {
    "name": "ipython",
    "version": 3
   },
   "file_extension": ".py",
   "mimetype": "text/x-python",
   "name": "python",
   "nbconvert_exporter": "python",
   "pygments_lexer": "ipython3",
   "version": "3.8.8"
  }
 },
 "nbformat": 4,
 "nbformat_minor": 4
}
