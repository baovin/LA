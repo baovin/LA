{
 "cells": [
  {
   "cell_type": "code",
   "execution_count": 10,
   "metadata": {},
   "outputs": [],
   "source": [
    "import numpy as np\n",
    "import pandas as pd\n",
    "from numpy import linalg as LA"
   ]
  },
  {
   "cell_type": "markdown",
   "metadata": {},
   "source": [
    "### Khai triển SVD cho ma trận không âm"
   ]
  },
  {
   "cell_type": "code",
   "execution_count": 3,
   "metadata": {},
   "outputs": [],
   "source": [
    "A=np.array([[7, 2, 3],\n",
    "[1, 8, 3],\n",
    "[1, 2, 9]])"
   ]
  },
  {
   "cell_type": "code",
   "execution_count": 4,
   "metadata": {},
   "outputs": [
    {
     "data": {
      "text/plain": [
       "(array([ 6., 12.,  6.]), array([[-0.96225045,  0.57735027,  0.56958826],\n",
       "        [ 0.19245009,  0.57735027, -0.7587656 ],\n",
       "        [ 0.19245009,  0.57735027,  0.31598098]]))"
      ]
     },
     "execution_count": 4,
     "metadata": {},
     "output_type": "execute_result"
    }
   ],
   "source": [
    "LA.eig(A)"
   ]
  },
  {
   "cell_type": "code",
   "execution_count": 5,
   "metadata": {},
   "outputs": [
    {
     "data": {
      "text/plain": [
       "(array([ 6., 12.,  6.]), array([[-0.81110711,  0.26726124,  0.12691132],\n",
       "        [ 0.32444284,  0.53452248, -0.76196846],\n",
       "        [ 0.48666426,  0.80178373,  0.63505715]]))"
      ]
     },
     "execution_count": 5,
     "metadata": {},
     "output_type": "execute_result"
    }
   ],
   "source": [
    "LA.eig(A.T)"
   ]
  },
  {
   "cell_type": "code",
   "execution_count": 7,
   "metadata": {},
   "outputs": [
    {
     "data": {
      "text/plain": [
       "(array([ 34.13574939,  36.        , 151.86425061]),\n",
       " array([[-0.77413839,  0.40824829, -0.48378   ],\n",
       "        [-0.07265252, -0.81649658, -0.57276081],\n",
       "        [ 0.62883334,  0.40824829, -0.66174162]]))"
      ]
     },
     "execution_count": 7,
     "metadata": {},
     "output_type": "execute_result"
    }
   ],
   "source": [
    "LA.eigh(np.dot(A,A.T))"
   ]
  },
  {
   "cell_type": "code",
   "execution_count": 8,
   "metadata": {},
   "outputs": [
    {
     "data": {
      "text/plain": [
       "(array([[-0.48378   ,  0.40824829, -0.77413839],\n",
       "        [-0.57276081, -0.81649658, -0.07265252],\n",
       "        [-0.66174162,  0.40824829,  0.62883334]]),\n",
       " array([12.32332141,  6.        ,  5.84258071]),\n",
       " array([[-0.37497703, -0.55773354, -0.74049006],\n",
       "        [ 0.40824829, -0.81649658,  0.40824829],\n",
       "        [-0.83230136, -0.14922007,  0.53386123]]))"
      ]
     },
     "execution_count": 8,
     "metadata": {},
     "output_type": "execute_result"
    }
   ],
   "source": [
    "LA.svd(A)"
   ]
  },
  {
   "cell_type": "code",
   "execution_count": null,
   "metadata": {},
   "outputs": [],
   "source": []
  },
  {
   "cell_type": "markdown",
   "metadata": {},
   "source": [
    "### Dữ liệu Topic _modeling"
   ]
  },
  {
   "cell_type": "code",
   "execution_count": 11,
   "metadata": {},
   "outputs": [],
   "source": [
    "data=pd.read_csv(\"topic_modeling.csv\")"
   ]
  },
  {
   "cell_type": "code",
   "execution_count": 12,
   "metadata": {},
   "outputs": [
    {
     "data": {
      "text/html": [
       "<div>\n",
       "<style scoped>\n",
       "    .dataframe tbody tr th:only-of-type {\n",
       "        vertical-align: middle;\n",
       "    }\n",
       "\n",
       "    .dataframe tbody tr th {\n",
       "        vertical-align: top;\n",
       "    }\n",
       "\n",
       "    .dataframe thead th {\n",
       "        text-align: right;\n",
       "    }\n",
       "</style>\n",
       "<table border=\"1\" class=\"dataframe\">\n",
       "  <thead>\n",
       "    <tr style=\"text-align: right;\">\n",
       "      <th></th>\n",
       "      <th>singer</th>\n",
       "      <th>GDP</th>\n",
       "      <th>senate</th>\n",
       "      <th>election</th>\n",
       "      <th>vote</th>\n",
       "      <th>stock</th>\n",
       "      <th>bass</th>\n",
       "      <th>market</th>\n",
       "      <th>band</th>\n",
       "    </tr>\n",
       "  </thead>\n",
       "  <tbody>\n",
       "    <tr>\n",
       "      <th>0</th>\n",
       "      <td>6</td>\n",
       "      <td>1</td>\n",
       "      <td>1</td>\n",
       "      <td>0</td>\n",
       "      <td>0</td>\n",
       "      <td>1</td>\n",
       "      <td>9</td>\n",
       "      <td>0</td>\n",
       "      <td>8</td>\n",
       "    </tr>\n",
       "    <tr>\n",
       "      <th>1</th>\n",
       "      <td>1</td>\n",
       "      <td>0</td>\n",
       "      <td>9</td>\n",
       "      <td>5</td>\n",
       "      <td>8</td>\n",
       "      <td>1</td>\n",
       "      <td>0</td>\n",
       "      <td>1</td>\n",
       "      <td>0</td>\n",
       "    </tr>\n",
       "    <tr>\n",
       "      <th>2</th>\n",
       "      <td>8</td>\n",
       "      <td>1</td>\n",
       "      <td>0</td>\n",
       "      <td>1</td>\n",
       "      <td>0</td>\n",
       "      <td>0</td>\n",
       "      <td>9</td>\n",
       "      <td>1</td>\n",
       "      <td>7</td>\n",
       "    </tr>\n",
       "    <tr>\n",
       "      <th>3</th>\n",
       "      <td>0</td>\n",
       "      <td>7</td>\n",
       "      <td>1</td>\n",
       "      <td>0</td>\n",
       "      <td>0</td>\n",
       "      <td>9</td>\n",
       "      <td>1</td>\n",
       "      <td>7</td>\n",
       "      <td>0</td>\n",
       "    </tr>\n",
       "    <tr>\n",
       "      <th>4</th>\n",
       "      <td>0</td>\n",
       "      <td>5</td>\n",
       "      <td>6</td>\n",
       "      <td>7</td>\n",
       "      <td>5</td>\n",
       "      <td>6</td>\n",
       "      <td>0</td>\n",
       "      <td>7</td>\n",
       "      <td>2</td>\n",
       "    </tr>\n",
       "    <tr>\n",
       "      <th>5</th>\n",
       "      <td>1</td>\n",
       "      <td>0</td>\n",
       "      <td>8</td>\n",
       "      <td>5</td>\n",
       "      <td>9</td>\n",
       "      <td>2</td>\n",
       "      <td>0</td>\n",
       "      <td>0</td>\n",
       "      <td>1</td>\n",
       "    </tr>\n",
       "  </tbody>\n",
       "</table>\n",
       "</div>"
      ],
      "text/plain": [
       "   singer  GDP  senate  election  vote  stock  bass  market  band\n",
       "0       6    1       1         0     0      1     9       0     8\n",
       "1       1    0       9         5     8      1     0       1     0\n",
       "2       8    1       0         1     0      0     9       1     7\n",
       "3       0    7       1         0     0      9     1       7     0\n",
       "4       0    5       6         7     5      6     0       7     2\n",
       "5       1    0       8         5     9      2     0       0     1"
      ]
     },
     "execution_count": 12,
     "metadata": {},
     "output_type": "execute_result"
    }
   ],
   "source": [
    "data"
   ]
  },
  {
   "cell_type": "code",
   "execution_count": 13,
   "metadata": {},
   "outputs": [
    {
     "data": {
      "text/plain": [
       "(6, 9)"
      ]
     },
     "execution_count": 13,
     "metadata": {},
     "output_type": "execute_result"
    }
   ],
   "source": [
    "data.shape"
   ]
  },
  {
   "cell_type": "code",
   "execution_count": 14,
   "metadata": {},
   "outputs": [
    {
     "name": "stdout",
     "output_type": "stream",
     "text": [
      "[[6 1 1 0 0 1 9 0 8]\n",
      " [1 0 9 5 8 1 0 1 0]\n",
      " [8 1 0 1 0 0 9 1 7]\n",
      " [0 7 1 0 0 9 1 7 0]\n",
      " [0 5 6 7 5 6 0 7 2]\n",
      " [1 0 8 5 9 2 0 0 1]]\n"
     ]
    }
   ],
   "source": [
    "X=data.values\n",
    "print(X)"
   ]
  },
  {
   "cell_type": "code",
   "execution_count": 5,
   "metadata": {},
   "outputs": [],
   "source": [
    "Xt=np.transpose(X)"
   ]
  },
  {
   "cell_type": "markdown",
   "metadata": {},
   "source": [
    "# Khai trien SVD"
   ]
  },
  {
   "cell_type": "code",
   "execution_count": 6,
   "metadata": {},
   "outputs": [],
   "source": [
    "XXt=np.dot(X,Xt)"
   ]
  },
  {
   "cell_type": "code",
   "execution_count": 7,
   "metadata": {},
   "outputs": [],
   "source": [
    "XtX=np.dot(Xt,X)"
   ]
  },
  {
   "cell_type": "code",
   "execution_count": 8,
   "metadata": {},
   "outputs": [],
   "source": [
    "S,U=np.linalg.eigh(XXt)"
   ]
  },
  {
   "cell_type": "code",
   "execution_count": 9,
   "metadata": {},
   "outputs": [
    {
     "data": {
      "text/plain": [
       "array([  1.86230894,   4.10586676,  13.17603369, 202.53710898,\n",
       "       354.36496614, 558.95371549])"
      ]
     },
     "execution_count": 9,
     "metadata": {},
     "output_type": "execute_result"
    }
   ],
   "source": [
    "S"
   ]
  },
  {
   "cell_type": "code",
   "execution_count": 19,
   "metadata": {},
   "outputs": [
    {
     "data": {
      "text/plain": [
       "array([-0.2439383 , -0.46526843, -0.24282838, -0.31695293, -0.58262128,\n",
       "       -0.47449665])"
      ]
     },
     "execution_count": 19,
     "metadata": {},
     "output_type": "execute_result"
    }
   ],
   "source": [
    "U[:,-1]"
   ]
  },
  {
   "cell_type": "code",
   "execution_count": 17,
   "metadata": {},
   "outputs": [],
   "source": [
    "S,V=np.linalg.eigh(XtX)"
   ]
  },
  {
   "cell_type": "code",
   "execution_count": 18,
   "metadata": {},
   "outputs": [
    {
     "data": {
      "text/plain": [
       "array([-7.06544468e-15, -1.89121261e-15,  3.50468984e-14,  1.86230894e+00,\n",
       "        4.10586676e+00,  1.31760337e+01,  2.02537109e+02,  3.54364966e+02,\n",
       "        5.58953715e+02])"
      ]
     },
     "execution_count": 18,
     "metadata": {},
     "output_type": "execute_result"
    }
   ],
   "source": [
    "S"
   ]
  },
  {
   "cell_type": "code",
   "execution_count": 20,
   "metadata": {},
   "outputs": [
    {
     "data": {
      "text/plain": [
       "array([-0.18382475, -0.23764891, -0.50925916, -0.38152126, -0.46128206,\n",
       "       -0.33865306, -0.19870624, -0.29629711, -0.22379659])"
      ]
     },
     "execution_count": 20,
     "metadata": {},
     "output_type": "execute_result"
    }
   ],
   "source": [
    "V[:,-1]"
   ]
  },
  {
   "cell_type": "code",
   "execution_count": 21,
   "metadata": {},
   "outputs": [],
   "source": [
    "U,S,V=np.linalg.svd(X)"
   ]
  },
  {
   "cell_type": "code",
   "execution_count": 22,
   "metadata": {},
   "outputs": [
    {
     "data": {
      "text/plain": [
       "(6, 6)"
      ]
     },
     "execution_count": 22,
     "metadata": {},
     "output_type": "execute_result"
    }
   ],
   "source": [
    "U.shape"
   ]
  },
  {
   "cell_type": "code",
   "execution_count": 23,
   "metadata": {},
   "outputs": [
    {
     "data": {
      "text/plain": [
       "array([23.642202  , 18.82458409, 14.23155329,  3.62988067,  2.02629385,\n",
       "        1.3646644 ])"
      ]
     },
     "execution_count": 23,
     "metadata": {},
     "output_type": "execute_result"
    }
   ],
   "source": [
    "S"
   ]
  },
  {
   "cell_type": "code",
   "execution_count": 24,
   "metadata": {},
   "outputs": [
    {
     "data": {
      "text/plain": [
       "array([[-0.18382475, -0.23764891, -0.50925916, -0.38152126, -0.46128206,\n",
       "        -0.33865306, -0.19870624, -0.29629711, -0.22379659],\n",
       "       [ 0.46812431,  0.012264  , -0.22468896, -0.14828941, -0.24669275,\n",
       "        -0.07055157,  0.62869331, -0.05338785,  0.49426104],\n",
       "       [-0.13259131,  0.46797765, -0.30354013, -0.14442013, -0.37283256,\n",
       "         0.51849628, -0.04443082,  0.48542691, -0.07047543],\n",
       "       [-0.05724682, -0.03721719, -0.21805897,  0.70455642, -0.26126021,\n",
       "        -0.41873255, -0.16663567,  0.35792771,  0.22784792],\n",
       "       [ 0.65019475,  0.03176101, -0.01964265, -0.01724685,  0.03372222,\n",
       "        -0.23146601,  0.02931888,  0.31092311, -0.65062144],\n",
       "       [ 0.25041509,  0.00379506, -0.67910488,  0.20855589,  0.48716224,\n",
       "         0.28574645, -0.22743407, -0.24045481,  0.06384377],\n",
       "       [-0.46269538,  0.03756733, -0.2490279 ,  0.21208289,  0.21525207,\n",
       "        -0.07608221,  0.68761287, -0.00240234, -0.3906001 ],\n",
       "       [-0.08535656, -0.7429813 , -0.10677232, -0.22676324,  0.18393173,\n",
       "         0.15467909,  0.03759483,  0.55399068,  0.10860755],\n",
       "       [-0.13920042,  0.41052248, -0.12449562, -0.41833136,  0.44774095,\n",
       "        -0.52078745, -0.09331837,  0.29017767,  0.23872855]])"
      ]
     },
     "execution_count": 24,
     "metadata": {},
     "output_type": "execute_result"
    }
   ],
   "source": [
    "V"
   ]
  },
  {
   "cell_type": "code",
   "execution_count": 28,
   "metadata": {},
   "outputs": [],
   "source": [
    "D=np.diag(S)"
   ]
  },
  {
   "cell_type": "code",
   "execution_count": 33,
   "metadata": {},
   "outputs": [
    {
     "data": {
      "text/plain": [
       "(9, 9)"
      ]
     },
     "execution_count": 33,
     "metadata": {},
     "output_type": "execute_result"
    }
   ],
   "source": [
    "V.shape"
   ]
  },
  {
   "cell_type": "code",
   "execution_count": 30,
   "metadata": {},
   "outputs": [
    {
     "data": {
      "text/plain": [
       "(6, 6)"
      ]
     },
     "execution_count": 30,
     "metadata": {},
     "output_type": "execute_result"
    }
   ],
   "source": [
    "D.shape"
   ]
  },
  {
   "cell_type": "code",
   "execution_count": 38,
   "metadata": {},
   "outputs": [
    {
     "data": {
      "text/plain": [
       "array([[ 6.00000000e+00,  1.00000000e+00,  1.00000000e+00,\n",
       "         1.70696790e-15,  2.10942375e-15,  1.00000000e+00,\n",
       "         9.00000000e+00,  2.83106871e-15,  8.00000000e+00],\n",
       "       [ 1.00000000e+00,  7.89732862e-16,  9.00000000e+00,\n",
       "         5.00000000e+00,  8.00000000e+00,  1.00000000e+00,\n",
       "        -2.24820162e-15,  1.00000000e+00, -2.76167977e-15],\n",
       "       [ 8.00000000e+00,  1.00000000e+00,  6.82787160e-15,\n",
       "         1.00000000e+00,  3.96904731e-15,  1.23512311e-15,\n",
       "         9.00000000e+00,  1.00000000e+00,  7.00000000e+00],\n",
       "       [-9.38485401e-16,  7.00000000e+00,  1.00000000e+00,\n",
       "        -2.78293014e-15, -2.01227923e-15,  9.00000000e+00,\n",
       "         1.00000000e+00,  7.00000000e+00, -3.47812057e-16],\n",
       "       [ 1.22861790e-15,  5.00000000e+00,  6.00000000e+00,\n",
       "         7.00000000e+00,  5.00000000e+00,  6.00000000e+00,\n",
       "        -1.25477428e-15,  7.00000000e+00,  2.00000000e+00],\n",
       "       [ 1.00000000e+00, -4.22838847e-16,  8.00000000e+00,\n",
       "         5.00000000e+00,  9.00000000e+00,  2.00000000e+00,\n",
       "        -4.16333634e-16, -8.32667268e-16,  1.00000000e+00]])"
      ]
     },
     "execution_count": 38,
     "metadata": {},
     "output_type": "execute_result"
    }
   ],
   "source": [
    "np.dot(U,np.dot(D,V[:6]))"
   ]
  },
  {
   "cell_type": "code",
   "execution_count": 46,
   "metadata": {},
   "outputs": [],
   "source": [
    "U2=U[:,:2]\n",
    "D2=np.diag(S[:2])\n",
    "V2=V[:2]"
   ]
  },
  {
   "cell_type": "code",
   "execution_count": 50,
   "metadata": {},
   "outputs": [
    {
     "data": {
      "text/plain": [
       "array([[ 6.74229965,  1.51943954,  0.20972256,  0.40037283, -0.33405694,\n",
       "         1.09673117,  8.77712695,  1.06078924,  7.29007692],\n",
       "       [-0.03440554,  2.56025512,  6.58889518,  4.84815852,  6.15781126,\n",
       "         4.03510689, -0.57609003,  3.49379247,  0.29046475],\n",
       "       [ 6.98818029,  1.5197714 ,  0.07602676,  0.31094484, -0.47827792,\n",
       "         1.05006064,  9.10860995,  1.02442222,  7.54890621],\n",
       "       [ 1.13460896,  1.77445093,  3.93269036,  2.93585274,  3.58459179,\n",
       "         2.57428891,  1.16281538,  2.24799112,  1.42057613],\n",
       "       [ 0.95600128,  3.23219253,  7.77124883,  5.7545071 ,  7.18447315,\n",
       "         4.90229301,  0.62038095,  4.26107627,  1.41859413],\n",
       "       [ 0.21874084,  2.61768554,  6.59774853,  4.86391154,  6.1461834 ,\n",
       "         4.0768851 , -0.24662295,  3.53414075,  0.56422667]])"
      ]
     },
     "execution_count": 50,
     "metadata": {},
     "output_type": "execute_result"
    }
   ],
   "source": [
    "np.dot(U2,np.dot(D2,V2))"
   ]
  },
  {
   "cell_type": "code",
   "execution_count": 47,
   "metadata": {},
   "outputs": [
    {
     "data": {
      "text/plain": [
       "(6, 2)"
      ]
     },
     "execution_count": 47,
     "metadata": {},
     "output_type": "execute_result"
    }
   ],
   "source": [
    "U2.shape"
   ]
  },
  {
   "cell_type": "code",
   "execution_count": 48,
   "metadata": {},
   "outputs": [
    {
     "data": {
      "text/plain": [
       "(2, 9)"
      ]
     },
     "execution_count": 48,
     "metadata": {},
     "output_type": "execute_result"
    }
   ],
   "source": [
    "V2.shape"
   ]
  },
  {
   "cell_type": "code",
   "execution_count": 49,
   "metadata": {},
   "outputs": [
    {
     "data": {
      "text/plain": [
       "(2, 2)"
      ]
     },
     "execution_count": 49,
     "metadata": {},
     "output_type": "execute_result"
    }
   ],
   "source": [
    "D2.shape"
   ]
  },
  {
   "cell_type": "markdown",
   "metadata": {},
   "source": [
    "# Lee and Seung Algortihm"
   ]
  },
  {
   "cell_type": "code",
   "execution_count": 57,
   "metadata": {},
   "outputs": [],
   "source": [
    "import numpy as np\n",
    "def seung_objective(X, W, H):\n",
    "    ''' calculated the non-negative matrix factorization objective ||X-WH||\n",
    "        \n",
    "    Usage:\n",
    "        W, H = seung_update(X, W, H)\n",
    "    Parameters:\n",
    "        V: a (d x n)-array containing n observations in the columns\n",
    "        W: (d x k)-array of non-negative basis images (components)\n",
    "        H: (k x n)-array of weights, one column for each of the n observations\n",
    "    Returns:\n",
    "        F: a scalar objective\n",
    "    '''    \n",
    "    d, n = X.shape\n",
    "    WH = np.dot(W, H)\n",
    "    F=LA.norm(X-WH)\n",
    "    #F = (X - WH).sum() / (d * n)\n",
    "    return F\n",
    "def seung_updateW(V, W, H):\n",
    "    ''' performs the multiplicative non-negative matrix factorization updates for W\n",
    "        \n",
    "    Usage:\n",
    "        W, H = seung_update(V, W, H)\n",
    "    Parameters:\n",
    "        V: a (d x n)-array containing n observations in the columns\n",
    "        W: (d x k)-array of non-negative basis images (components)\n",
    "        H: (k x n)-array of weights, one column for each of the n observations\n",
    "    Returns:\n",
    "        W: (d x k)-array of updated non-negative basis images (components)\n",
    "    '''\n",
    "    \n",
    "    WH = np.dot(W, H)\n",
    "    #W_new = W * np.dot(V / WH, H.T)\n",
    "    W_new = W * np.dot(V,H.T) / np.dot(WH, H.T)\n",
    "    W_new = W_new / np.sum(W_new, axis=0, keepdims=True)    \n",
    "    return W_new\n",
    "\n",
    "def seung_updateH(V, W, H):\n",
    "    ''' performs the multiplicative non-negative matrix factorization updates\n",
    "        \n",
    "    Usage:\n",
    "        W, H = seung_update(V, W, H)\n",
    "    Parameters:\n",
    "        V: a (d x n)-array containing n observations in the columns\n",
    "        W: (d x k)-array of non-negative basis images (components)\n",
    "        H: (k x n)-array of weights, one column for each of the n observations\n",
    "    Returns:\n",
    "        H: (k x n)-array of updated weights, one column for each of the n observations\n",
    "    '''\n",
    "    \n",
    "    WH = np.dot(W, H)\n",
    "    #H_new = H * np.dot((V / WH).T, W).T\n",
    "    H_new = H * np.dot(V.T,W).T / np.dot(W.T, WH)\n",
    "    return H_new\n",
    "\n",
    "\n",
    "def seung_nmf(V, k, threshold=1e-5, maxiter=500):\n",
    "    ''' decomposes X into r components by non-negative matrix factorization\n",
    "        \n",
    "    Usage:\n",
    "        W, H = seung_nmf(X, r)\n",
    "    Parameters:\n",
    "        V: a (d x n)-array containing n observations in the columns\n",
    "        k: number of components to extract\n",
    "        threshold: relative error threshold of the iteration\n",
    "        maxiter: maximum number of iterations\n",
    "    Returns:\n",
    "        W: (d x k)-array of non-negative basis images (components)\n",
    "        H: (k x n)-array of weights, one column for each of the n observations\n",
    "    '''\n",
    "    \n",
    "    d, n = V.shape\n",
    "    W = np.random.rand(d, k)\n",
    "    H = np.random.rand(k, n)\n",
    "    F = seung_objective(V, W, H)\n",
    "    \n",
    "    it_no = 0\n",
    "    converged = False\n",
    "\n",
    "    while (not converged) and it_no <= maxiter:\n",
    "        W_new = seung_updateW(V, W, H)\n",
    "        H_new = seung_updateH(V, W_new, H)    \n",
    "        F_new = seung_objective(V, W_new, H_new)\n",
    "\n",
    "        converged = np.abs(F_new - F) <= threshold \n",
    "        W, H = W_new, H_new\n",
    "        it_no = it_no + 1\n",
    "    \n",
    "    return W, H"
   ]
  },
  {
   "cell_type": "code",
   "execution_count": 58,
   "metadata": {},
   "outputs": [],
   "source": [
    "W,H=seung_nmf(X,k=2)"
   ]
  },
  {
   "cell_type": "code",
   "execution_count": 59,
   "metadata": {},
   "outputs": [
    {
     "name": "stdout",
     "output_type": "stream",
     "text": [
      "W= [[0.    0.45 ]\n",
      " [0.263 0.   ]\n",
      " [0.    0.466]\n",
      " [0.159 0.05 ]\n",
      " [0.313 0.033]\n",
      " [0.265 0.   ]]\n"
     ]
    }
   ],
   "source": [
    "print('W=', W.round(3))"
   ]
  },
  {
   "cell_type": "code",
   "execution_count": 60,
   "metadata": {},
   "outputs": [
    {
     "name": "stdout",
     "output_type": "stream",
     "text": [
      "H= [[ 0.941  9.993 24.803 18.332 23.05  15.489  0.    13.454  2.241]\n",
      " [15.147  2.953  0.575  0.853  0.     1.93  19.597  1.896 16.273]]\n"
     ]
    }
   ],
   "source": [
    "print('H=',H.round(3))"
   ]
  },
  {
   "cell_type": "code",
   "execution_count": 20,
   "metadata": {},
   "outputs": [
    {
     "name": "stdout",
     "output_type": "stream",
     "text": [
      "[[6.722 1.022 0.482 0.479 0.    0.506 9.091 0.504 7.194]\n",
      " [0.433 2.633 5.324 3.772 4.882 3.981 0.    3.317 0.658]\n",
      " [6.98  1.061 0.5   0.498 0.    0.526 9.441 0.523 7.47 ]\n",
      " [0.735 2.55  5.081 3.606 4.638 3.806 0.437 3.175 0.971]\n",
      " [0.659 4.002 8.093 5.733 7.42  6.052 0.    5.041 1.   ]\n",
      " [0.471 2.732 5.52  3.911 5.06  4.128 0.03  3.44  0.706]]\n"
     ]
    }
   ],
   "source": [
    "WH=np.dot(W,H)\n",
    "print(WH.round(3))"
   ]
  },
  {
   "cell_type": "code",
   "execution_count": 61,
   "metadata": {},
   "outputs": [
    {
     "data": {
      "text/plain": [
       "15.193962347844126"
      ]
     },
     "execution_count": 61,
     "metadata": {},
     "output_type": "execute_result"
    }
   ],
   "source": [
    "LA.norm(X-WH)\n",
    "#E=X-WH\n",
    "#print(E.round(3))"
   ]
  },
  {
   "cell_type": "code",
   "execution_count": 165,
   "metadata": {},
   "outputs": [
    {
     "name": "stdout",
     "output_type": "stream",
     "text": [
      "[[0.    0.035 0.476]\n",
      " [0.347 0.    0.   ]\n",
      " [0.    0.    0.524]\n",
      " [0.    0.575 0.   ]\n",
      " [0.292 0.39  0.   ]\n",
      " [0.361 0.    0.   ]]\n"
     ]
    }
   ],
   "source": [
    "print( np.array_str(W, precision=3, suppress_small=True) )"
   ]
  },
  {
   "cell_type": "code",
   "execution_count": 166,
   "metadata": {},
   "outputs": [
    {
     "name": "stdout",
     "output_type": "stream",
     "text": [
      "[[ 2.     0.    22.459 17.    22.     3.996  0.     1.558  3.   ]\n",
      " [ 0.    12.355  1.662  0.     0.    15.004  1.038 13.442  0.   ]\n",
      " [14.     1.645  0.878  1.     0.     0.    17.962  1.    15.   ]]\n"
     ]
    }
   ],
   "source": [
    "print( np.array_str(H, precision=3, suppress_small=True) )"
   ]
  },
  {
   "cell_type": "code",
   "execution_count": 167,
   "metadata": {},
   "outputs": [
    {
     "data": {
      "text/plain": [
       "5.012950878753692"
      ]
     },
     "execution_count": 167,
     "metadata": {},
     "output_type": "execute_result"
    }
   ],
   "source": [
    "LA.norm(X-W.dot(H))"
   ]
  },
  {
   "cell_type": "code",
   "execution_count": 24,
   "metadata": {},
   "outputs": [
    {
     "name": "stdout",
     "output_type": "stream",
     "text": [
      "[0 1 1 1 1 1 0 1 0]\n"
     ]
    }
   ],
   "source": [
    "print(np.argmax(H[:,:],axis=0))"
   ]
  },
  {
   "cell_type": "code",
   "execution_count": 26,
   "metadata": {},
   "outputs": [
    {
     "name": "stdout",
     "output_type": "stream",
     "text": [
      "[[14.   2.1  1.   1.   0.   1.1 19.   1.1 15. ]\n",
      " [ 2.  11.9 24.  17.  22.  17.9  0.  14.9  3. ]]\n"
     ]
    }
   ],
   "source": [
    "print(H.round(1))"
   ]
  },
  {
   "cell_type": "code",
   "execution_count": null,
   "metadata": {},
   "outputs": [],
   "source": []
  },
  {
   "cell_type": "code",
   "execution_count": 148,
   "metadata": {},
   "outputs": [],
   "source": [
    "a=np.array([\n",
    "[0.278, 0.   ],\n",
    "[0.    ,0.34 ],\n",
    "[0.289 ,0.   ],\n",
    "[0.267 ,0.   ],\n",
    "[0.166 ,0.306],\n",
    "[0.    ,0.354],\n",
    "])"
   ]
  },
  {
   "cell_type": "code",
   "execution_count": 149,
   "metadata": {},
   "outputs": [],
   "source": [
    "b=np.array([\n",
    "[14.    ,14.   ,  2.314 , 1.279 , 0.   , 13.38 , 19.    ,12.776 ,16.76],\n",
    "[2.    , 0.    ,22.686 ,16.721, 22.   , 5.62  , 0.   ,  3.224  ,1.24  ] \n",
    "])"
   ]
  },
  {
   "cell_type": "code",
   "execution_count": 150,
   "metadata": {},
   "outputs": [],
   "source": [
    "WH=a.dot(b)"
   ]
  },
  {
   "cell_type": "code",
   "execution_count": 151,
   "metadata": {},
   "outputs": [
    {
     "name": "stdout",
     "output_type": "stream",
     "text": [
      "[[3.892 3.892 0.643 0.356 0.    3.72  5.282 3.552 4.659]\n",
      " [0.68  0.    7.713 5.685 7.48  1.911 0.    1.096 0.422]\n",
      " [4.046 4.046 0.669 0.37  0.    3.867 5.491 3.692 4.844]\n",
      " [3.738 3.738 0.618 0.341 0.    3.572 5.073 3.411 4.475]\n",
      " [2.936 2.324 7.326 5.329 6.732 3.941 3.154 3.107 3.162]\n",
      " [0.708 0.    8.031 5.919 7.788 1.989 0.    1.141 0.439]]\n"
     ]
    }
   ],
   "source": [
    "print( np.array_str(WH, precision=3, suppress_small=True) )"
   ]
  },
  {
   "cell_type": "code",
   "execution_count": 152,
   "metadata": {},
   "outputs": [
    {
     "name": "stdout",
     "output_type": "stream",
     "text": [
      "Collecting array-to-latex\n",
      "  Downloading https://files.pythonhosted.org/packages/6d/74/11c8beefc62b954246b806f712952dfae7561bc8301606ca043f85a2e0db/array_to_latex-0.82-py3-none-any.whl\n",
      "Requirement already satisfied: pandas in c:\\users\\tvlon\\anaconda3\\lib\\site-packages (from array-to-latex) (1.0.3)\n",
      "Requirement already satisfied: numpy in c:\\users\\tvlon\\anaconda3\\lib\\site-packages (from array-to-latex) (1.18.4)\n",
      "Collecting clipboard (from array-to-latex)\n",
      "  Downloading https://files.pythonhosted.org/packages/8a/38/17f3885713d0f39994563029942b1d31c93d4e56d80da505abfbfb3a3bc4/clipboard-0.0.4.tar.gz\n",
      "Requirement already satisfied: pytz>=2017.2 in c:\\users\\tvlon\\anaconda3\\lib\\site-packages (from pandas->array-to-latex) (2019.3)\n",
      "Requirement already satisfied: python-dateutil>=2.6.1 in c:\\users\\tvlon\\anaconda3\\lib\\site-packages (from pandas->array-to-latex) (2.8.0)\n",
      "Collecting pyperclip>=1.3 (from clipboard->array-to-latex)\n",
      "  Downloading https://files.pythonhosted.org/packages/f6/5b/55866e1cde0f86f5eec59dab5de8a66628cb0d53da74b8dbc15ad8dabda3/pyperclip-1.8.0.tar.gz\n",
      "Requirement already satisfied: six>=1.5 in c:\\users\\tvlon\\anaconda3\\lib\\site-packages (from python-dateutil>=2.6.1->pandas->array-to-latex) (1.12.0)\n",
      "Building wheels for collected packages: clipboard, pyperclip\n",
      "  Building wheel for clipboard (setup.py): started\n",
      "  Building wheel for clipboard (setup.py): finished with status 'done'\n",
      "  Created wheel for clipboard: filename=clipboard-0.0.4-cp37-none-any.whl size=1856 sha256=03f173f554230235fbc44d4eb771a6bb0b731122ad7303cba4b9ea277c9bcc44\n",
      "  Stored in directory: C:\\Users\\tvlon\\AppData\\Local\\pip\\Cache\\wheels\\a9\\1b\\ee\\c8a41d3052443c52881cd75d0f3621d70bfd4894ea6e4ef6e7\n",
      "  Building wheel for pyperclip (setup.py): started\n",
      "  Building wheel for pyperclip (setup.py): finished with status 'done'\n",
      "  Created wheel for pyperclip: filename=pyperclip-1.8.0-cp37-none-any.whl size=8697 sha256=f0601ae7f1bc437689339647d3a1725ab62f9df826a26c50e85b745dc35c0e58\n",
      "  Stored in directory: C:\\Users\\tvlon\\AppData\\Local\\pip\\Cache\\wheels\\b2\\ac\\0a\\b784f0afe26eaf52e88a7e15c7369090deea0354fa1c6fc689\n",
      "Successfully built clipboard pyperclip\n",
      "Installing collected packages: pyperclip, clipboard, array-to-latex\n",
      "Successfully installed array-to-latex-0.82 clipboard-0.0.4 pyperclip-1.8.0\n",
      "Note: you may need to restart the kernel to use updated packages.\n"
     ]
    }
   ],
   "source": [
    "pip install array-to-latex"
   ]
  },
  {
   "cell_type": "code",
   "execution_count": 158,
   "metadata": {},
   "outputs": [],
   "source": [
    "def bmatrix(a):\n",
    "    \"\"\"Returns a LaTeX bmatrix\n",
    "\n",
    "    :a: numpy array\n",
    "    :returns: LaTeX bmatrix as a string\n",
    "    \"\"\"\n",
    "    if len(a.shape) > 2:\n",
    "        raise ValueError('bmatrix can at most display two dimensions')\n",
    "    lines = str(a).replace('[', '').replace(']', '').splitlines()\n",
    "    rv = [r'\\begin{bmatrix}']\n",
    "    rv += ['  ' + ' & '.join(l.split()) + r'\\ ' for l in lines]\n",
    "    rv +=  [r'\\end{bmatrix}']\n",
    "    return rv"
   ]
  },
  {
   "cell_type": "code",
   "execution_count": 159,
   "metadata": {},
   "outputs": [
    {
     "data": {
      "text/plain": [
       "['\\\\begin{bmatrix}',\n",
       " '  3.892 & 3.892 & 0.643 & 0.356 & 0. & 3.72 & 5.282 & 3.552 & 4.659\\\\ ',\n",
       " '  0.68 & 0. & 7.713 & 5.685 & 7.48 & 1.911 & 0. & 1.096 & 0.422\\\\ ',\n",
       " '  4.046 & 4.046 & 0.669 & 0.37 & 0. & 3.867 & 5.491 & 3.692 & 4.844\\\\ ',\n",
       " '  3.738 & 3.738 & 0.618 & 0.341 & 0. & 3.572 & 5.073 & 3.411 & 4.475\\\\ ',\n",
       " '  2.936 & 2.324 & 7.326 & 5.329 & 6.732 & 3.941 & 3.154 & 3.107 & 3.162\\\\ ',\n",
       " '  0.708 & 0. & 8.031 & 5.919 & 7.788 & 1.989 & 0. & 1.141 & 0.439\\\\ ',\n",
       " '\\\\end{bmatrix}']"
      ]
     },
     "execution_count": 159,
     "metadata": {},
     "output_type": "execute_result"
    }
   ],
   "source": [
    "bmatrix(WH)"
   ]
  },
  {
   "cell_type": "code",
   "execution_count": 160,
   "metadata": {},
   "outputs": [
    {
     "data": {
      "text/plain": [
       "['\\\\begin{bmatrix}',\n",
       " '  2.108 & -2.892 & 0.357 & -0.356 & 0. & -2.72 & 3.718 & -3.552 & 3.341\\\\ ',\n",
       " '  0.32 & 0. & 1.287 & -0.685 & 0.52 & -0.911 & 0. & -0.096 & -0.422\\\\ ',\n",
       " '  3.954 & -3.046 & -0.669 & 0.63 & 0. & -3.867 & 3.509 & -2.692 & 2.156\\\\ ',\n",
       " '  -3.738 & 3.262 & 0.382 & -0.341 & 0. & 5.428 & -4.073 & 3.589 & -4.475\\\\ ',\n",
       " '  -2.936 & 2.676 & -1.326 & 1.671 & -1.732 & 2.059 & -3.154 & 3.893 & -1.162\\\\ ',\n",
       " '  0.292 & 0. & -0.031 & -0.919 & 1.212 & 0.011 & 0. & -1.141 & 0.561\\\\ ',\n",
       " '\\\\end{bmatrix}']"
      ]
     },
     "execution_count": 160,
     "metadata": {},
     "output_type": "execute_result"
    }
   ],
   "source": [
    "bmatrix(X-WH)"
   ]
  },
  {
   "cell_type": "code",
   "execution_count": null,
   "metadata": {},
   "outputs": [],
   "source": []
  },
  {
   "cell_type": "code",
   "execution_count": null,
   "metadata": {},
   "outputs": [],
   "source": []
  },
  {
   "cell_type": "code",
   "execution_count": null,
   "metadata": {},
   "outputs": [],
   "source": []
  },
  {
   "cell_type": "code",
   "execution_count": null,
   "metadata": {},
   "outputs": [],
   "source": []
  },
  {
   "cell_type": "code",
   "execution_count": 113,
   "metadata": {},
   "outputs": [],
   "source": [
    "np.set_printoptions(precision=3)"
   ]
  },
  {
   "cell_type": "markdown",
   "metadata": {},
   "source": [
    "# ALS Algorithm"
   ]
  },
  {
   "cell_type": "code",
   "execution_count": 32,
   "metadata": {},
   "outputs": [],
   "source": [
    "import numpy as np\n",
    "from numpy.linalg import lstsq\n",
    "\n",
    "def als(A, k, num_iter=500, init_W = None, init_H = None):\n",
    "    # Initialize W and H\n",
    "    if init_W is None:\n",
    "        W = np.random.rand(np.size(A, 0), k)\n",
    "    else:\n",
    "        W = init_W\n",
    "\n",
    "    if init_H is None:\n",
    "        H = np.random.rand(k, np.size(A, 1))\n",
    "    else:\n",
    "        H = init_H\n",
    "\n",
    "    # Decompose the input matrix\n",
    "    for n in range(num_iter):\n",
    "        # Update H\n",
    "        # Solve the least squares problem: argmin_H ||WH - A||\n",
    "        H = lstsq(W, A, rcond = -1)[0]\n",
    "        # Set negative elements of H to 0\n",
    "        H[H < 0] = 0\n",
    "\n",
    "        # Update W\n",
    "        # Solve the least squares problem: argmin_W.T ||H.TW.T - A.T||\n",
    "        W = lstsq(H.T, A.T, rcond = -1)[0].T\n",
    "\n",
    "        # Set negative elements of W to 0\n",
    "        W[W < 0] = 0\n",
    "\n",
    "    return W, H"
   ]
  },
  {
   "cell_type": "code",
   "execution_count": 37,
   "metadata": {},
   "outputs": [],
   "source": [
    "W,H=als(X,k=2)"
   ]
  },
  {
   "cell_type": "code",
   "execution_count": 38,
   "metadata": {},
   "outputs": [
    {
     "name": "stdout",
     "output_type": "stream",
     "text": [
      "[[1.259e+00 0.000e+00]\n",
      " [0.000e+00 8.980e-01]\n",
      " [1.307e+00 0.000e+00]\n",
      " [1.420e-01 5.380e-01]\n",
      " [9.400e-02 1.059e+00]\n",
      " [1.000e-03 8.970e-01]]\n"
     ]
    }
   ],
   "source": [
    "print(W.round(3))"
   ]
  },
  {
   "cell_type": "code",
   "execution_count": 39,
   "metadata": {},
   "outputs": [
    {
     "name": "stdout",
     "output_type": "stream",
     "text": [
      "[[5.409 1.056 0.205 0.305 0.    0.691 7.009 0.679 5.81 ]\n",
      " [0.279 2.939 7.324 5.41  6.82  4.56  0.    3.96  0.66 ]]\n"
     ]
    }
   ],
   "source": [
    "print(H.round(3))"
   ]
  },
  {
   "cell_type": "code",
   "execution_count": 40,
   "metadata": {},
   "outputs": [
    {
     "name": "stdout",
     "output_type": "stream",
     "text": [
      "[0 1 1 1 1 1 0 1 0]\n"
     ]
    }
   ],
   "source": [
    "print(np.argmax(H[:,:],axis=0))"
   ]
  },
  {
   "cell_type": "code",
   "execution_count": null,
   "metadata": {},
   "outputs": [],
   "source": []
  },
  {
   "cell_type": "markdown",
   "metadata": {},
   "source": [
    "# Faces dataset"
   ]
  },
  {
   "cell_type": "code",
   "execution_count": 41,
   "metadata": {},
   "outputs": [],
   "source": [
    "import numpy as np\n",
    "import pandas as pd\n",
    "import matplotlib.pyplot as plt\n",
    "from sklearn import decomposition\n",
    "from sklearn.datasets import fetch_olivetti_faces"
   ]
  },
  {
   "cell_type": "code",
   "execution_count": 42,
   "metadata": {},
   "outputs": [],
   "source": [
    "# Load faces data\n",
    "faces, _ = fetch_olivetti_faces(return_X_y=True, shuffle=True)"
   ]
  },
  {
   "cell_type": "code",
   "execution_count": 43,
   "metadata": {},
   "outputs": [],
   "source": [
    "n_samples, n_features = faces.shape"
   ]
  },
  {
   "cell_type": "code",
   "execution_count": 44,
   "metadata": {},
   "outputs": [
    {
     "data": {
      "text/plain": [
       "(400, 4096)"
      ]
     },
     "execution_count": 44,
     "metadata": {},
     "output_type": "execute_result"
    }
   ],
   "source": [
    "faces.shape"
   ]
  },
  {
   "cell_type": "code",
   "execution_count": 39,
   "metadata": {},
   "outputs": [
    {
     "name": "stdout",
     "output_type": "stream",
     "text": [
      "Dataset consists of 400 faces\n"
     ]
    }
   ],
   "source": [
    "print(\"Dataset consists of %d faces\" % n_samples)"
   ]
  },
  {
   "cell_type": "code",
   "execution_count": 47,
   "metadata": {},
   "outputs": [],
   "source": [
    "n_components=5\n",
    "model=decomposition.NMF(n_components=n_components, init='nndsvda', tol=5e-3)"
   ]
  },
  {
   "cell_type": "code",
   "execution_count": null,
   "metadata": {},
   "outputs": [],
   "source": []
  },
  {
   "cell_type": "code",
   "execution_count": null,
   "metadata": {},
   "outputs": [],
   "source": []
  },
  {
   "cell_type": "code",
   "execution_count": 48,
   "metadata": {},
   "outputs": [],
   "source": [
    "W = model.fit_transform(faces)"
   ]
  },
  {
   "cell_type": "code",
   "execution_count": 49,
   "metadata": {},
   "outputs": [
    {
     "data": {
      "text/plain": [
       "(400, 5)"
      ]
     },
     "execution_count": 49,
     "metadata": {},
     "output_type": "execute_result"
    }
   ],
   "source": [
    "W.shape"
   ]
  },
  {
   "cell_type": "code",
   "execution_count": 50,
   "metadata": {},
   "outputs": [],
   "source": [
    "H = model.components_"
   ]
  },
  {
   "cell_type": "code",
   "execution_count": 52,
   "metadata": {},
   "outputs": [
    {
     "data": {
      "text/plain": [
       "(5, 4096)"
      ]
     },
     "execution_count": 52,
     "metadata": {},
     "output_type": "execute_result"
    }
   ],
   "source": [
    "H.shape"
   ]
  },
  {
   "cell_type": "code",
   "execution_count": 53,
   "metadata": {},
   "outputs": [],
   "source": [
    "X1=W[0,:].dot(H)"
   ]
  },
  {
   "cell_type": "code",
   "execution_count": 54,
   "metadata": {},
   "outputs": [
    {
     "data": {
      "text/plain": [
       "(4096,)"
      ]
     },
     "execution_count": 54,
     "metadata": {},
     "output_type": "execute_result"
    }
   ],
   "source": [
    "X1.shape"
   ]
  },
  {
   "cell_type": "code",
   "execution_count": 57,
   "metadata": {},
   "outputs": [],
   "source": [
    "img=X1.reshape(64,64)"
   ]
  },
  {
   "cell_type": "code",
   "execution_count": 61,
   "metadata": {},
   "outputs": [
    {
     "data": {
      "image/png": "[encoded data removed]",
      "text/plain": [
       "<Figure size 432x288 with 1 Axes>"
      ]
     },
     "metadata": {
      "needs_background": "light"
     },
     "output_type": "display_data"
    }
   ],
   "source": [
    "plt.imshow(img,cmap='gray')\n",
    "plt.show()"
   ]
  },
  {
   "cell_type": "code",
   "execution_count": 62,
   "metadata": {},
   "outputs": [],
   "source": [
    "H1=H[0,:]"
   ]
  },
  {
   "cell_type": "code",
   "execution_count": null,
   "metadata": {},
   "outputs": [],
   "source": []
  },
  {
   "cell_type": "code",
   "execution_count": null,
   "metadata": {},
   "outputs": [],
   "source": [
    "H1 # 5x4096"
   ]
  },
  {
   "cell_type": "code",
   "execution_count": 51,
   "metadata": {},
   "outputs": [
    {
     "data": {
      "image/png": "[encoded data removed]",
      "text/plain": [
       "<Figure size 432x288 with 1 Axes>"
      ]
     },
     "metadata": {
      "needs_background": "light"
     },
     "output_type": "display_data"
    },
    {
     "data": {
      "image/png": "[encoded data removed]",
      "text/plain": [
       "<Figure size 432x288 with 1 Axes>"
      ]
     },
     "metadata": {
      "needs_background": "light"
     },
     "output_type": "display_data"
    },
    {
     "data": {
      "image/png": "[encoded data removed]",
      "text/plain": [
       "<Figure size 432x288 with 1 Axes>"
      ]
     },
     "metadata": {
      "needs_background": "light"
     },
     "output_type": "display_data"
    },
    {
     "data": {
      "image/png": "[encoded data removed]",
      "text/plain": [
       "<Figure size 432x288 with 1 Axes>"
      ]
     },
     "metadata": {
      "needs_background": "light"
     },
     "output_type": "display_data"
    },
    {
     "data": {
      "image/png": "[encoded data removed]",
      "text/plain": [
       "<Figure size 432x288 with 1 Axes>"
      ]
     },
     "metadata": {
      "needs_background": "light"
     },
     "output_type": "display_data"
    }
   ],
   "source": [
    "for k in range(5):\n",
    "    plt.imshow(H[k,:].reshape(64,64),cmap='gray')\n",
    "    plt.show()"
   ]
  },
  {
   "cell_type": "code",
   "execution_count": null,
   "metadata": {},
   "outputs": [],
   "source": []
  },
  {
   "cell_type": "code",
   "execution_count": 52,
   "metadata": {},
   "outputs": [],
   "source": [
    "W,H=seung_nmf(faces,k=5)"
   ]
  },
  {
   "cell_type": "code",
   "execution_count": 53,
   "metadata": {},
   "outputs": [
    {
     "data": {
      "image/png": "[encoded data removed]",
      "text/plain": [
       "<Figure size 432x288 with 1 Axes>"
      ]
     },
     "metadata": {
      "needs_background": "light"
     },
     "output_type": "display_data"
    },
    {
     "data": {
      "image/png": "[encoded data removed]",
      "text/plain": [
       "<Figure size 432x288 with 1 Axes>"
      ]
     },
     "metadata": {
      "needs_background": "light"
     },
     "output_type": "display_data"
    },
    {
     "data": {
      "image/png": "[encoded data removed]",
      "text/plain": [
       "<Figure size 432x288 with 1 Axes>"
      ]
     },
     "metadata": {
      "needs_background": "light"
     },
     "output_type": "display_data"
    },
    {
     "data": {
      "image/png": "[encoded data removed]",
      "text/plain": [
       "<Figure size 432x288 with 1 Axes>"
      ]
     },
     "metadata": {
      "needs_background": "light"
     },
     "output_type": "display_data"
    },
    {
     "data": {
      "image/png": "[encoded data removed]",
      "text/plain": [
       "<Figure size 432x288 with 1 Axes>"
      ]
     },
     "metadata": {
      "needs_background": "light"
     },
     "output_type": "display_data"
    }
   ],
   "source": [
    "for k in range(5):\n",
    "    plt.imshow(H[k,:].reshape(64,64),cmap='gray')\n",
    "    plt.show()"
   ]
  },
  {
   "cell_type": "code",
   "execution_count": 54,
   "metadata": {},
   "outputs": [],
   "source": [
    "W,H=als(faces,k=5)"
   ]
  },
  {
   "cell_type": "code",
   "execution_count": 55,
   "metadata": {},
   "outputs": [
    {
     "data": {
      "image/png": "[encoded data removed]",
      "text/plain": [
       "<Figure size 432x288 with 1 Axes>"
      ]
     },
     "metadata": {
      "needs_background": "light"
     },
     "output_type": "display_data"
    },
    {
     "data": {
      "image/png": "[encoded data removed]",
      "text/plain": [
       "<Figure size 432x288 with 1 Axes>"
      ]
     },
     "metadata": {
      "needs_background": "light"
     },
     "output_type": "display_data"
    },
    {
     "data": {
      "image/png": "[encoded data removed]",
      "text/plain": [
       "<Figure size 432x288 with 1 Axes>"
      ]
     },
     "metadata": {
      "needs_background": "light"
     },
     "output_type": "display_data"
    },
    {
     "data": {
      "image/png": "[encoded data removed]",
      "text/plain": [
       "<Figure size 432x288 with 1 Axes>"
      ]
     },
     "metadata": {
      "needs_background": "light"
     },
     "output_type": "display_data"
    },
    {
     "data": {
      "image/png": "[encoded data removed]",
      "text/plain": [
       "<Figure size 432x288 with 1 Axes>"
      ]
     },
     "metadata": {
      "needs_background": "light"
     },
     "output_type": "display_data"
    }
   ],
   "source": [
    "for k in range(5):\n",
    "    plt.imshow(H[k,:].reshape(64,64),cmap='gray')\n",
    "    plt.show()"
   ]
  },
  {
   "cell_type": "code",
   "execution_count": 56,
   "metadata": {},
   "outputs": [
    {
     "data": {
      "text/plain": [
       "124.48604436148774"
      ]
     },
     "execution_count": 56,
     "metadata": {},
     "output_type": "execute_result"
    }
   ],
   "source": [
    "LA.norm(faces-np.dot(W,H))"
   ]
  },
  {
   "cell_type": "code",
   "execution_count": null,
   "metadata": {},
   "outputs": [],
   "source": []
  },
  {
   "cell_type": "code",
   "execution_count": null,
   "metadata": {},
   "outputs": [],
   "source": []
  },
  {
   "cell_type": "code",
   "execution_count": 66,
   "metadata": {},
   "outputs": [],
   "source": [
    "X = np.array([[1, 1], [2, 1], [3, 1.2], [4, 1], [5, 0.8], [6, 1]])"
   ]
  },
  {
   "cell_type": "code",
   "execution_count": 67,
   "metadata": {},
   "outputs": [
    {
     "name": "stdout",
     "output_type": "stream",
     "text": [
      "[[1.  1. ]\n",
      " [2.  1. ]\n",
      " [3.  1.2]\n",
      " [4.  1. ]\n",
      " [5.  0.8]\n",
      " [6.  1. ]]\n"
     ]
    }
   ],
   "source": [
    "print(X)"
   ]
  },
  {
   "cell_type": "code",
   "execution_count": 74,
   "metadata": {},
   "outputs": [],
   "source": [
    "from sklearn.decomposition import NMF\n",
    "model = NMF(n_components=1, init='random', random_state=0)"
   ]
  },
  {
   "cell_type": "code",
   "execution_count": 75,
   "metadata": {},
   "outputs": [],
   "source": [
    "W = model.fit_transform(X)"
   ]
  },
  {
   "cell_type": "code",
   "execution_count": 76,
   "metadata": {},
   "outputs": [
    {
     "data": {
      "text/plain": [
       "array([[0.44172606],\n",
       "       [0.80091914],\n",
       "       [1.17661881],\n",
       "       [1.51930528],\n",
       "       [1.86199176],\n",
       "       [2.23769143]])"
      ]
     },
     "execution_count": 76,
     "metadata": {},
     "output_type": "execute_result"
    }
   ],
   "source": [
    "W"
   ]
  },
  {
   "cell_type": "code",
   "execution_count": 77,
   "metadata": {},
   "outputs": [],
   "source": [
    "H = model.components_"
   ]
  },
  {
   "cell_type": "code",
   "execution_count": 78,
   "metadata": {},
   "outputs": [
    {
     "data": {
      "text/plain": [
       "array([[2.6444043 , 0.60761512]])"
      ]
     },
     "execution_count": 78,
     "metadata": {},
     "output_type": "execute_result"
    }
   ],
   "source": [
    "H"
   ]
  },
  {
   "cell_type": "markdown",
   "metadata": {},
   "source": [
    "# Topic Modeling"
   ]
  },
  {
   "cell_type": "code",
   "execution_count": null,
   "metadata": {},
   "outputs": [],
   "source": []
  },
  {
   "cell_type": "code",
   "execution_count": 82,
   "metadata": {},
   "outputs": [],
   "source": [
    "data=pd.read_csv(\"news.csv\")"
   ]
  },
  {
   "cell_type": "code",
   "execution_count": 83,
   "metadata": {},
   "outputs": [
    {
     "data": {
      "text/plain": [
       "(2000, 5136)"
      ]
     },
     "execution_count": 83,
     "metadata": {},
     "output_type": "execute_result"
    }
   ],
   "source": [
    "data.shape"
   ]
  },
  {
   "cell_type": "code",
   "execution_count": 84,
   "metadata": {},
   "outputs": [
    {
     "data": {
      "text/html": [
       "<div>\n",
       "<style scoped>\n",
       "    .dataframe tbody tr th:only-of-type {\n",
       "        vertical-align: middle;\n",
       "    }\n",
       "\n",
       "    .dataframe tbody tr th {\n",
       "        vertical-align: top;\n",
       "    }\n",
       "\n",
       "    .dataframe thead th {\n",
       "        text-align: right;\n",
       "    }\n",
       "</style>\n",
       "<table border=\"1\" class=\"dataframe\">\n",
       "  <thead>\n",
       "    <tr style=\"text-align: right;\">\n",
       "      <th></th>\n",
       "      <th>aa</th>\n",
       "      <th>aaa</th>\n",
       "      <th>aaron</th>\n",
       "      <th>ab</th>\n",
       "      <th>abandon</th>\n",
       "      <th>abc</th>\n",
       "      <th>abid</th>\n",
       "      <th>abil</th>\n",
       "      <th>abolish</th>\n",
       "      <th>abort</th>\n",
       "      <th>...</th>\n",
       "      <th>z</th>\n",
       "      <th>zealand</th>\n",
       "      <th>zero</th>\n",
       "      <th>zionism</th>\n",
       "      <th>zionist</th>\n",
       "      <th>zip</th>\n",
       "      <th>zone</th>\n",
       "      <th>zoologi</th>\n",
       "      <th>zoom</th>\n",
       "      <th>zx</th>\n",
       "    </tr>\n",
       "  </thead>\n",
       "  <tbody>\n",
       "    <tr>\n",
       "      <th>0</th>\n",
       "      <td>0</td>\n",
       "      <td>0</td>\n",
       "      <td>0</td>\n",
       "      <td>0</td>\n",
       "      <td>0</td>\n",
       "      <td>0</td>\n",
       "      <td>0</td>\n",
       "      <td>0</td>\n",
       "      <td>0</td>\n",
       "      <td>0</td>\n",
       "      <td>...</td>\n",
       "      <td>0</td>\n",
       "      <td>0</td>\n",
       "      <td>0</td>\n",
       "      <td>0</td>\n",
       "      <td>0</td>\n",
       "      <td>0</td>\n",
       "      <td>0</td>\n",
       "      <td>0</td>\n",
       "      <td>0</td>\n",
       "      <td>0</td>\n",
       "    </tr>\n",
       "    <tr>\n",
       "      <th>1</th>\n",
       "      <td>0</td>\n",
       "      <td>0</td>\n",
       "      <td>0</td>\n",
       "      <td>0</td>\n",
       "      <td>0</td>\n",
       "      <td>0</td>\n",
       "      <td>0</td>\n",
       "      <td>0</td>\n",
       "      <td>0</td>\n",
       "      <td>0</td>\n",
       "      <td>...</td>\n",
       "      <td>0</td>\n",
       "      <td>0</td>\n",
       "      <td>0</td>\n",
       "      <td>0</td>\n",
       "      <td>0</td>\n",
       "      <td>0</td>\n",
       "      <td>0</td>\n",
       "      <td>0</td>\n",
       "      <td>0</td>\n",
       "      <td>0</td>\n",
       "    </tr>\n",
       "    <tr>\n",
       "      <th>2</th>\n",
       "      <td>0</td>\n",
       "      <td>0</td>\n",
       "      <td>0</td>\n",
       "      <td>0</td>\n",
       "      <td>0</td>\n",
       "      <td>0</td>\n",
       "      <td>0</td>\n",
       "      <td>0</td>\n",
       "      <td>0</td>\n",
       "      <td>0</td>\n",
       "      <td>...</td>\n",
       "      <td>0</td>\n",
       "      <td>0</td>\n",
       "      <td>0</td>\n",
       "      <td>0</td>\n",
       "      <td>0</td>\n",
       "      <td>0</td>\n",
       "      <td>0</td>\n",
       "      <td>0</td>\n",
       "      <td>0</td>\n",
       "      <td>0</td>\n",
       "    </tr>\n",
       "    <tr>\n",
       "      <th>3</th>\n",
       "      <td>0</td>\n",
       "      <td>0</td>\n",
       "      <td>0</td>\n",
       "      <td>0</td>\n",
       "      <td>0</td>\n",
       "      <td>0</td>\n",
       "      <td>0</td>\n",
       "      <td>0</td>\n",
       "      <td>0</td>\n",
       "      <td>0</td>\n",
       "      <td>...</td>\n",
       "      <td>1</td>\n",
       "      <td>0</td>\n",
       "      <td>0</td>\n",
       "      <td>0</td>\n",
       "      <td>0</td>\n",
       "      <td>0</td>\n",
       "      <td>0</td>\n",
       "      <td>0</td>\n",
       "      <td>0</td>\n",
       "      <td>0</td>\n",
       "    </tr>\n",
       "    <tr>\n",
       "      <th>4</th>\n",
       "      <td>0</td>\n",
       "      <td>0</td>\n",
       "      <td>0</td>\n",
       "      <td>0</td>\n",
       "      <td>0</td>\n",
       "      <td>0</td>\n",
       "      <td>0</td>\n",
       "      <td>0</td>\n",
       "      <td>0</td>\n",
       "      <td>0</td>\n",
       "      <td>...</td>\n",
       "      <td>0</td>\n",
       "      <td>0</td>\n",
       "      <td>0</td>\n",
       "      <td>0</td>\n",
       "      <td>0</td>\n",
       "      <td>0</td>\n",
       "      <td>0</td>\n",
       "      <td>0</td>\n",
       "      <td>0</td>\n",
       "      <td>0</td>\n",
       "    </tr>\n",
       "  </tbody>\n",
       "</table>\n",
       "<p>5 rows × 5136 columns</p>\n",
       "</div>"
      ],
      "text/plain": [
       "   aa  aaa  aaron  ab  abandon  abc  abid  abil  abolish  abort  ...  z  \\\n",
       "0   0    0      0   0        0    0     0     0        0      0  ...  0   \n",
       "1   0    0      0   0        0    0     0     0        0      0  ...  0   \n",
       "2   0    0      0   0        0    0     0     0        0      0  ...  0   \n",
       "3   0    0      0   0        0    0     0     0        0      0  ...  1   \n",
       "4   0    0      0   0        0    0     0     0        0      0  ...  0   \n",
       "\n",
       "   zealand  zero  zionism  zionist  zip  zone  zoologi  zoom  zx  \n",
       "0        0     0        0        0    0     0        0     0   0  \n",
       "1        0     0        0        0    0     0        0     0   0  \n",
       "2        0     0        0        0    0     0        0     0   0  \n",
       "3        0     0        0        0    0     0        0     0   0  \n",
       "4        0     0        0        0    0     0        0     0   0  \n",
       "\n",
       "[5 rows x 5136 columns]"
      ]
     },
     "execution_count": 84,
     "metadata": {},
     "output_type": "execute_result"
    }
   ],
   "source": [
    "data.head()"
   ]
  },
  {
   "cell_type": "code",
   "execution_count": 86,
   "metadata": {},
   "outputs": [],
   "source": [
    "X=data.values"
   ]
  },
  {
   "cell_type": "code",
   "execution_count": 87,
   "metadata": {},
   "outputs": [],
   "source": [
    "n_components=20\n",
    "model=decomposition.NMF(n_components=n_components, init='nndsvda', tol=5e-3)\n",
    "W = model.fit_transform(X)\n",
    "H = model.components_"
   ]
  },
  {
   "cell_type": "code",
   "execution_count": 88,
   "metadata": {},
   "outputs": [
    {
     "data": {
      "text/plain": [
       "(2000, 20)"
      ]
     },
     "execution_count": 88,
     "metadata": {},
     "output_type": "execute_result"
    }
   ],
   "source": [
    "W.shape"
   ]
  },
  {
   "cell_type": "code",
   "execution_count": 89,
   "metadata": {},
   "outputs": [
    {
     "data": {
      "text/plain": [
       "(20, 5136)"
      ]
     },
     "execution_count": 89,
     "metadata": {},
     "output_type": "execute_result"
    }
   ],
   "source": [
    "H.shape"
   ]
  },
  {
   "cell_type": "code",
   "execution_count": 90,
   "metadata": {},
   "outputs": [
    {
     "data": {
      "text/plain": [
       "276.1347626653522"
      ]
     },
     "execution_count": 90,
     "metadata": {},
     "output_type": "execute_result"
    }
   ],
   "source": [
    "LA.norm(X-W.dot(H))"
   ]
  },
  {
   "cell_type": "code",
   "execution_count": 91,
   "metadata": {},
   "outputs": [
    {
     "data": {
      "text/plain": [
       "array([[0.        , 0.01973751, 0.        , 0.        , 0.01729348,\n",
       "        0.        , 0.        , 0.        , 0.        , 0.        ,\n",
       "        0.00320253, 0.        , 0.00395902, 0.02088393, 0.        ,\n",
       "        0.        , 0.19598144, 0.01347173, 0.        , 0.        ],\n",
       "       [0.        , 0.01973751, 0.        , 0.        , 0.01729348,\n",
       "        0.        , 0.        , 0.        , 0.        , 0.        ,\n",
       "        0.00320253, 0.        , 0.00395902, 0.02088393, 0.        ,\n",
       "        0.        , 0.19598144, 0.01347173, 0.        , 0.        ],\n",
       "       [0.15248072, 0.        , 0.        , 0.06629509, 0.        ,\n",
       "        0.        , 0.        , 0.        , 0.        , 0.        ,\n",
       "        0.        , 0.0748142 , 0.        , 0.05615641, 0.        ,\n",
       "        0.        , 0.09905241, 0.11868284, 0.01556998, 0.        ],\n",
       "       [0.02105772, 0.00406725, 0.05647727, 0.01286649, 0.        ,\n",
       "        0.00490137, 0.03449099, 0.03200953, 0.        , 0.        ,\n",
       "        0.01133843, 0.00813238, 0.        , 0.00133322, 0.        ,\n",
       "        0.        , 0.06995767, 0.01240991, 0.        , 0.14797474],\n",
       "       [0.04008816, 0.02456588, 0.        , 0.        , 0.02045576,\n",
       "        0.        , 0.        , 0.        , 0.        , 0.        ,\n",
       "        0.0070881 , 0.        , 0.        , 0.02670934, 0.        ,\n",
       "        0.        , 0.11224807, 0.        , 0.00260307, 0.        ]])"
      ]
     },
     "execution_count": 91,
     "metadata": {},
     "output_type": "execute_result"
    }
   ],
   "source": [
    "W[:5,:]"
   ]
  },
  {
   "cell_type": "code",
   "execution_count": 92,
   "metadata": {},
   "outputs": [
    {
     "name": "stdout",
     "output_type": "stream",
     "text": [
      "Topic 1: make,said,say,way,really,right,did,good,time,people\n",
      "Topic 2: information,appreciated,email,help,info,looking,hi,advance,mail,thanks\n",
      "Topic 3: lord,church,christians,christian,believe,faith,christ,bible,jesus,god\n",
      "Topic 4: algorithm,public,escrow,use,government,keys,clipper,encryption,chip,key\n",
      "Topic 5: mac,cd,floppy,controller,ide,hard,drives,disk,scsi,drive\n",
      "Topic 6: 15,20,price,condition,offer,shipping,10,new,sale,00\n",
      "Topic 7: use,version,problem,using,running,program,files,dos,file,windows\n",
      "Topic 8: teams,win,hockey,play,players,season,year,games,team,game\n",
      "Topic 9: pub,cc,ftp,university,cs,soon,banks,gordon,pitt,edu\n",
      "Topic 10: new,oil,speed,miles,dealer,good,engine,bike,cars,car\n",
      "Topic 11: memory,color,bus,driver,vga,cards,drivers,monitor,video,card\n",
      "Topic 12: ftp,appreciated,help,work,doesn,program,mean,anybody,know,does\n",
      "Topic 13: tell,bike,thought,right,oh,wanted,wondering,got,ve,just\n",
      "Topic 14: need,let,guns,government,want,gun,think,know,people,don\n",
      "Topic 15: sure,sound,just,know,don,look,looks,new,sounds,like\n",
      "Topic 16: sun,jim,phone,email,bob,internet,list,dave,article,com\n",
      "Topic 17: set,using,server,display,widget,manager,application,motif,use,window\n",
      "Topic 18: ve,sci,moon,orbit,station,gov,launch,shuttle,nasa,space\n",
      "Topic 19: makes,really,say,original,wrong,science,does,lot,just,think\n",
      "Topic 20: state,land,war,peace,arabs,jewish,arab,jews,israeli,israel\n"
     ]
    }
   ],
   "source": [
    "import numpy as np\n",
    " \n",
    "from sklearn.datasets import fetch_20newsgroups\n",
    " \n",
    "from sklearn.feature_extraction.text import TfidfVectorizer\n",
    " \n",
    "from sklearn.decomposition import NMF\n",
    " \n",
    "data= fetch_20newsgroups(remove=('headers', 'footers', 'quotes')).data\n",
    " \n",
    "# convert the text to a tf-idf weighted term-document matrix\n",
    " \n",
    "vectorizer = TfidfVectorizer(max_features=2000, min_df=10, stop_words='english')\n",
    " \n",
    "X = vectorizer.fit_transform(data)\n",
    " \n",
    "idx_to_word = np.array(vectorizer.get_feature_names())\n",
    " \n",
    "# apply NMF\n",
    " \n",
    "nmf = NMF(n_components=20, solver=\"mu\")\n",
    " \n",
    "W = nmf.fit_transform(X)\n",
    " \n",
    "H = nmf.components_\n",
    " \n",
    "# print the topics\n",
    " \n",
    "for i, topic in enumerate(H):\n",
    " \n",
    "    print(\"Topic {}: {}\".format(i + 1, \",\".join([str(x) for x in idx_to_word[topic.argsort()[-10:]]])))"
   ]
  },
  {
   "cell_type": "code",
   "execution_count": null,
   "metadata": {},
   "outputs": [],
   "source": []
  }
 ],
 "metadata": {
  "kernelspec": {
   "display_name": "Python 3",
   "language": "python",
   "name": "python3"
  },
  "language_info": {
   "codemirror_mode": {
    "name": "ipython",
    "version": 3
   },
   "file_extension": ".py",
   "mimetype": "text/x-python",
   "name": "python",
   "nbconvert_exporter": "python",
   "pygments_lexer": "ipython3",
   "version": "3.7.9"
  }
 },
 "nbformat": 4,
 "nbformat_minor": 4
}
