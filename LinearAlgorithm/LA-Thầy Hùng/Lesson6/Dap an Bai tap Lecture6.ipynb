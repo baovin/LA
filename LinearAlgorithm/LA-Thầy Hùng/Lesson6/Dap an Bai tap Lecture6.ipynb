{
 "cells": [
  {
   "cell_type": "code",
   "execution_count": 1,
   "metadata": {},
   "outputs": [],
   "source": [
    "import numpy as np\n",
    "import pandas as pd\n",
    "import matplotlib.pyplot as plt"
   ]
  },
  {
   "cell_type": "markdown",
   "metadata": {},
   "source": [
    "## BÀI TẬP "
   ]
  },
  {
   "cell_type": "markdown",
   "metadata": {},
   "source": [
    "### Bài 1"
   ]
  },
  {
   "cell_type": "code",
   "execution_count": 2,
   "metadata": {},
   "outputs": [
    {
     "name": "stdout",
     "output_type": "stream",
     "text": [
      "[[ 7  2]\n",
      " [-4  1]]\n"
     ]
    }
   ],
   "source": [
    "A=np.array([[7,2],[-4,1]])\n",
    "print(A)"
   ]
  },
  {
   "cell_type": "code",
   "execution_count": 6,
   "metadata": {},
   "outputs": [
    {
     "name": "stdout",
     "output_type": "stream",
     "text": [
      "Giá trị riêng:  5.0 Véc-tơ riêng:  [ 0.70710678 -0.70710678]\n",
      "Giá trị riêng:  3.0 Véc-tơ riêng:  [-0.4472136   0.89442719]\n"
     ]
    }
   ],
   "source": [
    "lam, P=np.linalg.eig(A)\n",
    "for i in range(2):\n",
    "    print('Giá trị riêng: ', lam[i], 'Véc-tơ riêng: ',P[:,i])"
   ]
  },
  {
   "cell_type": "code",
   "execution_count": 9,
   "metadata": {},
   "outputs": [
    {
     "name": "stdout",
     "output_type": "stream",
     "text": [
      "Ma trận đường chéo: D=  [[5. 0.]\n",
      " [0. 3.]]\n",
      "Ma trận chéo hóa: P= [[ 0.70710678 -0.4472136 ]\n",
      " [-0.70710678  0.89442719]]\n"
     ]
    }
   ],
   "source": [
    "D=np.diag(lam)\n",
    "print('Ma trận đường chéo: D= ',D)\n",
    "print('Ma trận chéo hóa: P=', P)"
   ]
  },
  {
   "cell_type": "markdown",
   "metadata": {},
   "source": [
    "* Lũy thừa ma trận $A^n=PD^nP^{-1}$\n",
    "* $A^n=\\begin{pmatrix} 25^n-3^n & 5^n-3^n\\\\\n",
    "-25^n+23^n& -5^n+23^n\\end{pmatrix}$"
   ]
  },
  {
   "cell_type": "markdown",
   "metadata": {},
   "source": [
    "### Bài 2"
   ]
  },
  {
   "cell_type": "code",
   "execution_count": 10,
   "metadata": {},
   "outputs": [
    {
     "name": "stdout",
     "output_type": "stream",
     "text": [
      "[[2 2 1]\n",
      " [1 3 1]\n",
      " [1 2 2]]\n"
     ]
    }
   ],
   "source": [
    "A=np.array([[2,2,1],[1,3,1],[1,2,2]])\n",
    "print(A)"
   ]
  },
  {
   "cell_type": "code",
   "execution_count": 11,
   "metadata": {},
   "outputs": [
    {
     "name": "stdout",
     "output_type": "stream",
     "text": [
      "Giá trị riêng:  5.000000000000001 Véc-tơ riêng:  [-0.57735027 -0.57735027 -0.57735027]\n",
      "Giá trị riêng:  0.9999999999999999 Véc-tơ riêng:  [-0.90453403  0.30151134  0.30151134]\n",
      "Giá trị riêng:  1.0000000000000002 Véc-tơ riêng:  [ 0.82529864 -0.52125218  0.21720572]\n"
     ]
    }
   ],
   "source": [
    "lam, P=np.linalg.eig(A)\n",
    "for i in range(3):\n",
    "    print('Giá trị riêng: ', lam[i], 'Véc-tơ riêng: ',P[:,i])"
   ]
  },
  {
   "cell_type": "code",
   "execution_count": 12,
   "metadata": {},
   "outputs": [
    {
     "name": "stdout",
     "output_type": "stream",
     "text": [
      "Ma trận đường chéo: D=  [[5. 0. 0.]\n",
      " [0. 1. 0.]\n",
      " [0. 0. 1.]]\n",
      "Ma trận chéo hóa: P= [[-0.57735027 -0.90453403  0.82529864]\n",
      " [-0.57735027  0.30151134 -0.52125218]\n",
      " [-0.57735027  0.30151134  0.21720572]]\n"
     ]
    }
   ],
   "source": [
    "D=np.diag(lam)\n",
    "print('Ma trận đường chéo: D= ',D)\n",
    "print('Ma trận chéo hóa: P=', P)"
   ]
  },
  {
   "cell_type": "markdown",
   "metadata": {},
   "source": [
    "### Bài 3"
   ]
  },
  {
   "cell_type": "code",
   "execution_count": 5,
   "metadata": {},
   "outputs": [
    {
     "name": "stdout",
     "output_type": "stream",
     "text": [
      "[[ 2  4  3]\n",
      " [-4 -6 -3]\n",
      " [ 3  3  1]]\n"
     ]
    }
   ],
   "source": [
    "A=np.array([[2,4,3],[-4,-6,-3],[3,3,1]])\n",
    "print(A)"
   ]
  },
  {
   "cell_type": "code",
   "execution_count": 10,
   "metadata": {},
   "outputs": [
    {
     "name": "stdout",
     "output_type": "stream",
     "text": [
      "[ 1. -2. -2.]\n",
      "[[ 0.5774  0.7071  0.7071]\n",
      " [-0.5774 -0.7071 -0.7071]\n",
      " [ 0.5774  0.      0.    ]]\n"
     ]
    }
   ],
   "source": [
    "lam,v=np.linalg.eig(A)\n",
    "print(lam.round(4).real)\n",
    "print(v.round(4).real)"
   ]
  },
  {
   "cell_type": "code",
   "execution_count": 12,
   "metadata": {},
   "outputs": [
    {
     "name": "stdout",
     "output_type": "stream",
     "text": [
      "Ma trận A có các GTR, VTR\n",
      "Giá trị riêng:  1.0 Véc-tơ riêng:  [ 0.5774 -0.5774  0.5774]\n",
      "Giá trị riêng:  -2.0 Véc-tơ riêng:  [ 0.7071 -0.7071  0.    ]\n",
      "Giá trị riêng:  -2.0 Véc-tơ riêng:  [ 0.7071 -0.7071  0.    ]\n"
     ]
    }
   ],
   "source": [
    "print(\"Ma trận A có các GTR, VTR\")\n",
    "for i in range(len(lam)):\n",
    "    print('Giá trị riêng: ', lam[i].round(4).real, 'Véc-tơ riêng: ',v[:,i].round(4).real)"
   ]
  },
  {
   "cell_type": "markdown",
   "metadata": {},
   "source": [
    "* Ma trận $A$ có GTR $\\lambda=-2$ (bội 2) nhưng chỉ có một VTR $[ 0.7071 -0.7071  0.    ]$ nên $A$ không chéo hoá được."
   ]
  },
  {
   "cell_type": "code",
   "execution_count": 15,
   "metadata": {},
   "outputs": [
    {
     "name": "stdout",
     "output_type": "stream",
     "text": [
      "[ 1.  3.  0. -4.]\n"
     ]
    }
   ],
   "source": [
    "charpoly=np.poly(A)\n",
    "print(charpoly.round(4))"
   ]
  },
  {
   "cell_type": "markdown",
   "metadata": {},
   "source": [
    "* Theo Định lý Cayley-Hamilton: $A^3+3A^2+0.A-4I=0 $\n",
    "* Tính luỹ thừa ta thực hiện phép chia đa thức $$x^n=(x^3+3x^2-4)q(x)+ax^2+bx+c=(x-1)(x+2)^2q(x)+ax^2+bx+c $$\n",
    "* Thay lần lượt $x=1,x=-2$ và thay $x=-2$ vào biểu thức đạo hàm hai vế ta có hệ phương trình $$\\begin{cases}\n",
    "a+b+c&=&1\\\\\n",
    "4a-2b+c&=&(-2)^n\\\\\n",
    "-4a+b&=& n(-2)^{n-1}\n",
    "\\end{cases}$$\n",
    "* Giải hệ phương trình tuyến tính tìm $a,b,c$.\n",
    "* Tính luỹ thừa theo công thức $$A^n=a.A^2+b.A+c.I $$"
   ]
  },
  {
   "cell_type": "code",
   "execution_count": null,
   "metadata": {},
   "outputs": [],
   "source": []
  },
  {
   "cell_type": "markdown",
   "metadata": {},
   "source": [
    "### Bài 4"
   ]
  },
  {
   "cell_type": "code",
   "execution_count": 16,
   "metadata": {},
   "outputs": [
    {
     "name": "stdout",
     "output_type": "stream",
     "text": [
      "Ma trận trọng số W:= [[0. 4. 4. 0. 0. 0.]\n",
      " [4. 0. 2. 0. 1. 0.]\n",
      " [4. 2. 0. 1. 0. 0.]\n",
      " [0. 0. 1. 0. 0. 2.]\n",
      " [0. 1. 0. 0. 0. 4.]\n",
      " [0. 0. 0. 2. 4. 0.]]\n"
     ]
    }
   ],
   "source": [
    "n=6\n",
    "W=np.zeros((n,n))\n",
    "W[0,1]=W[1,0]=4\n",
    "W[0,2]=W[2,0]=4\n",
    "W[1,2]=W[2,1]=2\n",
    "W[1,4]=W[4,1]=1\n",
    "W[2,3]=W[3,2]=1\n",
    "W[3,5]=W[5,3]=2\n",
    "W[4,5]=W[5,4]=4\n",
    "\n",
    "print('Ma trận trọng số W:=',W)"
   ]
  },
  {
   "cell_type": "code",
   "execution_count": 17,
   "metadata": {},
   "outputs": [
    {
     "name": "stdout",
     "output_type": "stream",
     "text": [
      "[[8. 0. 0. 0. 0. 0.]\n",
      " [0. 7. 0. 0. 0. 0.]\n",
      " [0. 0. 7. 0. 0. 0.]\n",
      " [0. 0. 0. 3. 0. 0.]\n",
      " [0. 0. 0. 0. 5. 0.]\n",
      " [0. 0. 0. 0. 0. 6.]]\n"
     ]
    }
   ],
   "source": [
    "D=np.diag(W.sum(axis=1))\n",
    "print(D)"
   ]
  },
  {
   "cell_type": "code",
   "execution_count": 20,
   "metadata": {},
   "outputs": [
    {
     "name": "stdout",
     "output_type": "stream",
     "text": [
      "Ma trận Laplace L:= [[ 8. -4. -4.  0.  0.  0.]\n",
      " [-4.  7. -2.  0. -1.  0.]\n",
      " [-4. -2.  7. -1.  0.  0.]\n",
      " [ 0.  0. -1.  3.  0. -2.]\n",
      " [ 0. -1.  0.  0.  5. -4.]\n",
      " [ 0.  0.  0. -2. -4.  6.]]\n"
     ]
    }
   ],
   "source": [
    "L=D-W\n",
    "print('Ma trận Laplace L:=',L)"
   ]
  },
  {
   "cell_type": "code",
   "execution_count": 22,
   "metadata": {},
   "outputs": [
    {
     "name": "stdout",
     "output_type": "stream",
     "text": [
      "Giá trị riêng:  9.992007221626409e-16 Véc-tơ riêng:  [-0.40824829 -0.40824829 -0.40824829 -0.40824829 -0.40824829 -0.40824829]\n",
      "Giá trị riêng:  1.2331539685636068 Véc-tơ riêng:  [ 0.45147144  0.37636377  0.38739566 -0.32456218 -0.41024516 -0.48042353]\n",
      "Giá trị riêng:  3.338206536652514 Véc-tơ riêng:  [ 0.04683135  0.14542694 -0.09084742 -0.81084377  0.52689286  0.18254004]\n",
      "Giá trị riêng:  9.063584799331421 Véc-tơ riêng:  [ 0.04614701 -0.66258583  0.65031551 -0.20139758 -0.11791701  0.2854379 ]\n",
      "Giá trị riêng:  9.93968720746186 Véc-tơ riêng:  [-0.13620649 -0.20160087  0.26765037  0.16121934  0.60216872 -0.69323107]\n",
      "Giá trị riêng:  12.425367487990584 Véc-tơ riêng:  [ 0.77886581 -0.43688873 -0.42480313  0.0630273   0.10442493 -0.08462618]\n"
     ]
    }
   ],
   "source": [
    "lam, V=np.linalg.eigh(L)\n",
    "for i in range(n):\n",
    "    print('Giá trị riêng: ', lam[i], 'Véc-tơ riêng: ',V[:,i])"
   ]
  },
  {
   "cell_type": "code",
   "execution_count": 23,
   "metadata": {},
   "outputs": [
    {
     "name": "stdout",
     "output_type": "stream",
     "text": [
      "[9.99200722e-16 1.23315397e+00 3.33820654e+00 9.06358480e+00\n",
      " 9.93968721e+00 1.24253675e+01]\n"
     ]
    }
   ],
   "source": [
    "print(lam)"
   ]
  },
  {
   "cell_type": "code",
   "execution_count": 24,
   "metadata": {},
   "outputs": [
    {
     "name": "stdout",
     "output_type": "stream",
     "text": [
      "[ 0.45147144  0.37636377  0.38739566 -0.32456218 -0.41024516 -0.48042353]\n"
     ]
    }
   ],
   "source": [
    "v=V[:,1]\n",
    "print(v)"
   ]
  },
  {
   "cell_type": "code",
   "execution_count": 28,
   "metadata": {},
   "outputs": [
    {
     "data": {
      "image/png": "[encoded data removed]",
      "text/plain": [
       "<Figure size 432x288 with 1 Axes>"
      ]
     },
     "metadata": {
      "needs_background": "light"
     },
     "output_type": "display_data"
    }
   ],
   "source": [
    "plt.bar(np.arange(n),v)\n",
    "plt.show()"
   ]
  },
  {
   "cell_type": "markdown",
   "metadata": {},
   "source": [
    "* Sử dụng giá trị $0$ chia làm 2 nhóm ứng với $v>0$ và $v<0$"
   ]
  },
  {
   "cell_type": "code",
   "execution_count": 34,
   "metadata": {},
   "outputs": [
    {
     "data": {
      "text/plain": [
       "(array([0, 1, 2], dtype=int64),)"
      ]
     },
     "execution_count": 34,
     "metadata": {},
     "output_type": "execute_result"
    }
   ],
   "source": [
    "# Nhóm 1\n",
    "np.where(v>=0)"
   ]
  },
  {
   "cell_type": "markdown",
   "metadata": {},
   "source": [
    "* Nhóm 1 gồm các đỉnh A,B,C"
   ]
  },
  {
   "cell_type": "code",
   "execution_count": 35,
   "metadata": {},
   "outputs": [
    {
     "data": {
      "text/plain": [
       "(array([3, 4, 5], dtype=int64),)"
      ]
     },
     "execution_count": 35,
     "metadata": {},
     "output_type": "execute_result"
    }
   ],
   "source": [
    "# Nhóm 2\n",
    "np.where(v<0)"
   ]
  },
  {
   "cell_type": "markdown",
   "metadata": {},
   "source": [
    "* Nhóm 2 gồm các đỉnh D,E,F"
   ]
  },
  {
   "cell_type": "markdown",
   "metadata": {},
   "source": [
    "## Bài 5"
   ]
  },
  {
   "cell_type": "code",
   "execution_count": 36,
   "metadata": {},
   "outputs": [],
   "source": [
    "from sklearn.datasets import make_circles"
   ]
  },
  {
   "cell_type": "code",
   "execution_count": 37,
   "metadata": {},
   "outputs": [],
   "source": [
    "x, y = make_circles(n_samples=100,noise=0.05,factor=0.5)"
   ]
  },
  {
   "cell_type": "code",
   "execution_count": 38,
   "metadata": {},
   "outputs": [
    {
     "data": {
      "text/plain": [
       "((100, 2), (100,))"
      ]
     },
     "execution_count": 38,
     "metadata": {},
     "output_type": "execute_result"
    }
   ],
   "source": [
    "x.shape, y.shape"
   ]
  },
  {
   "cell_type": "code",
   "execution_count": null,
   "metadata": {},
   "outputs": [],
   "source": []
  },
  {
   "cell_type": "code",
   "execution_count": 85,
   "metadata": {},
   "outputs": [
    {
     "data": {
      "image/png": "[encoded data removed]",
      "text/plain": [
       "<Figure size 432x288 with 1 Axes>"
      ]
     },
     "metadata": {
      "needs_background": "light"
     },
     "output_type": "display_data"
    }
   ],
   "source": [
    "plt.figure()\n",
    "\n",
    "id1=np.where(y==0)\n",
    "id2=np.where(y==1)\n",
    "plt.scatter(x[id1][:,0],x[id1][:,1],c='red')\n",
    "plt.scatter(x[id2][:,0],x[id2][:,1],c='blue')\n",
    "#plt.savefig('circles.png')\n",
    "plt.show()"
   ]
  },
  {
   "cell_type": "code",
   "execution_count": 137,
   "metadata": {},
   "outputs": [],
   "source": [
    "gamma=50"
   ]
  },
  {
   "cell_type": "code",
   "execution_count": 113,
   "metadata": {},
   "outputs": [
    {
     "name": "stdout",
     "output_type": "stream",
     "text": [
      "100\n"
     ]
    }
   ],
   "source": [
    "n=len(x)\n",
    "print(n)"
   ]
  },
  {
   "cell_type": "code",
   "execution_count": 138,
   "metadata": {},
   "outputs": [],
   "source": [
    "W=np.zeros((n,n))\n",
    "for i in range(n):\n",
    "    for j in range(i):\n",
    "        W[i,j]=W[j,i]=np.exp(-gamma*np.linalg.norm(x[i]-x[j])**2)"
   ]
  },
  {
   "cell_type": "code",
   "execution_count": 139,
   "metadata": {},
   "outputs": [],
   "source": [
    "D=np.diag(W.sum(axis=1))\n",
    "L=D-W\n",
    "lam, V=np.linalg.eigh(L)\n"
   ]
  },
  {
   "cell_type": "code",
   "execution_count": 140,
   "metadata": {},
   "outputs": [
    {
     "data": {
      "image/png": "[encoded data removed]",
      "text/plain": [
       "<Figure size 432x288 with 1 Axes>"
      ]
     },
     "metadata": {
      "needs_background": "light"
     },
     "output_type": "display_data"
    }
   ],
   "source": [
    "plt.scatter(V[id1][:,0],V[id1][:,1],c='red')\n",
    "plt.scatter(V[id2][:,0],V[id2][:,1],c='blue')\n",
    "plt.show()"
   ]
  },
  {
   "cell_type": "code",
   "execution_count": 141,
   "metadata": {},
   "outputs": [],
   "source": [
    "from sklearn.cluster import KMeans"
   ]
  },
  {
   "cell_type": "code",
   "execution_count": 142,
   "metadata": {},
   "outputs": [],
   "source": [
    "Vk=V[:,:2]"
   ]
  },
  {
   "cell_type": "code",
   "execution_count": 143,
   "metadata": {},
   "outputs": [
    {
     "data": {
      "text/plain": [
       "array([1, 0, 0, 0, 0, 1, 1, 1, 0, 0, 0, 0, 0, 0, 1, 0, 1, 1, 0, 1, 0, 0,\n",
       "       1, 0, 1, 1, 0, 1, 0, 0, 0, 1, 0, 0, 1, 1, 0, 1, 0, 1, 0, 0, 0, 1,\n",
       "       0, 0, 0, 0, 0, 1, 0, 1, 1, 1, 0, 1, 1, 0, 1, 0, 1, 1, 1, 1, 1, 1,\n",
       "       0, 1, 0, 1, 1, 1, 0, 1, 1, 0, 1, 1, 1, 0, 0, 0, 0, 0, 1, 1, 1, 0,\n",
       "       0, 0, 1, 1, 0, 1, 1, 1, 1, 1, 0, 0])"
      ]
     },
     "execution_count": 143,
     "metadata": {},
     "output_type": "execute_result"
    }
   ],
   "source": [
    "kmeans = KMeans(n_clusters=2, random_state=0).fit(Vk)\n",
    "kmeans.labels_"
   ]
  },
  {
   "cell_type": "code",
   "execution_count": 144,
   "metadata": {},
   "outputs": [
    {
     "data": {
      "image/png": "[encoded data removed]",
      "text/plain": [
       "<Figure size 432x288 with 1 Axes>"
      ]
     },
     "metadata": {
      "needs_background": "light"
     },
     "output_type": "display_data"
    }
   ],
   "source": [
    "plt.figure()\n",
    "x0=x[kmeans.labels_==0]\n",
    "x1=x[kmeans.labels_==1]\n",
    "plt.scatter(x0[:,0],x0[:,1],c='r')\n",
    "plt.scatter(x1[:,0],x1[:,1],c='b')\n",
    "#plt.savefig('circles.png')\n",
    "plt.show()"
   ]
  },
  {
   "cell_type": "code",
   "execution_count": null,
   "metadata": {},
   "outputs": [],
   "source": []
  },
  {
   "cell_type": "markdown",
   "metadata": {},
   "source": [
    "## Bài 6"
   ]
  },
  {
   "cell_type": "code",
   "execution_count": 145,
   "metadata": {},
   "outputs": [],
   "source": [
    "from sklearn.datasets import load_iris"
   ]
  },
  {
   "cell_type": "code",
   "execution_count": 146,
   "metadata": {},
   "outputs": [],
   "source": [
    "iris = load_iris()"
   ]
  },
  {
   "cell_type": "code",
   "execution_count": 194,
   "metadata": {},
   "outputs": [],
   "source": [
    "x=iris.data"
   ]
  },
  {
   "cell_type": "code",
   "execution_count": 226,
   "metadata": {},
   "outputs": [],
   "source": [
    "n,p=x.shape\n",
    "W=np.zeros((n,n))\n",
    "for i in range(n):\n",
    "    for j in range(i+1,n):\n",
    "        if (i!=j):\n",
    "            s=np.exp(-10*(np.linalg.norm(x[i]-x[j]))**2)\n",
    "            W[i,j]=W[j,i]=s"
   ]
  },
  {
   "cell_type": "code",
   "execution_count": 227,
   "metadata": {},
   "outputs": [],
   "source": [
    "D=np.diag(W.sum(axis=1))\n",
    "L=D-W"
   ]
  },
  {
   "cell_type": "code",
   "execution_count": 228,
   "metadata": {},
   "outputs": [],
   "source": [
    "lam,v=np.linalg.eigh(L)"
   ]
  },
  {
   "cell_type": "code",
   "execution_count": 231,
   "metadata": {},
   "outputs": [
    {
     "name": "stdout",
     "output_type": "stream",
     "text": [
      "[0 0 0 0 0 0 0 0 0 0 0 0 0 0 0 0 0 0 0 0 0 0 0 0 0 0 0 0 0 0 0 0 0 0 0 0 0\n",
      " 0 0 0 0 0 0 0 0 0 0 0 0 0 1 1 1 1 1 1 1 1 1 1 1 1 1 1 1 1 1 1 1 1 1 1 1 1\n",
      " 1 1 1 1 1 1 1 1 1 1 1 1 1 1 1 1 1 1 1 1 1 1 1 1 1 1 1 1 1 1 1 1 1 1 1 1 1\n",
      " 1 1 1 1 1 1 2 1 1 1 1 1 1 1 1 1 1 1 1 1 2 1 1 1 1 1 1 1 1 1 1 1 1 1 1 1 1\n",
      " 1 1]\n"
     ]
    }
   ],
   "source": [
    "Vk=v[:,0:3]\n",
    "kmeans = KMeans(n_clusters=3, random_state=0).fit(Vk)\n",
    "yy=kmeans.labels_\n",
    "\n",
    "print(yy)"
   ]
  },
  {
   "cell_type": "code",
   "execution_count": 233,
   "metadata": {},
   "outputs": [
    {
     "data": {
      "image/png": "[encoded data removed]",
      "text/plain": [
       "<Figure size 432x288 with 1 Axes>"
      ]
     },
     "metadata": {
      "needs_background": "light"
     },
     "output_type": "display_data"
    }
   ],
   "source": [
    "plt.figure()\n",
    "x0=x[yy==0]\n",
    "x1=x[yy==1]\n",
    "x2=x[yy==2]\n",
    "plt.scatter(x0[:,0],x0[:,1],c='r')\n",
    "plt.scatter(x1[:,0],x1[:,1],c='b')\n",
    "plt.scatter(x2[:,0],x2[:,1],c='g')\n",
    "#plt.savefig('circles.png')\n",
    "plt.show()"
   ]
  },
  {
   "cell_type": "code",
   "execution_count": null,
   "metadata": {},
   "outputs": [],
   "source": []
  }
 ],
 "metadata": {
  "kernelspec": {
   "display_name": "Python 3 (ipykernel)",
   "language": "python",
   "name": "python3"
  },
  "language_info": {
   "codemirror_mode": {
    "name": "ipython",
    "version": 3
   },
   "file_extension": ".py",
   "mimetype": "text/x-python",
   "name": "python",
   "nbconvert_exporter": "python",
   "pygments_lexer": "ipython3",
   "version": "3.8.12"
  }
 },
 "nbformat": 4,
 "nbformat_minor": 4
}
