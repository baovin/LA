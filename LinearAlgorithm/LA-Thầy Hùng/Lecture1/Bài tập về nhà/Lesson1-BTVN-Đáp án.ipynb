{
 "cells": [
  {
   "cell_type": "markdown",
   "metadata": {},
   "source": [
    "# Bài tập về nhà 1\n",
    "### Môn: Linear Algebra"
   ]
  },
  {
   "cell_type": "code",
   "execution_count": 1,
   "metadata": {},
   "outputs": [],
   "source": [
    "import numpy as np"
   ]
  },
  {
   "cell_type": "markdown",
   "metadata": {},
   "source": [
    "### Bài 1 - Dãy số co\n",
    "Bắt đầu với một dãy $S=(a_1,\\dots,a_{8})$ gồm 8 số nguyên dương phân biệt, được chọn ngẫu nhiên trong đoạn $[1,300]$ và tìm chuỗi \n",
    "\n",
    "$$S_1=T(S)=(|a_1-a_{2}|,\\dots,|a_{7}-a_{8}|,|a_{8}-a_{1}|)$$\n",
    "\n",
    "Các dãy $S,\\,S_1,\\,S_2=T(S_1),S_3=T(S_2),\\dots$ có kết thúc bởi dãy $(0,\\dots,0)$ hay không? Hãy tìm câu trả lời bằng cách xây dựng mảng 2-chiều $A$ có hàng $A[i]$ là dãy $S_i$, hàng cuối cùng của mảng $A$ tương ứng với dãy số 0."
   ]
  },
  {
   "cell_type": "markdown",
   "metadata": {},
   "source": [
    "### Lời giải"
   ]
  },
  {
   "cell_type": "code",
   "execution_count": 11,
   "metadata": {},
   "outputs": [
    {
     "data": {
      "text/plain": [
       "array([ 79, 288,  63, 113, 215,  98, 238, 265], dtype=int64)"
      ]
     },
     "execution_count": 11,
     "metadata": {},
     "output_type": "execute_result"
    }
   ],
   "source": [
    "S = np.zeros(8,dtype=np.int64)\n",
    "for i in range(8):\n",
    "    while True:\n",
    "        x = np.random.randint(1,300)\n",
    "        if x not in S:\n",
    "            S[i]=x\n",
    "            break\n",
    "S"
   ]
  },
  {
   "cell_type": "code",
   "execution_count": 12,
   "metadata": {},
   "outputs": [
    {
     "data": {
      "text/plain": [
       "array([[ 79, 288,  63, 113, 215,  98, 238, 265],\n",
       "       [209, 225,  50, 102, 117, 140,  27, 186],\n",
       "       [ 16, 175,  52,  15,  23, 113, 159,  23],\n",
       "       [159, 123,  37,   8,  90,  46, 136,   7],\n",
       "       [ 36,  86,  29,  82,  44,  90, 129, 152],\n",
       "       [ 50,  57,  53,  38,  46,  39,  23, 116],\n",
       "       [  7,   4,  15,   8,   7,  16,  93,  66],\n",
       "       [  3,  11,   7,   1,   9,  77,  27,  59],\n",
       "       [  8,   4,   6,   8,  68,  50,  32,  56],\n",
       "       [  4,   2,   2,  60,  18,  18,  24,  48],\n",
       "       [  2,   0,  58,  42,   0,   6,  24,  44],\n",
       "       [  2,  58,  16,  42,   6,  18,  20,  42],\n",
       "       [ 56,  42,  26,  36,  12,   2,  22,  40],\n",
       "       [ 14,  16,  10,  24,  10,  20,  18,  16],\n",
       "       [  2,   6,  14,  14,  10,   2,   2,   2],\n",
       "       [  4,   8,   0,   4,   8,   0,   0,   0],\n",
       "       [  4,   8,   4,   4,   8,   0,   0,   4],\n",
       "       [  4,   4,   0,   4,   8,   0,   4,   0],\n",
       "       [  0,   4,   4,   4,   8,   4,   4,   4],\n",
       "       [  4,   0,   0,   4,   4,   0,   0,   4],\n",
       "       [  4,   0,   4,   0,   4,   0,   4,   0]], dtype=int64)"
      ]
     },
     "execution_count": 12,
     "metadata": {},
     "output_type": "execute_result"
    }
   ],
   "source": [
    "def transform(s):\n",
    "    n=len(s)\n",
    "    s1=np.zeros(8,dtype=np.int64)\n",
    "    for i in range(n-1):\n",
    "        s1[i]=np.abs(s[i]-s[i+1])\n",
    "    s1[-1]=np.abs(s[-1]-s[0])\n",
    "    return s1\n",
    "\n",
    "A=S\n",
    "for row in range(20):\n",
    "    S=transform(S)\n",
    "    A=np.vstack([A,S])\n",
    "A"
   ]
  },
  {
   "attachments": {},
   "cell_type": "markdown",
   "metadata": {},
   "source": [
    "### Bài 2 - Tam giác Pascal\n",
    "Tạo một mảng 2-chiều kích thước $10\\times 10$. Mảng được chia thành hai hình tam giác đối xứng qua đường chéo phụ (*xem hình vẽ trong phiếu bài tập về nhà*), trong đó hình tam giác (nửa mảng) gồm các phần tử tạo thành tam giác Pascal."
   ]
  },
  {
   "cell_type": "markdown",
   "metadata": {},
   "source": [
    "### Lời giải"
   ]
  },
  {
   "cell_type": "code",
   "execution_count": 13,
   "metadata": {},
   "outputs": [
    {
     "name": "stdout",
     "output_type": "stream",
     "text": [
      "[[  1   1   1   1   1   1   1   1   1   1]\n",
      " [  1   2   3   4   5   6   7   8   9   1]\n",
      " [  1   3   6  10  15  21  28  36   0   1]\n",
      " [  1   4  10  20  35  56  84   0   0   1]\n",
      " [  1   5  15  35  70 126   0   0   0   1]\n",
      " [  1   6  21  56 126   0   0   0   0   1]\n",
      " [  1   7  28  84   0   0   0   0   0   1]\n",
      " [  1   8  36   0   0   0   0   0   0   1]\n",
      " [  1   9   0   0   0   0   0   0   0   1]\n",
      " [  1   1   1   1   1   1   1   1   1   1]]\n"
     ]
    },
    {
     "data": {
      "text/plain": [
       "array([[  1,   1,   1,   1,   1,   1,   1,   1,   1,   1],\n",
       "       [  1,   2,   3,   4,   5,   6,   7,   8,   9,   1],\n",
       "       [  1,   3,   6,  10,  15,  21,  28,  36,   8,   1],\n",
       "       [  1,   4,  10,  20,  35,  56,  84,  28,   7,   1],\n",
       "       [  1,   5,  15,  35,  70, 126,  56,  21,   6,   1],\n",
       "       [  1,   6,  21,  56, 126,  70,  35,  15,   5,   1],\n",
       "       [  1,   7,  28,  84,  56,  35,  20,  10,   4,   1],\n",
       "       [  1,   8,  36,  28,  21,  15,  10,   6,   3,   1],\n",
       "       [  1,   9,   8,   7,   6,   5,   4,   3,   2,   1],\n",
       "       [  1,   1,   1,   1,   1,   1,   1,   1,   1,   1]], dtype=int64)"
      ]
     },
     "execution_count": 13,
     "metadata": {},
     "output_type": "execute_result"
    }
   ],
   "source": [
    "A = np.zeros((10,10),dtype=np.int64)\n",
    "for i in range(10):\n",
    "    A[0,i] = A[i,0] = A[9,i] = A[i,9] = 1\n",
    "for i in range(10):\n",
    "    for j in range(8-i):\n",
    "        A[i+1,j+1] = A[i,j+1] + A[i+1,j]\n",
    "print(A)\n",
    "for i in range(1,9):\n",
    "    for j in range(1,9-i):\n",
    "        A[9-i,9-j] = A[i,j]\n",
    "A"
   ]
  }
 ],
 "metadata": {
  "kernelspec": {
   "display_name": "Python 3 (ipykernel)",
   "language": "python",
   "name": "python3"
  },
  "language_info": {
   "codemirror_mode": {
    "name": "ipython",
    "version": 3
   },
   "file_extension": ".py",
   "mimetype": "text/x-python",
   "name": "python",
   "nbconvert_exporter": "python",
   "pygments_lexer": "ipython3",
   "version": "3.12.4"
  }
 },
 "nbformat": 4,
 "nbformat_minor": 4
}
