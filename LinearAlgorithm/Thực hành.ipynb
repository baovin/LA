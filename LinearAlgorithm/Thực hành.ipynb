{
 "cells": [
  {
   "cell_type": "markdown",
   "id": "61af6009",
   "metadata": {},
   "source": [
    "# Thực hành"
   ]
  },
  {
   "cell_type": "code",
   "execution_count": 1,
   "id": "db099690",
   "metadata": {},
   "outputs": [],
   "source": [
    "# Khai báo thư viện\n",
    "import numpy as np"
   ]
  },
  {
   "cell_type": "code",
   "execution_count": 14,
   "id": "30686156",
   "metadata": {},
   "outputs": [
    {
     "name": "stdout",
     "output_type": "stream",
     "text": [
      "[[ 1 -2  4]\n",
      " [ 2  5  6]]\n",
      "[[0. 0. 0. 0. 0. 0.]\n",
      " [1. 0. 0. 0. 0. 0.]\n",
      " [0. 1. 0. 0. 0. 0.]\n",
      " [0. 0. 1. 0. 0. 0.]]\n"
     ]
    },
    {
     "data": {
      "text/plain": [
       "array([[1., 0., 0.],\n",
       "       [0., 1., 0.],\n",
       "       [0., 0., 1.]])"
      ]
     },
     "execution_count": 14,
     "metadata": {},
     "output_type": "execute_result"
    }
   ],
   "source": [
    "# Khởi tạo ma trận\n",
    "A = np.array([1, -2, 4, 2, 5, 6]).reshape(2,3)\n",
    "print(A)\n",
    "\n",
    "I = np.eye(4,6,-1)\n",
    "print(I)\n",
    "np.identity(3)"
   ]
  },
  {
   "cell_type": "code",
   "execution_count": 15,
   "id": "0e6fce9f",
   "metadata": {},
   "outputs": [
    {
     "name": "stdout",
     "output_type": "stream",
     "text": [
      "[[ 0.  0.  1.  1.]\n",
      " [ 0.  0.  1.  1.]\n",
      " [ 1.  4.  5.  6.]\n",
      " [-2.  5.  7.  8.]]\n"
     ]
    }
   ],
   "source": [
    "# Tạo các ma trận khối: F = [[A | B], [C | D]]\n",
    "A = np.zeros((2,2))\n",
    "B = np.ones((2,2))\n",
    "C = np.array([1,4,-2,5]).reshape(2,2)\n",
    "D = np.arange(5,9).reshape(2,2)\n",
    "F = np.vstack([np.hstack([A,B]), np.hstack([C,D])])\n",
    "print(F)"
   ]
  },
  {
   "cell_type": "code",
   "execution_count": 18,
   "id": "d3206260",
   "metadata": {},
   "outputs": [
    {
     "data": {
      "text/plain": [
       "array([[0, 0, 0, 0, 0, 0],\n",
       "       [2, 0, 0, 0, 0, 0],\n",
       "       [0, 1, 0, 0, 0, 0],\n",
       "       [0, 0, 4, 0, 0, 0],\n",
       "       [0, 0, 0, 5, 0, 0],\n",
       "       [0, 0, 0, 0, 7, 0]])"
      ]
     },
     "execution_count": 18,
     "metadata": {},
     "output_type": "execute_result"
    }
   ],
   "source": [
    "d = [2, 1, 4, 5, 7]\n",
    "np.diag(d,-1)"
   ]
  },
  {
   "cell_type": "code",
   "execution_count": 21,
   "id": "1976f8d2",
   "metadata": {},
   "outputs": [
    {
     "name": "stdout",
     "output_type": "stream",
     "text": [
      "[[-2  5 -1 -5]\n",
      " [ 1  0 -4 -1]\n",
      " [ 3 -3  2  4]\n",
      " [ 1 -4 -4 -2]]\n",
      "[[ 0  0  0  0]\n",
      " [ 1  0  0  0]\n",
      " [ 3 -3  0  0]\n",
      " [ 1 -4 -4  0]]\n",
      "[[ 0  5 -1 -5]\n",
      " [ 0  0 -4 -1]\n",
      " [ 0  0  0  4]\n",
      " [ 0  0  0  0]]\n",
      "[-2  0  2 -2]\n"
     ]
    }
   ],
   "source": [
    "A = np.random.randint(-5,6,(4,4))\n",
    "print(A)\n",
    "L = np.tril(A,-1)\n",
    "U = np.triu(A,1)\n",
    "D = np.diag(A)\n",
    "print(L, U, D, sep='\\n')"
   ]
  },
  {
   "cell_type": "code",
   "execution_count": 24,
   "id": "afc56f1d",
   "metadata": {},
   "outputs": [
    {
     "data": {
      "text/plain": [
       "False"
      ]
     },
     "execution_count": 24,
     "metadata": {},
     "output_type": "execute_result"
    }
   ],
   "source": [
    "# Hai ma trận bằng nhau\n",
    "A = np.array([1,2,3,4]).reshape(2,2)\n",
    "B = np.array([1,-2,3,4]).reshape(2,2)\n",
    "np.all(A==B)\n",
    "np.allclose(A, B)"
   ]
  },
  {
   "cell_type": "code",
   "execution_count": 30,
   "id": "1d68a380",
   "metadata": {},
   "outputs": [
    {
     "data": {
      "text/plain": [
       "array([[ 7,  6],\n",
       "       [15, 10]])"
      ]
     },
     "execution_count": 30,
     "metadata": {},
     "output_type": "execute_result"
    }
   ],
   "source": [
    "# Nhân ma trận\n",
    "A@B\n",
    "np.matmul(A,B)\n",
    "np.dot(A,B)\n",
    "A.dot(B)"
   ]
  },
  {
   "cell_type": "code",
   "execution_count": 27,
   "id": "6c21f620",
   "metadata": {},
   "outputs": [
    {
     "data": {
      "text/plain": [
       "array([[ 1, -4],\n",
       "       [ 9, 16]])"
      ]
     },
     "execution_count": 27,
     "metadata": {},
     "output_type": "execute_result"
    }
   ],
   "source": [
    "# Nhân từng phần tử (không phải phép nhân ma trận)\n",
    "A*B"
   ]
  },
  {
   "cell_type": "code",
   "execution_count": 33,
   "id": "f25d54ba",
   "metadata": {},
   "outputs": [
    {
     "data": {
      "text/plain": [
       "array([[1, 3],\n",
       "       [2, 4]])"
      ]
     },
     "execution_count": 33,
     "metadata": {},
     "output_type": "execute_result"
    }
   ],
   "source": [
    "# Chuyển vị ma trận\n",
    "A.T\n",
    "np.transpose(A)"
   ]
  },
  {
   "cell_type": "code",
   "execution_count": 34,
   "id": "fe3536a2",
   "metadata": {},
   "outputs": [
    {
     "data": {
      "text/plain": [
       "array([[ 7, 10],\n",
       "       [15, 22]])"
      ]
     },
     "execution_count": 34,
     "metadata": {},
     "output_type": "execute_result"
    }
   ],
   "source": [
    "# Luỹ thừa ma trận\n",
    "np.linalg.matrix_power(A,2)"
   ]
  },
  {
   "cell_type": "code",
   "execution_count": 36,
   "id": "9ea4954a",
   "metadata": {},
   "outputs": [
    {
     "data": {
      "text/plain": [
       "array([[ 1,  4],\n",
       "       [ 9, 16]])"
      ]
     },
     "execution_count": 36,
     "metadata": {},
     "output_type": "execute_result"
    }
   ],
   "source": [
    "A**2 # luỹ thừa từng phần tử"
   ]
  },
  {
   "cell_type": "code",
   "execution_count": 38,
   "id": "f2c7a9cf",
   "metadata": {},
   "outputs": [
    {
     "data": {
      "text/plain": [
       "2"
      ]
     },
     "execution_count": 38,
     "metadata": {},
     "output_type": "execute_result"
    }
   ],
   "source": [
    "# Tính det, rank\n",
    "np.linalg.det(A)\n",
    "np.linalg.matrix_rank(A)"
   ]
  },
  {
   "cell_type": "markdown",
   "id": "e79bf0b0",
   "metadata": {},
   "source": [
    "## Phân tích ma trận"
   ]
  },
  {
   "cell_type": "code",
   "execution_count": 40,
   "id": "e2cc094d",
   "metadata": {},
   "outputs": [],
   "source": [
    "def MF(A, W, H, K, steps=1000, beta=0.002):\n",
    "    m, n = A.shape\n",
    "    for step in range(steps): # Bước lặp\n",
    "        for i in range(m):    # Cập nhật lại ma trận W, H\n",
    "            for j in range(n):\n",
    "                if A[i,j]!=0:\n",
    "                    eij = A[i,j] - W[i]@H[j]\n",
    "                    for k in range(K):\n",
    "                        W[i,k] += beta*(2*eij*H[j,k])\n",
    "                        H[j,k] += beta*(2*eij*W[i,k])\n",
    "        e = 0 # Tính tổng bình phương sai số\n",
    "        for i in range(m):\n",
    "            for j in range(n):\n",
    "                if A[i,j]!=0:\n",
    "                    e += (A[i,j] - W[i]@H[j])**2\n",
    "        if e<1e-5: break  # Điều kiện dừng\n",
    "    return W, H"
   ]
  },
  {
   "cell_type": "code",
   "execution_count": 44,
   "id": "c037f66c",
   "metadata": {},
   "outputs": [
    {
     "name": "stdout",
     "output_type": "stream",
     "text": [
      "[[5 3 0 1]\n",
      " [4 0 0 1]\n",
      " [1 1 0 5]\n",
      " [1 0 0 4]\n",
      " [0 1 5 4]]\n",
      "5 4\n",
      "[[0.47846541 0.03618668]\n",
      " [0.13980139 0.19028721]\n",
      " [0.75807516 0.80896103]\n",
      " [0.79842183 0.83586065]\n",
      " [0.52347808 0.29468221]] [[0.8362119  0.71729287]\n",
      " [0.14484484 0.06248009]\n",
      " [0.55718236 0.65234259]\n",
      " [0.74058364 0.10349727]]\n"
     ]
    }
   ],
   "source": [
    "X = np.array([5, 3, 0, 1,\n",
    "              4, 0, 0, 1,\n",
    "              1, 1, 0, 5,\n",
    "              1, 0, 0, 4,\n",
    "              0, 1, 5, 4]).reshape(5,4)\n",
    "print(X)\n",
    "M, N = X.shape\n",
    "print(M, N)\n",
    "K = 2\n",
    "W = np.random.rand(M,K)\n",
    "H = np.random.rand(N,K)\n",
    "print(W,H)"
   ]
  },
  {
   "cell_type": "code",
   "execution_count": 50,
   "id": "f8a04596",
   "metadata": {
    "scrolled": true
   },
   "outputs": [
    {
     "name": "stdout",
     "output_type": "stream",
     "text": [
      "[[0.8698584  2.34581299]\n",
      " [0.77700969 1.86242941]\n",
      " [2.12743549 0.14907109]\n",
      " [1.71868117 0.20991009]\n",
      " [1.74338547 0.32344677]] [[ 0.33381032  2.00773425]\n",
      " [ 0.37932859  1.13727354]\n",
      " [ 2.52301709  1.83109423]\n",
      " [ 2.38218724 -0.45722753]]\n"
     ]
    },
    {
     "data": {
      "text/plain": [
       "array([[5.00013678, 2.9977932 , 6.49007223, 0.9995953 ],\n",
       "       [3.99863717, 2.41283369, 5.37069248, 0.99942857],\n",
       "       [1.00945505, 0.97653171, 5.64051931, 4.99979027],\n",
       "       [0.99515718, 0.8906701 , 4.72062712, 3.99824368],\n",
       "       [1.23135522, 1.02916341, 4.99085284, 4.00518184]])"
      ]
     },
     "execution_count": 50,
     "metadata": {},
     "output_type": "execute_result"
    }
   ],
   "source": [
    "W_, H_ = MF(X, W, H, K)\n",
    "print(W_, H_)\n",
    "W_@H_.T"
   ]
  }
 ],
 "metadata": {
  "kernelspec": {
   "display_name": "Python 3",
   "language": "python",
   "name": "python3"
  },
  "language_info": {
   "codemirror_mode": {
    "name": "ipython",
    "version": 3
   },
   "file_extension": ".py",
   "mimetype": "text/x-python",
   "name": "python",
   "nbconvert_exporter": "python",
   "pygments_lexer": "ipython3",
   "version": "3.8.8"
  }
 },
 "nbformat": 4,
 "nbformat_minor": 5
}
