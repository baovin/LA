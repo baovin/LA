{
 "cells": [
  {
   "cell_type": "code",
   "execution_count": 1,
   "metadata": {},
   "outputs": [],
   "source": [
    "import numpy as np\n",
    "import pandas as pd\n",
    "import matplotlib.pyplot as plt\n",
    "from numpy.linalg import eig as eig\n",
    "from numpy.linalg import eigh as eigh\n",
    "from numpy.linalg import norm as norm\n",
    "from scipy.linalg import eigvals as eigvals\n",
    "from scipy.linalg import eig as seig\n",
    "from numpy.linalg import inv as inv"
   ]
  },
  {
   "cell_type": "markdown",
   "metadata": {},
   "source": [
    "# PageRank"
   ]
  },
  {
   "cell_type": "code",
   "execution_count": 2,
   "metadata": {},
   "outputs": [
    {
     "name": "stdout",
     "output_type": "stream",
     "text": [
      "A= [[0.         0.         1.         0.5       ]\n",
      " [0.33333333 0.         0.         0.        ]\n",
      " [0.33333333 0.5        0.         0.5       ]\n",
      " [0.33333333 0.5        0.         0.        ]]\n",
      "v= [[0.25]\n",
      " [0.25]\n",
      " [0.25]\n",
      " [0.25]]\n"
     ]
    }
   ],
   "source": [
    "A=np.array([0,0,1,1/2,\n",
    "            1/3,0,0,0,\n",
    "            1/3,1/2,0,1/2,\n",
    "            1/3,1/2,0,0]).reshape(4,4)\n",
    "v=np.array([1/4,1/4,1/4,1/4]).reshape(4,1)\n",
    "print('A=',A)\n",
    "print('v=',v)"
   ]
  },
  {
   "cell_type": "code",
   "execution_count": 37,
   "metadata": {},
   "outputs": [
    {
     "name": "stdout",
     "output_type": "stream",
     "text": [
      "[[0.375]\n",
      " [0.083]\n",
      " [0.333]\n",
      " [0.208]]\n"
     ]
    }
   ],
   "source": [
    "v1=A.dot(v)\n",
    "print(v1.round(3))"
   ]
  },
  {
   "cell_type": "code",
   "execution_count": 39,
   "metadata": {},
   "outputs": [
    {
     "name": "stdout",
     "output_type": "stream",
     "text": [
      "v_2 [[0.438]\n",
      " [0.125]\n",
      " [0.271]\n",
      " [0.167]]\n",
      "v_3 [[0.354]\n",
      " [0.146]\n",
      " [0.292]\n",
      " [0.208]]\n",
      "v_4 [[0.396]\n",
      " [0.118]\n",
      " [0.295]\n",
      " [0.191]]\n",
      "v_5 [[0.391]\n",
      " [0.132]\n",
      " [0.286]\n",
      " [0.191]]\n",
      "v_6 [[0.382]\n",
      " [0.13 ]\n",
      " [0.292]\n",
      " [0.196]]\n",
      "v_7 [[0.39 ]\n",
      " [0.127]\n",
      " [0.291]\n",
      " [0.192]]\n",
      "v_8 [[0.387]\n",
      " [0.13 ]\n",
      " [0.29 ]\n",
      " [0.194]]\n"
     ]
    }
   ],
   "source": [
    "x=v1\n",
    "for k in range(2,9):\n",
    "    x=A.dot(x)\n",
    "    print('v_'+str(k),x.round(3))"
   ]
  },
  {
   "cell_type": "markdown",
   "metadata": {},
   "source": [
    "# Tìm các giá trị riêng và véc-tơ riêng"
   ]
  },
  {
   "cell_type": "code",
   "execution_count": 4,
   "metadata": {},
   "outputs": [
    {
     "name": "stdout",
     "output_type": "stream",
     "text": [
      "[[ 19   1  -6]\n",
      " [-14  28   0]\n",
      " [ -4   2  16]]\n"
     ]
    }
   ],
   "source": [
    "A=np.array([\n",
    "    [19,1,-6],\n",
    "    [-14,28,0],\n",
    "    [-4,2,16]])\n",
    "print(A)"
   ]
  },
  {
   "cell_type": "code",
   "execution_count": 16,
   "metadata": {},
   "outputs": [
    {
     "data": {
      "text/plain": [
       "array([28.+0.j, 21.+0.j, 14.+0.j])"
      ]
     },
     "execution_count": 16,
     "metadata": {},
     "output_type": "execute_result"
    }
   ],
   "source": [
    "eigvals(A).round(3)"
   ]
  },
  {
   "cell_type": "code",
   "execution_count": 5,
   "metadata": {},
   "outputs": [
    {
     "name": "stdout",
     "output_type": "stream",
     "text": [
      "GTR: 28.0 VTR: [0.    0.986 0.164]\n",
      "GTR: 21.0 VTR: [0.447 0.894 0.   ]\n",
      "GTR: 14.0 VTR: [0.577 0.577 0.577]\n"
     ]
    }
   ],
   "source": [
    "lam,P=eig(A)\n",
    "print('GTR:',lam[0].round(3),\n",
    "      'VTR:', P[:,0].round(3))\n",
    "print('GTR:',lam[1].round(3),\n",
    "      'VTR:', P[:,1].round(3))\n",
    "print('GTR:',lam[2].round(3),\n",
    "      'VTR:', P[:,2].round(3))"
   ]
  },
  {
   "cell_type": "code",
   "execution_count": 10,
   "metadata": {},
   "outputs": [
    {
     "data": {
      "text/plain": [
       "1.254712095341551e-14"
      ]
     },
     "execution_count": 10,
     "metadata": {},
     "output_type": "execute_result"
    }
   ],
   "source": [
    "la=P[:,0].T.dot(A.dot(P[:,0]))\n",
    "norm(A.dot(P[:,0])-la*P[:,0])"
   ]
  },
  {
   "cell_type": "code",
   "execution_count": null,
   "metadata": {},
   "outputs": [],
   "source": []
  },
  {
   "cell_type": "code",
   "execution_count": null,
   "metadata": {},
   "outputs": [],
   "source": []
  },
  {
   "cell_type": "code",
   "execution_count": 31,
   "metadata": {},
   "outputs": [
    {
     "name": "stdout",
     "output_type": "stream",
     "text": [
      "[[28.  0.  0.]\n",
      " [ 0. 21.  0.]\n",
      " [ 0.  0. 14.]]\n"
     ]
    }
   ],
   "source": [
    "D=np.diag(lam)\n",
    "print(D)\n",
    "P_inv=inv(P)"
   ]
  },
  {
   "cell_type": "code",
   "execution_count": 32,
   "metadata": {},
   "outputs": [
    {
     "name": "stdout",
     "output_type": "stream",
     "text": [
      "[[ 19.   1.  -6.]\n",
      " [-14.  28.  -0.]\n",
      " [ -4.   2.  16.]]\n"
     ]
    }
   ],
   "source": [
    "B=P.dot(D.dot(P_inv))\n",
    "print(B.round(3) )"
   ]
  },
  {
   "cell_type": "code",
   "execution_count": 33,
   "metadata": {},
   "outputs": [
    {
     "name": "stdout",
     "output_type": "stream",
     "text": [
      "[[0 1 1]\n",
      " [6 2 1]\n",
      " [1 0 1]]\n"
     ]
    }
   ],
   "source": [
    "P=np.matrix([[0,1,1],[6,2,1],[1,0,1]])\n",
    "print(P)"
   ]
  },
  {
   "cell_type": "code",
   "execution_count": 35,
   "metadata": {},
   "outputs": [
    {
     "name": "stdout",
     "output_type": "stream",
     "text": [
      "[[-0.286  0.143  0.143]\n",
      " [ 0.714  0.143 -0.857]\n",
      " [ 0.286 -0.143  0.857]]\n"
     ]
    }
   ],
   "source": [
    "Pinv=inv(P)\n",
    "print(Pinv.round(3))"
   ]
  },
  {
   "cell_type": "code",
   "execution_count": 36,
   "metadata": {},
   "outputs": [
    {
     "name": "stdout",
     "output_type": "stream",
     "text": [
      "[[ 19.   1.  -6.]\n",
      " [-14.  28.  -0.]\n",
      " [ -4.   2.  16.]]\n"
     ]
    }
   ],
   "source": [
    "B=P.dot(D.dot(Pinv))\n",
    "print(B.round(3))"
   ]
  },
  {
   "cell_type": "code",
   "execution_count": null,
   "metadata": {},
   "outputs": [],
   "source": []
  },
  {
   "cell_type": "markdown",
   "metadata": {},
   "source": [
    "# Tìm các giá trị riêng, véc-tơ riêng cho ma trận đối xứng"
   ]
  },
  {
   "cell_type": "code",
   "execution_count": 2,
   "metadata": {},
   "outputs": [],
   "source": [
    "A=np.array([[10,-2,0],[-2,9,-2],[0,-2,8]])"
   ]
  },
  {
   "cell_type": "code",
   "execution_count": 4,
   "metadata": {},
   "outputs": [],
   "source": [
    "lam,V=eigh(A)"
   ]
  },
  {
   "cell_type": "code",
   "execution_count": 5,
   "metadata": {},
   "outputs": [
    {
     "name": "stdout",
     "output_type": "stream",
     "text": [
      "[ 6.  9. 12.]\n"
     ]
    }
   ],
   "source": [
    "print(lam.round(3))"
   ]
  },
  {
   "cell_type": "code",
   "execution_count": 6,
   "metadata": {},
   "outputs": [
    {
     "name": "stdout",
     "output_type": "stream",
     "text": [
      "5.999999999999999 [-0.33333333 -0.66666667 -0.66666667]\n"
     ]
    }
   ],
   "source": [
    "print(lam[0],V[:,0])"
   ]
  },
  {
   "cell_type": "code",
   "execution_count": 7,
   "metadata": {},
   "outputs": [
    {
     "name": "stdout",
     "output_type": "stream",
     "text": [
      "8.999999999999996 [ 0.66666667  0.33333333 -0.66666667]\n"
     ]
    }
   ],
   "source": [
    "print(lam[1],V[:,1])"
   ]
  },
  {
   "cell_type": "code",
   "execution_count": 8,
   "metadata": {},
   "outputs": [
    {
     "name": "stdout",
     "output_type": "stream",
     "text": [
      "12.000000000000002 [-0.66666667  0.66666667 -0.33333333]\n"
     ]
    }
   ],
   "source": [
    "print(lam[2],V[:,2])"
   ]
  },
  {
   "cell_type": "code",
   "execution_count": 9,
   "metadata": {},
   "outputs": [],
   "source": [
    "S=np.diag(lam)"
   ]
  },
  {
   "cell_type": "code",
   "execution_count": 10,
   "metadata": {},
   "outputs": [
    {
     "data": {
      "text/plain": [
       "array([[ 1.00000000e+01, -2.00000000e+00,  2.66453526e-15],\n",
       "       [-2.00000000e+00,  9.00000000e+00, -2.00000000e+00],\n",
       "       [ 1.77635684e-15, -2.00000000e+00,  8.00000000e+00]])"
      ]
     },
     "execution_count": 10,
     "metadata": {},
     "output_type": "execute_result"
    }
   ],
   "source": [
    "V.dot(S.dot(V.T))"
   ]
  },
  {
   "cell_type": "markdown",
   "metadata": {},
   "source": [
    "# Power Method"
   ]
  },
  {
   "cell_type": "code",
   "execution_count": 5,
   "metadata": {},
   "outputs": [],
   "source": [
    "A=np.array([[6,5],[1,2]])\n",
    "x_0=np.array([0,1])"
   ]
  },
  {
   "cell_type": "code",
   "execution_count": 31,
   "metadata": {},
   "outputs": [],
   "source": [
    "def Power_iteration(A,x):\n",
    "    k=0\n",
    "    for k in range(10):\n",
    "        y=A.dot(x)\n",
    "        print('Ax',y.round(3))\n",
    "        z=y/norm(y)\n",
    "        lam=z.T.dot(A.dot(z))\n",
    "        print('k:=',k,'; lam_'+str(k),lam.round(3),'; x_'+str(k+1),z.round(3))\n",
    "        x=z\n",
    "    return lam,z"
   ]
  },
  {
   "cell_type": "code",
   "execution_count": 32,
   "metadata": {},
   "outputs": [
    {
     "name": "stdout",
     "output_type": "stream",
     "text": [
      "Ax [5 2]\n",
      "k:= 0 ; lam_0 7.517 ; x_1 [0.928 0.371]\n",
      "Ax [7.428 1.671]\n",
      "k:= 1 ; lam_1 7.092 ; x_2 [0.976 0.22 ]\n",
      "Ax [6.951 1.415]\n",
      "k:= 2 ; lam_2 7.013 ; x_3 [0.98  0.199]\n",
      "Ax [6.877 1.379]\n",
      "k:= 3 ; lam_3 7.002 ; x_4 [0.98  0.197]\n",
      "Ax [6.866 1.374]\n",
      "k:= 4 ; lam_4 7.0 ; x_5 [0.981 0.196]\n",
      "Ax [6.864 1.373]\n",
      "k:= 5 ; lam_5 7.0 ; x_6 [0.981 0.196]\n",
      "Ax [6.864 1.373]\n",
      "k:= 6 ; lam_6 7.0 ; x_7 [0.981 0.196]\n",
      "Ax [6.864 1.373]\n",
      "k:= 7 ; lam_7 7.0 ; x_8 [0.981 0.196]\n",
      "Ax [6.864 1.373]\n",
      "k:= 8 ; lam_8 7.0 ; x_9 [0.981 0.196]\n",
      "Ax [6.864 1.373]\n",
      "k:= 9 ; lam_9 7.0 ; x_10 [0.981 0.196]\n"
     ]
    },
    {
     "data": {
      "text/plain": [
       "(7.0000000163390785, array([0.98058067, 0.19611614]))"
      ]
     },
     "execution_count": 32,
     "metadata": {},
     "output_type": "execute_result"
    }
   ],
   "source": [
    "Power_iteration(A,x_0)"
   ]
  },
  {
   "cell_type": "code",
   "execution_count": null,
   "metadata": {},
   "outputs": [],
   "source": []
  },
  {
   "cell_type": "code",
   "execution_count": null,
   "metadata": {},
   "outputs": [],
   "source": []
  },
  {
   "cell_type": "code",
   "execution_count": null,
   "metadata": {},
   "outputs": [],
   "source": []
  },
  {
   "cell_type": "code",
   "execution_count": null,
   "metadata": {},
   "outputs": [],
   "source": []
  },
  {
   "cell_type": "code",
   "execution_count": 2,
   "metadata": {},
   "outputs": [],
   "source": [
    "from sklearn.datasets import make_circles"
   ]
  },
  {
   "cell_type": "code",
   "execution_count": 5,
   "metadata": {},
   "outputs": [],
   "source": [
    "x, y = make_circles(n_samples=100,noise=0.05,factor=0.5)"
   ]
  },
  {
   "cell_type": "code",
   "execution_count": 8,
   "metadata": {},
   "outputs": [
    {
     "data": {
      "text/plain": [
       "((100, 2), (100,))"
      ]
     },
     "execution_count": 8,
     "metadata": {},
     "output_type": "execute_result"
    }
   ],
   "source": [
    "x.shape, y.shape"
   ]
  },
  {
   "cell_type": "code",
   "execution_count": null,
   "metadata": {},
   "outputs": [],
   "source": []
  },
  {
   "cell_type": "code",
   "execution_count": 10,
   "metadata": {},
   "outputs": [
    {
     "data": {
      "image/png": "[encoded data removed]",
      "text/plain": [
       "<Figure size 432x288 with 1 Axes>"
      ]
     },
     "metadata": {
      "needs_background": "light"
     },
     "output_type": "display_data"
    }
   ],
   "source": [
    "plt.figure()\n",
    "plt.scatter(x[:,0],x[:,1])\n",
    "plt.savefig('circles.png')\n",
    "plt.show()"
   ]
  },
  {
   "cell_type": "code",
   "execution_count": null,
   "metadata": {},
   "outputs": [],
   "source": []
  },
  {
   "cell_type": "code",
   "execution_count": 11,
   "metadata": {},
   "outputs": [],
   "source": [
    "from sklearn.datasets import load_iris"
   ]
  },
  {
   "cell_type": "code",
   "execution_count": 14,
   "metadata": {},
   "outputs": [],
   "source": [
    "iris = load_iris()"
   ]
  },
  {
   "cell_type": "code",
   "execution_count": 16,
   "metadata": {},
   "outputs": [],
   "source": [
    "x=iris.data"
   ]
  },
  {
   "cell_type": "code",
   "execution_count": null,
   "metadata": {},
   "outputs": [],
   "source": []
  },
  {
   "cell_type": "code",
   "execution_count": 3,
   "metadata": {},
   "outputs": [],
   "source": [
    "from numpy.linalg import eig as eig\n",
    "from numpy.linalg import eigh as eigh"
   ]
  },
  {
   "cell_type": "code",
   "execution_count": 3,
   "metadata": {},
   "outputs": [],
   "source": [
    "a=np.array([[4,0,-2],[2,5,4],[0,0,5]])"
   ]
  },
  {
   "cell_type": "code",
   "execution_count": 4,
   "metadata": {},
   "outputs": [
    {
     "data": {
      "text/plain": [
       "(array([5., 4., 5.]), array([[ 0.        ,  0.4472136 , -0.89442719],\n",
       "        [ 1.        , -0.89442719,  0.        ],\n",
       "        [ 0.        ,  0.        ,  0.4472136 ]]))"
      ]
     },
     "execution_count": 4,
     "metadata": {},
     "output_type": "execute_result"
    }
   ],
   "source": [
    "eig(a)"
   ]
  },
  {
   "cell_type": "code",
   "execution_count": 5,
   "metadata": {},
   "outputs": [],
   "source": [
    "lam,v=eig(a)"
   ]
  },
  {
   "cell_type": "code",
   "execution_count": 6,
   "metadata": {},
   "outputs": [
    {
     "name": "stdout",
     "output_type": "stream",
     "text": [
      "[5. 4. 5.]\n"
     ]
    }
   ],
   "source": [
    "print(lam)# GTR"
   ]
  },
  {
   "cell_type": "code",
   "execution_count": 7,
   "metadata": {},
   "outputs": [
    {
     "name": "stdout",
     "output_type": "stream",
     "text": [
      "[[ 0.          0.4472136  -0.89442719]\n",
      " [ 1.         -0.89442719  0.        ]\n",
      " [ 0.          0.          0.4472136 ]]\n"
     ]
    }
   ],
   "source": [
    "print(v) # VTR"
   ]
  },
  {
   "cell_type": "code",
   "execution_count": 8,
   "metadata": {},
   "outputs": [
    {
     "data": {
      "text/plain": [
       "array([0., 1., 0.])"
      ]
     },
     "execution_count": 8,
     "metadata": {},
     "output_type": "execute_result"
    }
   ],
   "source": [
    "v[:,0] # Vecto rieng thu i"
   ]
  },
  {
   "cell_type": "code",
   "execution_count": 9,
   "metadata": {},
   "outputs": [
    {
     "data": {
      "text/plain": [
       "array([0., 5., 0.])"
      ]
     },
     "execution_count": 9,
     "metadata": {},
     "output_type": "execute_result"
    }
   ],
   "source": [
    "a.dot(v[:,0])"
   ]
  },
  {
   "cell_type": "code",
   "execution_count": 10,
   "metadata": {},
   "outputs": [
    {
     "name": "stdout",
     "output_type": "stream",
     "text": [
      "[[5. 0. 0.]\n",
      " [0. 4. 0.]\n",
      " [0. 0. 5.]]\n"
     ]
    }
   ],
   "source": [
    "D=np.diag(lam)\n",
    "print(D)"
   ]
  },
  {
   "cell_type": "code",
   "execution_count": 11,
   "metadata": {},
   "outputs": [],
   "source": [
    "P=v"
   ]
  },
  {
   "cell_type": "code",
   "execution_count": 12,
   "metadata": {},
   "outputs": [
    {
     "data": {
      "text/plain": [
       "array([[ 4.,  0., -2.],\n",
       "       [ 2.,  5.,  4.],\n",
       "       [ 0.,  0.,  5.]])"
      ]
     },
     "execution_count": 12,
     "metadata": {},
     "output_type": "execute_result"
    }
   ],
   "source": [
    "P.dot(D.dot(np.linalg.inv(P)))"
   ]
  },
  {
   "cell_type": "code",
   "execution_count": null,
   "metadata": {},
   "outputs": [],
   "source": []
  },
  {
   "cell_type": "code",
   "execution_count": null,
   "metadata": {},
   "outputs": [],
   "source": []
  },
  {
   "cell_type": "code",
   "execution_count": null,
   "metadata": {},
   "outputs": [],
   "source": []
  },
  {
   "cell_type": "code",
   "execution_count": 22,
   "metadata": {},
   "outputs": [],
   "source": [
    "b=np.array([[62,-38,-4,-100],[-38,36,-2,64],[-4,-2,2,6],[-100,64,6,166]])"
   ]
  },
  {
   "cell_type": "code",
   "execution_count": 24,
   "metadata": {},
   "outputs": [],
   "source": [
    "d,v=eigh(b)"
   ]
  },
  {
   "cell_type": "code",
   "execution_count": 25,
   "metadata": {},
   "outputs": [],
   "source": [
    "D=np.diag(d)"
   ]
  },
  {
   "cell_type": "code",
   "execution_count": 26,
   "metadata": {},
   "outputs": [
    {
     "data": {
      "text/plain": [
       "array([[  62.,  -38.,   -4., -100.],\n",
       "       [ -38.,   36.,   -2.,   64.],\n",
       "       [  -4.,   -2.,    2.,    6.],\n",
       "       [-100.,   64.,    6.,  166.]])"
      ]
     },
     "execution_count": 26,
     "metadata": {},
     "output_type": "execute_result"
    }
   ],
   "source": [
    "v.dot(D.dot(v.T))"
   ]
  },
  {
   "cell_type": "code",
   "execution_count": 27,
   "metadata": {},
   "outputs": [
    {
     "name": "stdout",
     "output_type": "stream",
     "text": [
      "[[1.05211754e-01 0.00000000e+00 0.00000000e+00 0.00000000e+00]\n",
      " [0.00000000e+00 1.23556393e+00 0.00000000e+00 0.00000000e+00]\n",
      " [0.00000000e+00 0.00000000e+00 1.21875924e+01 0.00000000e+00]\n",
      " [0.00000000e+00 0.00000000e+00 0.00000000e+00 2.52471632e+02]]\n"
     ]
    }
   ],
   "source": [
    "print(D)"
   ]
  },
  {
   "cell_type": "code",
   "execution_count": null,
   "metadata": {},
   "outputs": [],
   "source": []
  }
 ],
 "metadata": {
  "kernelspec": {
   "display_name": "Python 3",
   "language": "python",
   "name": "python3"
  },
  "language_info": {
   "codemirror_mode": {
    "name": "ipython",
    "version": 3
   },
   "file_extension": ".py",
   "mimetype": "text/x-python",
   "name": "python",
   "nbconvert_exporter": "python",
   "pygments_lexer": "ipython3",
   "version": "3.7.9"
  }
 },
 "nbformat": 4,
 "nbformat_minor": 4
}
