{
 "cells": [
  {
   "cell_type": "markdown",
   "metadata": {},
   "source": [
    "# Bài tập về nhà 3\n",
    "### Môn: Linear Algebra"
   ]
  },
  {
   "cell_type": "code",
   "execution_count": 1,
   "metadata": {},
   "outputs": [],
   "source": [
    "import numpy as np"
   ]
  },
  {
   "cell_type": "markdown",
   "metadata": {},
   "source": [
    "### Bài tập 1\n",
    "Hàm $x(t)$ thỏa mãn phương trình vi phân:\n",
    "$$L[x(t)]=\\dfrac{d^2\\,x}{dt^2}+e^t\\dfrac{d\\,x}{dt}+x=0$$\n",
    "với điều kiện biên:\n",
    "$$x(0)=0\\ \\ \\hbox{và}\\ \\ x(2)=1$$\n",
    "Theo phương pháp **`'collocation method'`**, nghiệm xấp xỉ của bài toán được tìm dưới dạng:\n",
    "$$x(t)\\approx x_n(t)=\\sum^n_{i=0}\\alpha_i\\,t^{i}$$\n",
    "thỏa mãn $x_n(0)=0$ và $x_n(2)=1$. Để xác định các hệ số $\\alpha_i$, ta chọn $n-1$ điểm $t_j\\in(0,2)$ sao cho $L[x_n(t_j)]=0$, với $j=1,\\dots,n-1$.\n",
    "\n",
    "Hãy tìm nghiệm xấp xỉ trong trường hợp $n=4$ và $t_1=0.5$, $t_2=1.0$, $t_3=1.5$."
   ]
  },
  {
   "cell_type": "code",
   "execution_count": null,
   "metadata": {},
   "outputs": [],
   "source": []
  },
  {
   "cell_type": "markdown",
   "metadata": {},
   "source": [
    "### Bài tập 2\n",
    "Dữ liệu sau là về số transitor $N$ trên 1 chíp vi xử lý theo năm sản xuất $t$:\n",
    "\n",
    "| Year | 1971 | 1972 | 1974 | 1978 | 1982 | 1985 | 1989 |\n",
    "|---:|:---|:---|:---|:---|:---|:---|:---|\n",
    "| Transitors |2,250|2,500|5,000|29,000|120,000|275,000|1,180,000|\n",
    "\n",
    "| Year |  1993 | 1997 | 1999 | 2000|2002|2003|\n",
    "|---:|:---|:---|:---|:---|:---| :---|\n",
    "| Transitors |3,100,000|7,500,000|24,000,000|42,000,000|220,000,000|410,000,000|\n",
    "\n",
    "Xây dựng mô hình $\\log_{10}N\\approx\\theta_1+\\theta_2(t-1970)$ phù hợp với dữ liệu."
   ]
  },
  {
   "cell_type": "code",
   "execution_count": null,
   "metadata": {},
   "outputs": [],
   "source": []
  },
  {
   "cell_type": "markdown",
   "metadata": {},
   "source": [
    "### Bài tập 3\n",
    "Tải dữ liệu về (số năm kinh nghiệm,thu nhập) từ file **salary_data.csv** vào mảng (sử dụng thư viện pandas). Sử dụng thư viện **Scikit-Learn** để xây dựng hàm hồi quy tuyến tính phù hợp nhất với dữ liệu, mô tả thu nhập theo số năm kinh nghiệm."
   ]
  },
  {
   "cell_type": "code",
   "execution_count": 1,
   "metadata": {},
   "outputs": [],
   "source": [
    "import pandas as pd\n",
    "data = pd.read_csv(\"salary_data.csv\")\n",
    "x = data[\"YearsExperience\"].values\n",
    "y = data[\"Salary\"].values"
   ]
  },
  {
   "cell_type": "code",
   "execution_count": null,
   "metadata": {},
   "outputs": [],
   "source": []
  }
 ],
 "metadata": {
  "kernelspec": {
   "display_name": "Python 3",
   "language": "python",
   "name": "python3"
  },
  "language_info": {
   "codemirror_mode": {
    "name": "ipython",
    "version": 3
   },
   "file_extension": ".py",
   "mimetype": "text/x-python",
   "name": "python",
   "nbconvert_exporter": "python",
   "pygments_lexer": "ipython3",
   "version": "3.8.8"
  }
 },
 "nbformat": 4,
 "nbformat_minor": 4
}
