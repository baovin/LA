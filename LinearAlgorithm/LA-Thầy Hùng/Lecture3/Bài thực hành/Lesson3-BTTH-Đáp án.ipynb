{
 "cells": [
  {
   "cell_type": "markdown",
   "metadata": {},
   "source": [
    "# Bài thực hành 3\n",
    "### Môn: Linear Algebra"
   ]
  },
  {
   "cell_type": "code",
   "execution_count": 1,
   "metadata": {},
   "outputs": [],
   "source": [
    "import numpy as np"
   ]
  },
  {
   "cell_type": "markdown",
   "metadata": {},
   "source": [
    "### Bài tập 1\n",
    "Giải hệ phương trình tuyến tính ${\\bf A}{\\bf x}={\\bf b}$ với\n",
    "\n",
    "$${\\bf A}=\\left[\\begin{matrix}\n",
    "2 & 1 & -1 & -1 \\\\\n",
    "2 & 5 & -7 & -5 \\\\\n",
    "2 & -1 & 1 & 3 \\\\\n",
    "5 & 2 & -4 & 2\n",
    "\\end{matrix}\\right],\\ \n",
    "{\\bf b}=\\left[\\begin{matrix}\n",
    "1 \\\\\n",
    "-2 \\\\\n",
    "4 \\\\\n",
    "6\n",
    "\\end{matrix}\\right]\n",
    "$$\n",
    "\n",
    "bằng phương pháp\n",
    "* Ma trận nghịch đảo\n",
    "* Phép khử Gauss\n",
    "* Phân tích LU "
   ]
  },
  {
   "cell_type": "code",
   "execution_count": 2,
   "metadata": {},
   "outputs": [
    {
     "name": "stdout",
     "output_type": "stream",
     "text": [
      "[[ 2.  1. -1. -1.]\n",
      " [ 2.  5. -7. -5.]\n",
      " [ 2. -1.  1.  3.]\n",
      " [ 5.  2. -4.  2.]]\n",
      "[ 1 -2  4  6]\n"
     ]
    }
   ],
   "source": [
    "A = np.array([2,1,-1,-1,2,5,-7,-5,2,-1,1,3,5,2,-4,2],dtype=np.float64).reshape(4,4)\n",
    "b = np.array([1,-2,4,6])\n",
    "print(A)\n",
    "print(b)"
   ]
  },
  {
   "cell_type": "code",
   "execution_count": 3,
   "metadata": {},
   "outputs": [
    {
     "name": "stdout",
     "output_type": "stream",
     "text": [
      "[[ 1.  -1.  -2.   1. ]\n",
      " [-4.   7.5 16.5 -8. ]\n",
      " [-1.5  3.5  8.  -4. ]\n",
      " [-1.5  2.   4.5 -2. ]]\n"
     ]
    },
    {
     "data": {
      "text/plain": [
       "array([ 1. , -1. , -0.5,  0.5])"
      ]
     },
     "execution_count": 3,
     "metadata": {},
     "output_type": "execute_result"
    }
   ],
   "source": [
    "# Phương pháp ma trận nghịch đảo\n",
    "A_inv = np.linalg.inv(A)\n",
    "print(A_inv)\n",
    "np.dot(A_inv,b)"
   ]
  },
  {
   "cell_type": "code",
   "execution_count": 4,
   "metadata": {},
   "outputs": [
    {
     "name": "stdout",
     "output_type": "stream",
     "text": [
      "L, U\n",
      "[[ 1.          0.          0.          0.        ]\n",
      " [ 0.4         1.          0.          0.        ]\n",
      " [ 0.4         0.04761905  1.          0.        ]\n",
      " [ 0.4        -0.42857143  0.33333333  1.        ]]\n",
      "[[ 5.          2.         -4.          2.        ]\n",
      " [ 0.          4.2        -5.4        -5.8       ]\n",
      " [ 0.          0.          0.85714286 -1.52380952]\n",
      " [ 0.          0.          0.          0.22222222]]\n"
     ]
    },
    {
     "data": {
      "text/plain": [
       "array([ 1. , -1. , -0.5,  0.5])"
      ]
     },
     "execution_count": 4,
     "metadata": {},
     "output_type": "execute_result"
    }
   ],
   "source": [
    "# Phân tích LU\n",
    "from scipy import linalg\n",
    "P,L,U = linalg.lu(A)\n",
    "print(\"L, U\")\n",
    "print(L)\n",
    "print(U)\n",
    "y=np.linalg.solve(L,P.T@b)\n",
    "np.linalg.solve(U,y)"
   ]
  },
  {
   "cell_type": "code",
   "execution_count": 5,
   "metadata": {},
   "outputs": [],
   "source": [
    "# Định nghĩa hàm thực hiện phép khử Gauss\n",
    "def gauss_elim(A):\n",
    "    m,n = A.shape\n",
    "    if m>1:\n",
    "        firstcol = np.abs(A[:,0])\n",
    "        pivot_arg = np.argmax(firstcol)\n",
    "        pivot = A[pivot_arg,0]\n",
    "        if pivot==0:\n",
    "            if n>1:\n",
    "                gauss_elim(A[:,1:])\n",
    "        else:\n",
    "            row_swap = A[0,:].copy()\n",
    "            A[0,:] = A[pivot_arg,:]\n",
    "            A[pivot_arg,:] = row_swap\n",
    "            for i in range(1,m):\n",
    "                A[i,:] += -(A[i,0]/pivot)*A[0,:]\n",
    "            if n>1:\n",
    "                gauss_elim(A[1:,1:])"
   ]
  },
  {
   "cell_type": "code",
   "execution_count": 6,
   "metadata": {},
   "outputs": [
    {
     "name": "stdout",
     "output_type": "stream",
     "text": [
      "[[ 5.          2.         -4.          2.          6.        ]\n",
      " [ 0.          4.2        -5.4        -5.8        -4.4       ]\n",
      " [ 0.          0.          0.85714286 -1.52380952 -1.19047619]\n",
      " [ 0.          0.          0.          0.22222222  0.11111111]]\n"
     ]
    },
    {
     "data": {
      "text/plain": [
       "array([ 1. , -1. , -0.5,  0.5])"
      ]
     },
     "execution_count": 6,
     "metadata": {},
     "output_type": "execute_result"
    }
   ],
   "source": [
    "A = np.array([2,1,-1,-1,2,5,-7,-5,2,-1,1,3,5,2,-4,2],\n",
    "             dtype=np.float64).reshape(4,4)\n",
    "b = np.array([1,-2,4,6],dtype=np.float64).reshape(-1,1)\n",
    "\n",
    "# Ma trận hệ số mở rộng\n",
    "A_aug = np.hstack([A,b])\n",
    "\n",
    "# Khử Gauss về dạng bậc thang\n",
    "gauss_elim(A_aug)\n",
    "print(A_aug)\n",
    "\n",
    "# Giải hệ\n",
    "np.linalg.solve(A_aug[:,:-1],A_aug[:,-1])"
   ]
  },
  {
   "cell_type": "markdown",
   "metadata": {},
   "source": [
    "### Bài tập 2\n",
    "Tìm đa thức nội suy \n",
    "\n",
    "$$y(x)=c_0\\,f_0(x)+c_1\\,f_1(x)+c_2\\,f_2(x)+c_3\\,f_3(x)$$\n",
    "\n",
    "đi qua các điểm dữ liệu:\n",
    "\n",
    "$$(1,1),\\,(2,3),\\,(3,5),\\,(4,4)$$\n",
    "\n",
    "với hệ hàm cơ sở $\\{f_0,f_1,f_2,f_3\\}$ được cho sau đây:\n",
    "* $f_0=1,\\,f_1=x,\\,f_2=x^2,\\,f_3=x^3$\n",
    "* $f_0=1,\\,f_1=x-1,\\,f_2=(x-1)(x-2),\\,f_3=(x-1)(x-2)(x-3)$"
   ]
  },
  {
   "cell_type": "code",
   "execution_count": 7,
   "metadata": {},
   "outputs": [
    {
     "name": "stdout",
     "output_type": "stream",
     "text": [
      "Đa thức nội suy: y(x)=2.00+-3.50*x+3.00*x^2+-0.50*x^3\n"
     ]
    }
   ],
   "source": [
    "# Hệ hàm {f_0=1, f_1=x, f_2=x^2, f_3=x^3}\n",
    "f_1 = lambda x: x\n",
    "f_2 = lambda x: pow(x,2)\n",
    "f_3 = lambda x: pow(x,3)\n",
    "A=np.array([1 for x in range(1,5)])\n",
    "col1=np.array([f_1(x) for x in range(1,5)])\n",
    "col2=np.array([f_2(x) for x in range(1,5)])\n",
    "col3=np.array([f_3(x) for x in range(1,5)])\n",
    "A=np.vstack([A,col1,col2,col3]).T\n",
    "b=np.array([1,3,5,4])\n",
    "c=tuple(np.linalg.solve(A,b))\n",
    "print(\"Đa thức nội suy: y(x)=%0.2f+%0.2f*x+%0.2f*x^2+%0.2f*x^3\"%c)"
   ]
  },
  {
   "cell_type": "code",
   "execution_count": 8,
   "metadata": {},
   "outputs": [
    {
     "name": "stdout",
     "output_type": "stream",
     "text": [
      "Đa thức nội suy: y(x)=1.00+2.00*(x-1)+-0.00*(x-1)(x-2)+-0.50*(x-1)(x-2)(x-3)\n"
     ]
    }
   ],
   "source": [
    "# Hệ hàm {g_0=1, g_1=x-1, g_2=(x-1)(x-2), g_3=(x-1)(x-2)(x-3)}\n",
    "g_1 = lambda x: x-1\n",
    "g_2 = lambda x: (x-1)*(x-2)\n",
    "g_3 = lambda x: (x-1)*(x-2)*(x-3)\n",
    "A_g=np.array([1 for x in range(1,5)])\n",
    "col1=np.array([g_1(x) for x in range(1,5)])\n",
    "col2=np.array([g_2(x) for x in range(1,5)])\n",
    "col3=np.array([g_3(x) for x in range(1,5)])\n",
    "A_g=np.vstack([A_g,col1,col2,col3]).T\n",
    "c_g=tuple(np.linalg.solve(A_g,b))\n",
    "print(\"Đa thức nội suy: y(x)=%0.2f+%0.2f*(x-1)+%0.2f*(x-1)(x-2)+%0.2f*(x-1)(x-2)(x-3)\"%c_g)"
   ]
  },
  {
   "cell_type": "code",
   "execution_count": 9,
   "metadata": {},
   "outputs": [
    {
     "data": {
      "image/png": "[encoded data removed]",
      "text/plain": [
       "<Figure size 432x288 with 1 Axes>"
      ]
     },
     "metadata": {
      "needs_background": "light"
     },
     "output_type": "display_data"
    }
   ],
   "source": [
    "# Vẽ đồ thị\n",
    "import matplotlib.pyplot as plt\n",
    "y = lambda x: c[0]+c[1]*f_1(x)+c[2]*f_2(x)+c[3]*f_3(x)\n",
    "y_g = lambda x: c_g[0]+c_g[1]*g_1(x)+c_g[2]*g_2(x)+c_g[3]*g_3(x)\n",
    "xdata=np.arange(1,5)\n",
    "plt.scatter(xdata,b)\n",
    "x=np.linspace(1,4,100)\n",
    "plt.plot(x,y(x),'r')\n",
    "plt.plot(x,y_g(x),'g')\n",
    "plt.show()"
   ]
  },
  {
   "cell_type": "markdown",
   "metadata": {},
   "source": [
    "### Bài 3\n",
    "Nghiệm của một bài toán truyền nhiệt dừng được xấp xỉ bởi nghiệm của hệ phương trình $Ax=b$, với $b=(5,15,0,10,0,10,20,30)$ và \n",
    "\n",
    "$$\n",
    "A = \\begin{pmatrix}\n",
    "4 & -1 & -1 & 0 & 0 & 0 & 0 & 0 \\\\\n",
    "-1 & 4 & 0 & -1 & 0 & 0 & 0 & 0 \\\\\n",
    "-1 & 0 & 4 & -1 & -1 & 0 & 0 & 0 \\\\\n",
    "0 & -1 & -1 & 4 & 0 & -1 & 0 & 0 \\\\\n",
    "0 & 0 & -1 & 0 & 4 & -1 & -1 & 0 \\\\\n",
    "0 & 0 & 0 & -1 & -1 & 4 & 0 & -1 \\\\\n",
    "0 & 0 & 0 & 0 & -1 & 0 & 4 & -1 \\\\\n",
    "0 & 0 & 0 & 0 & 0 & -1 & -1 & 4 \\\\\n",
    "\\end{pmatrix}\n",
    "$$\n",
    "\n",
    "* Tìm phân tích LU của $A$.\n",
    "* Sử dụng phân tích LU để giải phương trình $Ax=b$."
   ]
  },
  {
   "cell_type": "code",
   "execution_count": 10,
   "metadata": {},
   "outputs": [
    {
     "name": "stdout",
     "output_type": "stream",
     "text": [
      "[[1. 0. 0. 0. 0. 0. 0. 0.]\n",
      " [0. 1. 0. 0. 0. 0. 0. 0.]\n",
      " [0. 0. 1. 0. 0. 0. 0. 0.]\n",
      " [0. 0. 0. 1. 0. 0. 0. 0.]\n",
      " [0. 0. 0. 0. 1. 0. 0. 0.]\n",
      " [0. 0. 0. 0. 0. 1. 0. 0.]\n",
      " [0. 0. 0. 0. 0. 0. 1. 0.]\n",
      " [0. 0. 0. 0. 0. 0. 0. 1.]]\n",
      "[[ 1.          0.          0.          0.          0.          0.\n",
      "   0.          0.        ]\n",
      " [-0.25        1.          0.          0.          0.          0.\n",
      "   0.          0.        ]\n",
      " [-0.25       -0.06666667  1.          0.          0.          0.\n",
      "   0.          0.        ]\n",
      " [ 0.         -0.26666667 -0.28571429  1.          0.          0.\n",
      "   0.          0.        ]\n",
      " [ 0.          0.         -0.26785714 -0.08333333  1.          0.\n",
      "   0.          0.        ]\n",
      " [ 0.          0.          0.         -0.29166667 -0.29213483  1.\n",
      "   0.          0.        ]\n",
      " [ 0.          0.          0.          0.         -0.26966292 -0.08612836\n",
      "   1.          0.        ]\n",
      " [ 0.          0.          0.          0.          0.         -0.29482402\n",
      "  -0.29313813  1.        ]]\n",
      "[[ 4.         -1.         -1.          0.          0.          0.\n",
      "   0.          0.        ]\n",
      " [ 0.          3.75       -0.25       -1.          0.          0.\n",
      "   0.          0.        ]\n",
      " [ 0.          0.          3.73333333 -1.06666667 -1.          0.\n",
      "   0.          0.        ]\n",
      " [ 0.          0.          0.          3.42857143 -0.28571429 -1.\n",
      "   0.          0.        ]\n",
      " [ 0.          0.          0.          0.          3.70833333 -1.08333333\n",
      "  -1.          0.        ]\n",
      " [ 0.          0.          0.          0.          0.          3.39185393\n",
      "  -0.29213483 -1.        ]\n",
      " [ 0.          0.          0.          0.          0.          0.\n",
      "   3.70517598 -1.08612836]\n",
      " [ 0.          0.          0.          0.          0.          0.\n",
      "   0.          3.38679034]]\n"
     ]
    }
   ],
   "source": [
    "from scipy import linalg\n",
    "A = np.array([[4,-1,-1,0,0,0,0,0],\n",
    "             [-1,4,0,-1,0,0,0,0],\n",
    "             [-1,0,4,-1,-1,0,0,0],\n",
    "             [0,-1,-1,4,0,-1,0,0],\n",
    "             [0,0,-1,0,4,-1,-1,0],\n",
    "             [0,0,0,-1,-1,4,0,-1],\n",
    "             [0,0,0,0,-1,0,4,-1],\n",
    "             [0,0,0,0,0,-1,-1,4]])\n",
    "b = np.array([5,15,0,10,0,10,20,30])\n",
    "P,L,U=linalg.lu(A)\n",
    "print(P,L,U,sep=\"\\n\")"
   ]
  },
  {
   "cell_type": "code",
   "execution_count": 11,
   "metadata": {},
   "outputs": [
    {
     "name": "stdout",
     "output_type": "stream",
     "text": [
      "Nghiệm là: [ 3.9569378   6.58851675  4.23923445  7.39712919  5.60287081  8.76076555\n",
      "  9.41148325 12.0430622 ]\n"
     ]
    }
   ],
   "source": [
    "y = np.linalg.solve(L,b)\n",
    "x = np.linalg.solve(U,y)\n",
    "print('Nghiệm là:',x)"
   ]
  }
 ],
 "metadata": {
  "kernelspec": {
   "display_name": "Python 3",
   "language": "python",
   "name": "python3"
  },
  "language_info": {
   "codemirror_mode": {
    "name": "ipython",
    "version": 3
   },
   "file_extension": ".py",
   "mimetype": "text/x-python",
   "name": "python",
   "nbconvert_exporter": "python",
   "pygments_lexer": "ipython3",
   "version": "3.8.8"
  }
 },
 "nbformat": 4,
 "nbformat_minor": 4
}
