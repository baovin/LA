{
 "cells": [
  {
   "cell_type": "markdown",
   "metadata": {},
   "source": [
    "# Bài tập về nhà 3\n",
    "### Môn: Linear Algebra"
   ]
  },
  {
   "cell_type": "code",
   "execution_count": 1,
   "metadata": {},
   "outputs": [],
   "source": [
    "import numpy as np"
   ]
  },
  {
   "cell_type": "markdown",
   "metadata": {},
   "source": [
    "### Bài tập 1\n",
    "Hàm $x(t)$ thỏa mãn phương trình vi phân:\n",
    "$$L[x(t)]=\\dfrac{d^2\\,x}{dt^2}+e^t\\dfrac{d\\,x}{dt}+x=0$$\n",
    "với điều kiện biên:\n",
    "$$x(0)=0\\ \\ \\hbox{và}\\ \\ x(2)=1$$\n",
    "Theo phương pháp **`'collocation method'`**, nghiệm xấp xỉ của bài toán được tìm dưới dạng:\n",
    "$$x(t)\\approx x_n(t)=\\sum^n_{i=0}\\alpha_i\\,t^{i}$$\n",
    "thỏa mãn $x_n(0)=0$ và $x_n(2)=1$. Để xác định các hệ số $\\alpha_i$, ta chọn $n-1$ điểm $t_j\\in(0,2)$ sao cho $L[x_n(t_j)]=0$, với $j=1,\\dots,n-1$.\n",
    "\n",
    "Hãy tìm nghiệm xấp xỉ trong trường hợp $n=4$ và $t_1=0.5$, $t_2=1.0$, $t_3=1.5$."
   ]
  },
  {
   "cell_type": "code",
   "execution_count": 10,
   "metadata": {},
   "outputs": [
    {
     "name": "stdout",
     "output_type": "stream",
     "text": [
      "[[ 1.          0.          0.          0.          0.        ]\n",
      " [ 1.          2.          4.          8.         16.        ]\n",
      " [ 1.          2.14872127  3.89872127  4.36154095  3.88686064]\n",
      " [ 1.          3.71828183  8.43656366 15.15484549 23.87312731]\n",
      " [ 1.          5.98168907 17.69506721 42.62640122 92.56530245]]\n"
     ]
    },
    {
     "data": {
      "text/plain": [
       "array([ 0.        ,  2.6358415 , -1.91242764,  0.40184822,  0.01020261])"
      ]
     },
     "execution_count": 10,
     "metadata": {},
     "output_type": "execute_result"
    }
   ],
   "source": [
    "# Hệ số của alpha_i trong khai triển L[x_n(t)]\n",
    "def f(t,i):\n",
    "    if i==0:\n",
    "        return 1\n",
    "    elif i==1:\n",
    "        return np.exp(t)+t\n",
    "    else:\n",
    "        return (i*(i-1+t*np.exp(t))+t**2)*pow(t,i-2)\n",
    "\n",
    "# Khởi tạo ma trận hệ số A và b\n",
    "bound1=np.array([1,0,0,0,0])\n",
    "bound2=np.array([1,2,4,8,16])\n",
    "A=np.vstack([bound1,bound2])\n",
    "points = np.array([0.5,1.0,1.5])\n",
    "for t in points:\n",
    "    row = np.array([f(t,i) for i in range(5)])\n",
    "    A = np.vstack([A,row])\n",
    "print(A)\n",
    "b=np.array([0,1,0,0,0])\n",
    "\n",
    "# Giải hệ phương trình để tìm các hệ số alpha\n",
    "np.linalg.solve(A,b)"
   ]
  },
  {
   "cell_type": "markdown",
   "metadata": {},
   "source": [
    "### Bài tập 2\n",
    "Dữ liệu sau là về số transitor $N$ trên 1 chíp vi xử lý theo năm sản xuất $t$:\n",
    "\n",
    "| Year | 1971 | 1972 | 1974 | 1978 | 1982 | 1985 | 1989 |\n",
    "|---:|:---|:---|:---|:---|:---|:---|:---|\n",
    "| Transitors |2,250|2,500|5,000|29,000|120,000|275,000|1,180,000|\n",
    "\n",
    "| Year |  1993 | 1997 | 1999 | 2000|2002|2003|\n",
    "|---:|:---|:---|:---|:---|:---| :---|\n",
    "| Transitors |3,100,000|7,500,000|24,000,000|42,000,000|220,000,000|410,000,000|\n",
    "\n",
    "Xây dựng mô hình $\\log_{10}N\\approx\\theta_1+\\theta_2(t-1970)$ phù hợp với dữ liệu."
   ]
  },
  {
   "cell_type": "code",
   "execution_count": 11,
   "metadata": {},
   "outputs": [
    {
     "name": "stdout",
     "output_type": "stream",
     "text": [
      "Mô hình hồi quy: log10(N)=3.126+0.154*(t-1970)\n"
     ]
    },
    {
     "data": {
      "image/png": "[encoded data removed]",
      "text/plain": [
       "<Figure size 432x288 with 1 Axes>"
      ]
     },
     "metadata": {
      "needs_background": "light"
     },
     "output_type": "display_data"
    }
   ],
   "source": [
    "# Xây dựng mô hình\n",
    "x_d = np.array([1971,1972,1974,1978,1982,1985,1989,1993,1997,\n",
    "             1999,2000,2002,2003])-1970\n",
    "y_d = np.log10(np.array([2250,2500,5000,29000,120000,275000,1180000,3100000,\n",
    "             7500000,24000000,42000000,220000000,410000000]))\n",
    "X_m = np.vstack([np.ones(len(x_d)),x_d]).T\n",
    "theta=tuple(np.linalg.lstsq(X_m,y_d,rcond=None)[0])\n",
    "print(\"Mô hình hồi quy: log10(N)=%0.3f+%0.3f*(t-1970)\"%theta)\n",
    "\n",
    "# Vẽ đồ thị\n",
    "x = np.linspace(0,35,100)\n",
    "y_reg = theta[0]+theta[1]*x\n",
    "plt.scatter(x_d,y_d)\n",
    "plt.plot(x,y_reg,'r')\n",
    "plt.show()"
   ]
  },
  {
   "cell_type": "markdown",
   "metadata": {},
   "source": [
    "### Bài tập 3\n",
    "Tải dữ liệu về (số năm kinh nghiệm,thu nhập) từ file **salary_data.csv** vào mảng (sử dụng thư viện pandas). Sử dụng thư viện **Scikit-Learn** để xây dựng hàm hồi quy tuyến tính phù hợp nhất với dữ liệu, mô tả thu nhập theo số năm kinh nghiệm."
   ]
  },
  {
   "cell_type": "code",
   "execution_count": 12,
   "metadata": {},
   "outputs": [
    {
     "data": {
      "text/html": [
       "<div>\n",
       "<style scoped>\n",
       "    .dataframe tbody tr th:only-of-type {\n",
       "        vertical-align: middle;\n",
       "    }\n",
       "\n",
       "    .dataframe tbody tr th {\n",
       "        vertical-align: top;\n",
       "    }\n",
       "\n",
       "    .dataframe thead th {\n",
       "        text-align: right;\n",
       "    }\n",
       "</style>\n",
       "<table border=\"1\" class=\"dataframe\">\n",
       "  <thead>\n",
       "    <tr style=\"text-align: right;\">\n",
       "      <th></th>\n",
       "      <th>YearsExperience</th>\n",
       "      <th>Salary</th>\n",
       "    </tr>\n",
       "  </thead>\n",
       "  <tbody>\n",
       "    <tr>\n",
       "      <th>0</th>\n",
       "      <td>1.1</td>\n",
       "      <td>39343.0</td>\n",
       "    </tr>\n",
       "    <tr>\n",
       "      <th>1</th>\n",
       "      <td>1.3</td>\n",
       "      <td>46205.0</td>\n",
       "    </tr>\n",
       "    <tr>\n",
       "      <th>2</th>\n",
       "      <td>1.5</td>\n",
       "      <td>37731.0</td>\n",
       "    </tr>\n",
       "    <tr>\n",
       "      <th>3</th>\n",
       "      <td>2.0</td>\n",
       "      <td>43525.0</td>\n",
       "    </tr>\n",
       "    <tr>\n",
       "      <th>4</th>\n",
       "      <td>2.2</td>\n",
       "      <td>39891.0</td>\n",
       "    </tr>\n",
       "  </tbody>\n",
       "</table>\n",
       "</div>"
      ],
      "text/plain": [
       "   YearsExperience   Salary\n",
       "0              1.1  39343.0\n",
       "1              1.3  46205.0\n",
       "2              1.5  37731.0\n",
       "3              2.0  43525.0\n",
       "4              2.2  39891.0"
      ]
     },
     "execution_count": 12,
     "metadata": {},
     "output_type": "execute_result"
    }
   ],
   "source": [
    "import pandas as pd\n",
    "data = pd.read_csv(\"salary_data.csv\")\n",
    "x = data[\"YearsExperience\"].values\n",
    "y = data[\"Salary\"].values\n",
    "data.head()"
   ]
  },
  {
   "cell_type": "code",
   "execution_count": 13,
   "metadata": {},
   "outputs": [
    {
     "name": "stdout",
     "output_type": "stream",
     "text": [
      "Mô hình: y=25792.200199+9449.962321x\n"
     ]
    },
    {
     "data": {
      "image/png": "[encoded data removed]",
      "text/plain": [
       "<Figure size 432x288 with 1 Axes>"
      ]
     },
     "metadata": {
      "needs_background": "light"
     },
     "output_type": "display_data"
    }
   ],
   "source": [
    "from sklearn.linear_model import LinearRegression\n",
    "\n",
    "# Xây dựng mô hình\n",
    "model = LinearRegression(fit_intercept=True)\n",
    "X = x[:, np.newaxis]\n",
    "model.fit(X, y)\n",
    "print(\"Mô hình: y=%f+%fx\"%(model.intercept_,model.coef_[0]))\n",
    "\n",
    "# Vẽ đồ thị\n",
    "xfit = np.linspace(-1, 11)\n",
    "Xfit = xfit[:, np.newaxis]\n",
    "yfit = model.predict(Xfit)\n",
    "plt.scatter(x,y,label='Original data')\n",
    "plt.plot(xfit,yfit,'r',label='Fitted line')\n",
    "plt.legend()\n",
    "plt.show()"
   ]
  }
 ],
 "metadata": {
  "kernelspec": {
   "display_name": "Python 3",
   "language": "python",
   "name": "python3"
  },
  "language_info": {
   "codemirror_mode": {
    "name": "ipython",
    "version": 3
   },
   "file_extension": ".py",
   "mimetype": "text/x-python",
   "name": "python",
   "nbconvert_exporter": "python",
   "pygments_lexer": "ipython3",
   "version": "3.8.8"
  }
 },
 "nbformat": 4,
 "nbformat_minor": 4
}
