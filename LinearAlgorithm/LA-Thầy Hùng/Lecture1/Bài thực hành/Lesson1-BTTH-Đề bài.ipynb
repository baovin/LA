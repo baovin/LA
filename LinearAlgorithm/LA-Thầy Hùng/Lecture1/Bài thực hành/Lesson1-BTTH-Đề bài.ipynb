{
 "cells": [
  {
   "cell_type": "markdown",
   "metadata": {
    "editable": true,
    "slideshow": {
     "slide_type": ""
    },
    "tags": []
   },
   "source": [
    "# Thực hành 1\n",
    "### Môn: Linear Algebra"
   ]
  },
  {
   "cell_type": "code",
   "execution_count": 2,
   "metadata": {},
   "outputs": [],
   "source": [
    "import numpy as np"
   ]
  },
  {
   "cell_type": "markdown",
   "metadata": {},
   "source": [
    "### Bài 1\n",
    "* Tạo một mảng 2-chiều $a$ cỡ $10\\times 10$, các phần tử hàng đầu tiên được khởi tạo ngẫu nhiên trong đoạn [-10,10]; các phần tử cột đầu tiên bằng $a[0,0]$; các phần tử cột cuối cùng bằng $a[0,9]$.\n",
    "* Tính các phần tử còn lại được tính theo quy tắc: \"*phần tử của hàng dưới bằng trung bình cộng của 3 phần tử gần nó nhất ở hàng trên*\" (mô tả như hình vẽ trong phiếu bài tập)"
   ]
  },
  {
   "cell_type": "code",
   "execution_count": 4,
   "metadata": {
    "editable": true,
    "slideshow": {
     "slide_type": ""
    },
    "tags": []
   },
   "outputs": [
    {
     "data": {
      "text/plain": [
       "array([[-4.00000000e+00,  0.00000000e+00,  6.00000000e+00,\n",
       "         2.00000000e+00, -5.00000000e+00,  7.00000000e+00,\n",
       "        -7.00000000e+00,  3.00000000e+00,  4.00000000e+00,\n",
       "        -7.00000000e+00],\n",
       "       [-4.00000000e+00,  6.66666667e-01,  2.66666667e+00,\n",
       "         1.00000000e+00,  1.33333333e+00, -1.66666667e+00,\n",
       "         1.00000000e+00,  0.00000000e+00,  0.00000000e+00,\n",
       "        -7.00000000e+00],\n",
       "       [-4.00000000e+00, -2.22222222e-01,  1.44444444e+00,\n",
       "         1.66666667e+00,  2.22222222e-01,  2.22222222e-01,\n",
       "        -2.22222222e-01,  3.33333333e-01, -2.33333333e+00,\n",
       "        -7.00000000e+00],\n",
       "       [-4.00000000e+00, -9.25925926e-01,  9.62962963e-01,\n",
       "         1.11111111e+00,  7.03703704e-01,  7.40740741e-02,\n",
       "         1.11111111e-01, -7.40740741e-01, -3.00000000e+00,\n",
       "        -7.00000000e+00],\n",
       "       [-4.00000000e+00, -1.32098765e+00,  3.82716049e-01,\n",
       "         9.25925926e-01,  6.29629630e-01,  2.96296296e-01,\n",
       "        -1.85185185e-01, -1.20987654e+00, -3.58024691e+00,\n",
       "        -7.00000000e+00],\n",
       "       [-4.00000000e+00, -1.64609053e+00, -4.11522634e-03,\n",
       "         6.46090535e-01,  6.17283951e-01,  2.46913580e-01,\n",
       "        -3.66255144e-01, -1.65843621e+00, -3.93004115e+00,\n",
       "        -7.00000000e+00],\n",
       "       [-4.00000000e+00, -1.88340192e+00, -3.34705075e-01,\n",
       "         4.19753086e-01,  5.03429355e-01,  1.65980796e-01,\n",
       "        -5.92592593e-01, -1.98491084e+00, -4.19615912e+00,\n",
       "        -7.00000000e+00],\n",
       "       [-4.00000000e+00, -2.07270233e+00, -5.99451303e-01,\n",
       "         1.96159122e-01,  3.63054412e-01,  2.56058528e-02,\n",
       "        -8.03840878e-01, -2.25788752e+00, -4.39368999e+00,\n",
       "        -7.00000000e+00],\n",
       "       [-4.00000000e+00, -2.22405121e+00, -8.25331504e-01,\n",
       "        -1.34125895e-02,  1.94939796e-01, -1.38393538e-01,\n",
       "        -1.01204085e+00, -2.48513946e+00, -4.55052583e+00,\n",
       "        -7.00000000e+00],\n",
       "       [-4.00000000e+00, -2.34979424e+00, -1.02093177e+00,\n",
       "        -2.14601433e-01,  1.43778895e-02, -3.18498196e-01,\n",
       "        -1.21185795e+00, -2.68256871e+00, -4.67855510e+00,\n",
       "        -7.00000000e+00]])"
      ]
     },
     "execution_count": 4,
     "metadata": {},
     "output_type": "execute_result"
    }
   ],
   "source": [
    "import numpy as np\n",
    "m = 10\n",
    "n = 10\n",
    "x = np.zeros([m,n], dtype= np.float64)\n",
    "x[0,:] = np.random.randint(-10,10,n)\n",
    "for row in range (m):\n",
    "    x[row,0] = x[0,0]\n",
    "    x[row,-1] = x[0,-1]\n",
    "\n",
    "for row in range(1,m):\n",
    "    for col in range(1,n-1):\n",
    "        x[row,col]=(x[row-1,col-1]+x[row-1,col]+x[row-1,col+1])/3\n",
    "x\n",
    "\n"
   ]
  },
  {
   "cell_type": "markdown",
   "metadata": {},
   "source": [
    "### Bài 2\n",
    "* Tạo một mảng 1 chiều $\\bf x$ gồm $n=10$ số thực.\n",
    "* Chọn 3 hàm số tùy ý $f_1(x),\\,f_2(x),\\,f_3(x)$.\n",
    "* Tạo 3 mảng 1-chiều $y_1=[f_1(x)]$, $y_2=[f_2(x)]$, $y_3=[f_3(x)]$.\n",
    "* Ghép bốn mảng 1-chiều thành một mảng 2-chiều kích thước $n\\times 4$."
   ]
  },
  {
   "cell_type": "code",
   "execution_count": 12,
   "metadata": {},
   "outputs": [
    {
     "name": "stdout",
     "output_type": "stream",
     "text": [
      "(10, 4)\n"
     ]
    }
   ],
   "source": [
    "a = np.random.rand(1,10)\n",
    "\n",
    "\n",
    "\n",
    "f1 = lambda x: x+5\n",
    "f2 = lambda x: x*x\n",
    "f3 = lambda x: x//2 + 1\n",
    "\n",
    "y1 = f1(a)\n",
    "y2 = f2(a)\n",
    "y3 = f3(a)\n",
    "\n",
    "concat = np.concatenate((a, y1, y2, y3), axis=0).T\n",
    "\n",
    "print(concat.shape)\n",
    "\n"
   ]
  },
  {
   "cell_type": "markdown",
   "metadata": {},
   "source": [
    "### Bài 3\n",
    "* Tải dữ liệu từ file *heart$\\_$rate.txt* vào mảng $a$.\n",
    "* Thực hiện mô tả thống kê với các biến **Time** và **Heart Rate**: cỡ mẫu, trung bình, trung vị, độ lệch tiêu chuẩn, giá trị lớn nhất/nhỏ nhất, phần tư $Q_1,\\,Q_2$ và $Q_3$."
   ]
  },
  {
   "cell_type": "code",
   "execution_count": 18,
   "metadata": {},
   "outputs": [
    {
     "name": "stdout",
     "output_type": "stream",
     "text": [
      "600.0\n",
      "142.98340248962654\n"
     ]
    }
   ],
   "source": [
    "path = 'heart_rate.txt'\n",
    "\n",
    "x = np.loadtxt(path, skiprows=1, delimiter=\",\" )\n",
    "for i in range (x.shape[1]):\n",
    "    print(x[:,i].mean())"
   ]
  },
  {
   "cell_type": "markdown",
   "metadata": {},
   "source": [
    "### Bài 4\n",
    "* Ảnh *'towerbridge.jpg'* được biểu diễn bởi 1 tensor bậc 3 'arrcolor' bằng lệnh cho dưới đây.\n",
    "* Chuyển thành ảnh xám bằng cách biến đổi tensor thành ma trận 'arrgray', mỗi phần tử là độ sáng của điểm ảnh bằng trung bình cộng các màu của điểm ảnh đó trong tensor. Tính và hiển thị ảnh xám ra màn hình."
   ]
  },
  {
   "cell_type": "code",
   "execution_count": null,
   "metadata": {},
   "outputs": [],
   "source": []
  }
 ],
 "metadata": {
  "kernelspec": {
   "display_name": "Python 3 (ipykernel)",
   "language": "python",
   "name": "python3"
  },
  "language_info": {
   "codemirror_mode": {
    "name": "ipython",
    "version": 3
   },
   "file_extension": ".py",
   "mimetype": "text/x-python",
   "name": "python",
   "nbconvert_exporter": "python",
   "pygments_lexer": "ipython3",
   "version": "3.12.4"
  }
 },
 "nbformat": 4,
 "nbformat_minor": 4
}
