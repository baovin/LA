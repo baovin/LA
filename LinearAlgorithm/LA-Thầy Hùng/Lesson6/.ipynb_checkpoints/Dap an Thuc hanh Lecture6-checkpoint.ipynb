{
 "cells": [
  {
   "cell_type": "code",
   "execution_count": 1,
   "metadata": {},
   "outputs": [],
   "source": [
    "import numpy as np\n",
    "import pandas as pd\n",
    "import matplotlib.pyplot as plt"
   ]
  },
  {
   "cell_type": "markdown",
   "metadata": {},
   "source": [
    "## THỰC HÀNH "
   ]
  },
  {
   "cell_type": "markdown",
   "metadata": {},
   "source": [
    "### Thực hành 1\n",
    "Cho ma trận $$A=\\begin{pmatrix}\n",
    "4&0&-2\\\\ 2&5&4\\\\ 0&0&5\n",
    "\\end{pmatrix} $$\n",
    "\n",
    "a) Sử dụng hàm $eig$ tìm các giá trị riêng và véc-tơ riêng của ma trận $A$.\n",
    "\n",
    "b) Xây dựng ma trận đường chéo $D$ từ các giá trị riêng.\n",
    "\n",
    "c) Tìm ma trận $P$ gồm các véc-tơ riêng tương ứng.\n",
    "\n",
    "d) Thực hiện phép nhân $PDP^{-1}$ và so sánh với $A$."
   ]
  },
  {
   "cell_type": "code",
   "execution_count": 3,
   "metadata": {},
   "outputs": [
    {
     "name": "stdout",
     "output_type": "stream",
     "text": [
      "[[ 4  0 -2]\n",
      " [ 2  5  4]\n",
      " [ 0  0  5]]\n"
     ]
    }
   ],
   "source": [
    "# Nhap ma tran A\n",
    "A=np.array([ [4,0,-2],[ 2,5,4], [0,0,5]] )\n",
    "print(A)"
   ]
  },
  {
   "cell_type": "code",
   "execution_count": 4,
   "metadata": {},
   "outputs": [
    {
     "name": "stdout",
     "output_type": "stream",
     "text": [
      "Giá trị riêng:  5.0 Véc-tơ riêng:  [0. 1. 0.]\n",
      "Giá trị riêng:  4.0 Véc-tơ riêng:  [ 0.4472136  -0.89442719  0.        ]\n",
      "Giá trị riêng:  5.0 Véc-tơ riêng:  [-0.89442719  0.          0.4472136 ]\n"
     ]
    }
   ],
   "source": [
    "lam, P=np.linalg.eig(A)\n",
    "for i in range(3):\n",
    "    print('Giá trị riêng: ', lam[i], 'Véc-tơ riêng: ',P[:,i])"
   ]
  },
  {
   "cell_type": "code",
   "execution_count": 5,
   "metadata": {},
   "outputs": [
    {
     "name": "stdout",
     "output_type": "stream",
     "text": [
      "Ma trận đường chéo: D=  [[5. 0. 0.]\n",
      " [0. 4. 0.]\n",
      " [0. 0. 5.]]\n"
     ]
    }
   ],
   "source": [
    "D=np.diag(lam)\n",
    "print('Ma trận đường chéo: D= ',D)\n"
   ]
  },
  {
   "cell_type": "code",
   "execution_count": 6,
   "metadata": {},
   "outputs": [
    {
     "name": "stdout",
     "output_type": "stream",
     "text": [
      "Ma trận chéo hóa: P= [[ 0.          0.4472136  -0.89442719]\n",
      " [ 1.         -0.89442719  0.        ]\n",
      " [ 0.          0.          0.4472136 ]]\n"
     ]
    }
   ],
   "source": [
    "print('Ma trận chéo hóa: P=', P)"
   ]
  },
  {
   "cell_type": "code",
   "execution_count": 9,
   "metadata": {},
   "outputs": [
    {
     "data": {
      "text/plain": [
       "array([[ 4.,  0., -2.],\n",
       "       [ 2.,  5.,  4.],\n",
       "       [ 0.,  0.,  5.]])"
      ]
     },
     "execution_count": 9,
     "metadata": {},
     "output_type": "execute_result"
    }
   ],
   "source": [
    "np.dot(np.dot(P,D),np.linalg.inv(P))"
   ]
  },
  {
   "cell_type": "code",
   "execution_count": 10,
   "metadata": {},
   "outputs": [
    {
     "data": {
      "text/plain": [
       "array([[ 0.00000000e+00,  0.00000000e+00,  1.77635684e-15],\n",
       "       [ 0.00000000e+00,  0.00000000e+00,  0.00000000e+00],\n",
       "       [ 0.00000000e+00,  0.00000000e+00, -8.88178420e-16]])"
      ]
     },
     "execution_count": 10,
     "metadata": {},
     "output_type": "execute_result"
    }
   ],
   "source": [
    "A-np.dot(np.dot(P,D),np.linalg.inv(P))"
   ]
  },
  {
   "cell_type": "code",
   "execution_count": null,
   "metadata": {},
   "outputs": [],
   "source": []
  },
  {
   "cell_type": "markdown",
   "metadata": {},
   "source": [
    "## Thực hành 2\n",
    "Cho ma trận $$A=\\left[ \\begin {array}{cccc} 62&-38&-4&-100\\\\ -38&36&-2&64\\\\ -4&-2&2&6\\\\ -100&64&6&166\n",
    "\\end {array} \\right] $$\n",
    "\n",
    "a) Sử dụng hàm $eigh$ tìm các giá trị riêng và véc-tơ riêng của ma trận $A$.\n",
    "\n",
    "b) Xây dựng ma trận đường chéo $D$ từ các giá trị riêng.\n",
    "\n",
    "c) Tìm ma trận $V$ gồm các véc-tơ riêng tương ứng.\n",
    "\n",
    "d) Thực hiện phép nhân $VDV^{T}$ và so sánh với $A$."
   ]
  },
  {
   "cell_type": "code",
   "execution_count": 11,
   "metadata": {},
   "outputs": [
    {
     "name": "stdout",
     "output_type": "stream",
     "text": [
      "[[  62  -38   -4 -100]\n",
      " [ -38   36   -2   64]\n",
      " [  -4   -2    2    6]\n",
      " [-100   64    6  166]]\n"
     ]
    }
   ],
   "source": [
    "# Nhap ma tran A\n",
    "A=np.array([ [62,-38,-4,-100], [-38,36,-2,64], [-4,-2,2,6], [-100,64,6,166] ])\n",
    "print(A)"
   ]
  },
  {
   "cell_type": "code",
   "execution_count": 13,
   "metadata": {},
   "outputs": [
    {
     "name": "stdout",
     "output_type": "stream",
     "text": [
      "Giá trị riêng:  252.4716318772185 Véc-tơ riêng:  [ 0.48987055 -0.32484113 -0.02460017 -0.80864078]\n",
      "Giá trị riêng:  12.187592441617761 Véc-tơ riêng:  [-0.21031118 -0.87541219  0.37970822  0.21270724]\n",
      "Giá trị riêng:  1.2355639271298344 Véc-tơ riêng:  [ 0.84085969 -0.0687872   0.00642143  0.53682593]\n",
      "Giá trị riêng:  0.10521175403374017 Véc-tơ riêng:  [-0.09354703 -0.35128343 -0.92475687  0.11257725]\n"
     ]
    }
   ],
   "source": [
    "lam, V=np.linalg.eig(A)\n",
    "for i in range(4):\n",
    "    print('Giá trị riêng: ', lam[i], 'Véc-tơ riêng: ',V[:,i])"
   ]
  },
  {
   "cell_type": "code",
   "execution_count": 14,
   "metadata": {},
   "outputs": [
    {
     "name": "stdout",
     "output_type": "stream",
     "text": [
      "Ma trận đường chéo: D=  [[2.52471632e+02 0.00000000e+00 0.00000000e+00 0.00000000e+00]\n",
      " [0.00000000e+00 1.21875924e+01 0.00000000e+00 0.00000000e+00]\n",
      " [0.00000000e+00 0.00000000e+00 1.23556393e+00 0.00000000e+00]\n",
      " [0.00000000e+00 0.00000000e+00 0.00000000e+00 1.05211754e-01]]\n"
     ]
    }
   ],
   "source": [
    "D=np.diag(lam)\n",
    "print('Ma trận đường chéo: D= ',D)"
   ]
  },
  {
   "cell_type": "code",
   "execution_count": 15,
   "metadata": {},
   "outputs": [
    {
     "name": "stdout",
     "output_type": "stream",
     "text": [
      "Ma trận chéo hóa: V= [[ 0.48987055 -0.21031118  0.84085969 -0.09354703]\n",
      " [-0.32484113 -0.87541219 -0.0687872  -0.35128343]\n",
      " [-0.02460017  0.37970822  0.00642143 -0.92475687]\n",
      " [-0.80864078  0.21270724  0.53682593  0.11257725]]\n"
     ]
    }
   ],
   "source": [
    "print('Ma trận chéo hóa: V=', V)"
   ]
  },
  {
   "cell_type": "code",
   "execution_count": 16,
   "metadata": {},
   "outputs": [
    {
     "data": {
      "text/plain": [
       "array([[  62.,  -38.,   -4., -100.],\n",
       "       [ -38.,   36.,   -2.,   64.],\n",
       "       [  -4.,   -2.,    2.,    6.],\n",
       "       [-100.,   64.,    6.,  166.]])"
      ]
     },
     "execution_count": 16,
     "metadata": {},
     "output_type": "execute_result"
    }
   ],
   "source": [
    "np.dot(np.dot(V,D),V.T)"
   ]
  },
  {
   "cell_type": "code",
   "execution_count": 17,
   "metadata": {},
   "outputs": [
    {
     "data": {
      "text/plain": [
       "array([[ 5.68434189e-14, -1.42108547e-14, -3.55271368e-15,\n",
       "        -2.84217094e-14],\n",
       "       [-1.42108547e-14,  2.13162821e-14,  7.10542736e-15,\n",
       "         6.39488462e-14],\n",
       "       [-3.55271368e-15,  6.66133815e-15, -3.55271368e-15,\n",
       "        -3.55271368e-15],\n",
       "       [-4.26325641e-14,  6.39488462e-14, -3.55271368e-15,\n",
       "         5.68434189e-14]])"
      ]
     },
     "execution_count": 17,
     "metadata": {},
     "output_type": "execute_result"
    }
   ],
   "source": [
    "A-np.dot(np.dot(V,D),V.T)"
   ]
  },
  {
   "cell_type": "code",
   "execution_count": null,
   "metadata": {},
   "outputs": [],
   "source": []
  }
 ],
 "metadata": {
  "kernelspec": {
   "display_name": "Python 3",
   "language": "python",
   "name": "python3"
  },
  "language_info": {
   "codemirror_mode": {
    "name": "ipython",
    "version": 3
   },
   "file_extension": ".py",
   "mimetype": "text/x-python",
   "name": "python",
   "nbconvert_exporter": "python",
   "pygments_lexer": "ipython3",
   "version": "3.8.8"
  }
 },
 "nbformat": 4,
 "nbformat_minor": 4
}
