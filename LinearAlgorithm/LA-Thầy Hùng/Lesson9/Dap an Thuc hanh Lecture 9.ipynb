{
 "cells": [
  {
   "cell_type": "code",
   "execution_count": 2,
   "metadata": {},
   "outputs": [],
   "source": [
    "import numpy as np\n",
    "import pandas as pd"
   ]
  },
  {
   "cell_type": "code",
   "execution_count": 3,
   "metadata": {},
   "outputs": [],
   "source": [
    "import os\n",
    "from PIL import Image\n",
    "import matplotlib.pyplot as plt\n",
    "%matplotlib inline"
   ]
  },
  {
   "cell_type": "markdown",
   "metadata": {},
   "source": [
    "## Thực hành 1\n",
    "Cho ma trận $$A=\\begin{pmatrix}\n",
    "2&1&3\\\\ 1&2&0\n",
    "\\end{pmatrix} $$\n",
    "\n",
    "\n",
    "a) Thực hiện phép phân tích SVD.\n",
    "\n",
    "b) Tính ma trận nghịch đảo suy rộng của $A$.\n"
   ]
  },
  {
   "cell_type": "code",
   "execution_count": 5,
   "metadata": {},
   "outputs": [
    {
     "name": "stdout",
     "output_type": "stream",
     "text": [
      "[[2 1 3]\n",
      " [1 2 0]]\n"
     ]
    }
   ],
   "source": [
    "A=np.array([[2,1,3],[1,2,0]])\n",
    "print(A)"
   ]
  },
  {
   "cell_type": "code",
   "execution_count": 8,
   "metadata": {},
   "outputs": [
    {
     "name": "stdout",
     "output_type": "stream",
     "text": [
      "[[-0.9347217  -0.35538056]\n",
      " [-0.35538056  0.9347217 ]]\n",
      "[3.93964431 1.8652621 ]\n",
      "[[-0.56472711 -0.41767294 -0.71178129]\n",
      " [ 0.12006923  0.81171587 -0.57157741]\n",
      " [-0.81649658  0.40824829  0.40824829]]\n"
     ]
    }
   ],
   "source": [
    "u,s,vt=np.linalg.svd(A)\n",
    "print(u)\n",
    "print(s)\n",
    "print(vt)"
   ]
  },
  {
   "cell_type": "code",
   "execution_count": 18,
   "metadata": {},
   "outputs": [
    {
     "name": "stdout",
     "output_type": "stream",
     "text": [
      "[[3.93964431 0.         0.        ]\n",
      " [0.         1.8652621  0.        ]]\n"
     ]
    }
   ],
   "source": [
    "m,n=A.shape\n",
    "d=np.zeros((m,n))\n",
    "for i in range(min(m,n)):\n",
    "    d[i,i]=s[i]\n",
    "print(d)"
   ]
  },
  {
   "cell_type": "code",
   "execution_count": 21,
   "metadata": {},
   "outputs": [
    {
     "name": "stdout",
     "output_type": "stream",
     "text": [
      "[[2. 1. 3.]\n",
      " [1. 2. 0.]]\n"
     ]
    }
   ],
   "source": [
    "print(u.dot(d.dot(vt))) # A=u*d*vt"
   ]
  },
  {
   "cell_type": "code",
   "execution_count": null,
   "metadata": {},
   "outputs": [],
   "source": []
  },
  {
   "cell_type": "code",
   "execution_count": 23,
   "metadata": {},
   "outputs": [
    {
     "name": "stdout",
     "output_type": "stream",
     "text": [
      "[[0.25383002 0.        ]\n",
      " [0.         0.53611768]\n",
      " [0.         0.        ]]\n"
     ]
    }
   ],
   "source": [
    "m,n=A.shape\n",
    "invd=np.zeros((n,m))\n",
    "for i in range(min(m,n)):\n",
    "    if np.abs(s[i])>1e-6:\n",
    "        invd[i,i]=1/s[i]\n",
    "print(invd)"
   ]
  },
  {
   "cell_type": "code",
   "execution_count": 24,
   "metadata": {},
   "outputs": [
    {
     "name": "stdout",
     "output_type": "stream",
     "text": [
      "[[ 0.11111111  0.11111111]\n",
      " [-0.05555556  0.44444444]\n",
      " [ 0.27777778 -0.22222222]]\n"
     ]
    }
   ],
   "source": [
    "Ad=vt.T.dot(invd.dot(u.T))\n",
    "print(Ad)"
   ]
  },
  {
   "cell_type": "code",
   "execution_count": 26,
   "metadata": {},
   "outputs": [
    {
     "data": {
      "text/plain": [
       "array([[ 0.11111111,  0.11111111],\n",
       "       [-0.05555556,  0.44444444],\n",
       "       [ 0.27777778, -0.22222222]])"
      ]
     },
     "execution_count": 26,
     "metadata": {},
     "output_type": "execute_result"
    }
   ],
   "source": [
    "np.linalg.pinv(A)"
   ]
  },
  {
   "cell_type": "code",
   "execution_count": null,
   "metadata": {},
   "outputs": [],
   "source": []
  },
  {
   "cell_type": "markdown",
   "metadata": {},
   "source": [
    "## Thực hành 2\n",
    "Sử dụng thư viện $numpy.linalg.svd$ tìm khai triển SVD cho ma trận $$A=\\begin{pmatrix}\n",
    "1&0&0&0&2\\\\\n",
    "0&0&3&0&0\\\\\n",
    "0&0&0&0&0\\\\\n",
    "0&2&0&0&0\n",
    "\\end{pmatrix} $$"
   ]
  },
  {
   "cell_type": "code",
   "execution_count": 4,
   "metadata": {},
   "outputs": [
    {
     "name": "stdout",
     "output_type": "stream",
     "text": [
      "[[1. 0. 0. 0. 2.]\n",
      " [0. 0. 3. 0. 0.]\n",
      " [0. 0. 0. 0. 0.]\n",
      " [0. 2. 0. 0. 0.]]\n"
     ]
    }
   ],
   "source": [
    "A=np.zeros((4,5))\n",
    "A[0,0]=1\n",
    "A[0,4]=2\n",
    "A[1,2]=3\n",
    "A[3,1]=2\n",
    "print(A)"
   ]
  },
  {
   "cell_type": "code",
   "execution_count": 5,
   "metadata": {},
   "outputs": [
    {
     "name": "stdout",
     "output_type": "stream",
     "text": [
      "[[ 0.  1.  0.  0.]\n",
      " [ 1.  0.  0.  0.]\n",
      " [ 0.  0.  0. -1.]\n",
      " [ 0.  0.  1.  0.]]\n",
      "[3.         2.23606798 2.         0.        ]\n",
      "[[-0.          0.          1.          0.          0.        ]\n",
      " [ 0.4472136   0.          0.          0.          0.89442719]\n",
      " [-0.          1.          0.          0.          0.        ]\n",
      " [ 0.          0.          0.          1.          0.        ]\n",
      " [-0.89442719  0.          0.          0.          0.4472136 ]]\n"
     ]
    }
   ],
   "source": [
    "u,s,vt=np.linalg.svd(A)\n",
    "print(u)\n",
    "print(s)\n",
    "print(vt)"
   ]
  },
  {
   "cell_type": "code",
   "execution_count": 32,
   "metadata": {},
   "outputs": [
    {
     "name": "stdout",
     "output_type": "stream",
     "text": [
      "[[3.         0.         0.         0.         0.        ]\n",
      " [0.         2.23606798 0.         0.         0.        ]\n",
      " [0.         0.         2.         0.         0.        ]\n",
      " [0.         0.         0.         0.         0.        ]]\n"
     ]
    }
   ],
   "source": [
    "m,n=A.shape\n",
    "d=np.zeros((m,n))\n",
    "for i in range(min(m,n)):\n",
    "    d[i,i]=s[i]\n",
    "print(d)"
   ]
  },
  {
   "cell_type": "code",
   "execution_count": 33,
   "metadata": {},
   "outputs": [
    {
     "data": {
      "text/plain": [
       "array([[1., 0., 0., 0., 2.],\n",
       "       [0., 0., 3., 0., 0.],\n",
       "       [0., 0., 0., 0., 0.],\n",
       "       [0., 2., 0., 0., 0.]])"
      ]
     },
     "execution_count": 33,
     "metadata": {},
     "output_type": "execute_result"
    }
   ],
   "source": [
    "u.dot(d.dot(vt))"
   ]
  },
  {
   "cell_type": "code",
   "execution_count": null,
   "metadata": {},
   "outputs": [],
   "source": []
  },
  {
   "cell_type": "code",
   "execution_count": null,
   "metadata": {},
   "outputs": [],
   "source": []
  },
  {
   "cell_type": "code",
   "execution_count": null,
   "metadata": {},
   "outputs": [],
   "source": []
  },
  {
   "cell_type": "code",
   "execution_count": null,
   "metadata": {},
   "outputs": [],
   "source": []
  }
 ],
 "metadata": {
  "kernelspec": {
   "display_name": "Python 3",
   "language": "python",
   "name": "python3"
  },
  "language_info": {
   "codemirror_mode": {
    "name": "ipython",
    "version": 3
   },
   "file_extension": ".py",
   "mimetype": "text/x-python",
   "name": "python",
   "nbconvert_exporter": "python",
   "pygments_lexer": "ipython3",
   "version": "3.8.8"
  }
 },
 "nbformat": 4,
 "nbformat_minor": 4
}
