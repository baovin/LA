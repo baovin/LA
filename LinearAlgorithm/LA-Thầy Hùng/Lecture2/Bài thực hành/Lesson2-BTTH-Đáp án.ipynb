{
 "cells": [
  {
   "cell_type": "markdown",
   "metadata": {},
   "source": [
    "# Bài thực hành 2\n",
    "### Môn: Linear Algebra"
   ]
  },
  {
   "cell_type": "code",
   "execution_count": 1,
   "metadata": {},
   "outputs": [],
   "source": [
    "import numpy as np"
   ]
  },
  {
   "cell_type": "markdown",
   "metadata": {},
   "source": [
    "### Bài tập 1\n",
    "Cho ma trận ${ A}=\\left[\\begin{matrix}\n",
    "0 & 0 & 0\\\\\n",
    "1 & 0 & 0\\\\\n",
    "0 & 1 & 0\n",
    "\\end{matrix}\\right]\\ \\ ;\\ \\ { B}=\\left[\\begin{matrix}\n",
    "4 & -2 & 1\\\\\n",
    "3 & 1 & -1\\\\\n",
    "-1 & 5 & 0\n",
    "\\end{matrix}\\right]$\n",
    "\n",
    "* Chứng tỏ rằng ${A}^3=0$. Tính $({I}-{A})({I}+{A}+{A}^2)$.\n",
    "* Tạo ma trận khối $C=\\left[\\begin{matrix}\n",
    "A & I\\\\\n",
    "-I & B\n",
    "\\end{matrix}\\right]$. Tính định thức và hạng của $C$."
   ]
  },
  {
   "cell_type": "code",
   "execution_count": 2,
   "metadata": {},
   "outputs": [
    {
     "name": "stdout",
     "output_type": "stream",
     "text": [
      "A^3==0: True\n",
      "Giá trị biểu thức:\n",
      "[[1. 0. 0.]\n",
      " [0. 1. 0.]\n",
      " [0. 0. 1.]]\n"
     ]
    }
   ],
   "source": [
    "A = np.array([0,0,0,1,0,0,0,1,0]).reshape(3,3)\n",
    "B = np.array([4,-2,1,3,1,-1,-1,5,0]).reshape(3,3)\n",
    "\n",
    "# Chứng tỏ A^3=0\n",
    "print(\"A^3==0:\", np.allclose(A@A@A, np.zeros((3,3))))\n",
    "\n",
    "# Tính giá trị biểu thức\n",
    "I = np.identity(3)\n",
    "print(\"Giá trị biểu thức:\")\n",
    "print(np.dot(I-A, I+A+np.linalg.matrix_power(A,2)))"
   ]
  },
  {
   "cell_type": "code",
   "execution_count": 3,
   "metadata": {},
   "outputs": [
    {
     "name": "stdout",
     "output_type": "stream",
     "text": [
      "Ma trận khối: C=\n",
      "[[ 0.  0.  0.  1.  0.  0.]\n",
      " [ 1.  0.  0.  0.  1.  0.]\n",
      " [ 0.  1.  0.  0.  0.  1.]\n",
      " [-1. -0. -0.  4. -2.  1.]\n",
      " [-0. -1. -0.  3.  1. -1.]\n",
      " [-0. -0. -1. -1.  5.  0.]]\n",
      "det(C)= -0.9999999999999998\n",
      "rank(C)= 6\n"
     ]
    }
   ],
   "source": [
    "# Tạo ma trận khối\n",
    "C = np.vstack([np.hstack([A,I]), np.hstack([-1*I,B])])\n",
    "print(\"Ma trận khối: C=\")\n",
    "print(C)\n",
    "\n",
    "# Tính định thức và hạng\n",
    "print(\"det(C)=\", np.linalg.det(C))\n",
    "print(\"rank(C)=\", np.linalg.matrix_rank(C))"
   ]
  },
  {
   "cell_type": "markdown",
   "metadata": {},
   "source": [
    "### Bài tập 2\n",
    "Lũy thừa ma trận có thể được sử dụng như một công cụ để phân tích trạng thái tới hạn của một số hệ động lực. Cho hai ma trận sau đây:\n",
    "\n",
    "$${\\bf A}=\\left[\\begin{matrix}\n",
    "0.4 & 0.2 & 0.3\\\\\n",
    "0.3 & 0.6 & 0.3\\\\\n",
    "0.3 & 0.2 & 0.4\n",
    "\\end{matrix}\\right],\\,{\\bf B}=\\left[\\begin{matrix}\n",
    "0 & 0.2 & 0.3\\\\\n",
    "0.1 & 0.6 & 0.3\\\\\n",
    "0.9 & 0.2 & 0.4\n",
    "\\end{matrix}\\right]$$\n",
    "\n",
    "Hãy kiểm tra xem điều gì sẽ xảy ra với ${\\bf A}^k$ và ${\\bf B}^k$ khi $k$ nhận giá trị lớn."
   ]
  },
  {
   "cell_type": "code",
   "execution_count": 4,
   "metadata": {},
   "outputs": [
    {
     "name": "stdout",
     "output_type": "stream",
     "text": [
      "Lũy thừa ma trận A:\n",
      "\n",
      "[[0.28571429 0.28571429 0.28571429]\n",
      " [0.42857143 0.42857143 0.42857143]\n",
      " [0.28571429 0.28571429 0.28571429]] \n",
      "\n",
      "[[0.28571429 0.28571429 0.28571429]\n",
      " [0.42857143 0.42857143 0.42857143]\n",
      " [0.28571429 0.28571429 0.28571429]] \n",
      "\n",
      "[[0.28571429 0.28571429 0.28571429]\n",
      " [0.42857143 0.42857143 0.42857143]\n",
      " [0.28571429 0.28571429 0.28571429]] \n",
      "\n",
      "[[0.28571429 0.28571429 0.28571429]\n",
      " [0.42857143 0.42857143 0.42857143]\n",
      " [0.28571429 0.28571429 0.28571429]] \n",
      "\n",
      "Lũy thừa ma trận B:\n",
      "\n",
      "[[0.20224719 0.20224719 0.20224719]\n",
      " [0.37078652 0.37078652 0.37078652]\n",
      " [0.42696629 0.42696629 0.42696629]] \n",
      "\n",
      "[[0.20224719 0.20224719 0.20224719]\n",
      " [0.37078652 0.37078652 0.37078652]\n",
      " [0.42696629 0.42696629 0.42696629]] \n",
      "\n",
      "[[0.20224719 0.20224719 0.20224719]\n",
      " [0.37078652 0.37078652 0.37078652]\n",
      " [0.42696629 0.42696629 0.42696629]] \n",
      "\n",
      "[[0.20224719 0.20224719 0.20224719]\n",
      " [0.37078652 0.37078652 0.37078652]\n",
      " [0.42696629 0.42696629 0.42696629]] \n",
      "\n"
     ]
    }
   ],
   "source": [
    "A = np.array([0.4,0.2,0.3,0.3,0.6,0.3,0.3,0.2,0.4]).reshape(3,3)\n",
    "B = np.array([0,0.2,0.3,0.1,0.6,0.3,0.9,0.2,0.4]).reshape(3,3)\n",
    "print(\"Lũy thừa ma trận A:\\n\")\n",
    "n = 100 # Số mũ\n",
    "for i in range(n):\n",
    "    if i>n-5:\n",
    "        print(np.linalg.matrix_power(A,i+1),'\\n')\n",
    "\n",
    "print(\"Lũy thừa ma trận B:\\n\")\n",
    "for i in range(n):\n",
    "    if i>n-5:\n",
    "        print(np.linalg.matrix_power(B,i+1),'\\n')"
   ]
  },
  {
   "cell_type": "code",
   "execution_count": 5,
   "metadata": {},
   "outputs": [
    {
     "data": {
      "text/plain": [
       "(array([1. , 0.1, 0.3]),\n",
       " array([[-4.85071250e-01, -7.07106781e-01,  4.08248290e-01],\n",
       "        [-7.27606875e-01,  2.38524432e-16, -8.16496581e-01],\n",
       "        [-4.85071250e-01,  7.07106781e-01,  4.08248290e-01]]))"
      ]
     },
     "execution_count": 5,
     "metadata": {},
     "output_type": "execute_result"
    }
   ],
   "source": [
    "# Giá trị riêng và véc tơ riêng của A\n",
    "np.linalg.eig(A)"
   ]
  },
  {
   "cell_type": "code",
   "execution_count": 6,
   "metadata": {},
   "outputs": [
    {
     "data": {
      "text/plain": [
       "(array([-0.33166248,  0.33166248,  1.        ]),\n",
       " array([[ 0.59404463, -0.12024109, -0.33675758],\n",
       "        [ 0.18808926,  0.75951783, -0.6173889 ],\n",
       "        [-0.78213388, -0.63927674, -0.71093268]]))"
      ]
     },
     "execution_count": 6,
     "metadata": {},
     "output_type": "execute_result"
    }
   ],
   "source": [
    "# Giá trị riêng và véc tơ riêng của B\n",
    "np.linalg.eig(B)"
   ]
  },
  {
   "cell_type": "markdown",
   "metadata": {},
   "source": [
    "### Nhận xét\n",
    "$A^k$ và $B^k$ hội tụ về các ma trận có dạng:\n",
    "\n",
    "$$\\left[\\begin{matrix}\n",
    "0.2857 & 0.2857 & 0.2857\\\\\n",
    "0.4285 & 0.4285 & 0.4285\\\\\n",
    "0.2857 & 0.2857 & 0.2857\n",
    "\\end{matrix}\\right]\\hspace{2cm}\n",
    "\\left[\\begin{matrix}\n",
    "0.2022 & 0.2022 & 0.2022\\\\\n",
    "0.3707 & 0.3707 & 0.3707\\\\\n",
    "0.4269 & 0.4269 & 0.4269\n",
    "\\end{matrix}\\right]$$\n",
    "\n",
    "khi $k\\rightarrow\\infty$. Thực tế, hai ma trận $A$ và $B$ có một trị riêng bằng 1, và hai trị riêng có độ lớn nhỏ hơn 1. Lũy thừa của các trị riêng có độ lớn nhỏ hơn 1 sẽ tiến dần đến 0."
   ]
  },
  {
   "cell_type": "markdown",
   "metadata": {},
   "source": [
    "### Bài 3\n",
    "Phân tích ma trận đánh giá\n",
    "$${\\bf X}=\\left[\\begin{matrix}\n",
    "3 & 3 & 0 & 4 & 4\\\\\n",
    "0 & 5 & 2 & 0 & 1\\\\\n",
    "2 & 0 & 1 & 2 & 5 \\\\\n",
    "0 & 3 & 2 & 5 & 0 \\\\\n",
    "2 & 5 & 0 & 3 & 2\n",
    "\\end{matrix}\\right]\n",
    "$$\n",
    "thành tích $\\bf W\\,H^T$, với ${\\bf W}\\in\\mathbb{R}^{5\\times 3}$, ${\\bf H}\\in\\mathbb{R}^{5\\times 3}$. Sử dụng hàm mất mát dạng:\n",
    "$$\\mathcal{L}({\\bf W},{\\bf H})=\\sum_{(u,i):x_{ui}\\neq 0}\\left(x_{ui}-\\sum^3_{j=1}w_{uj}h_{ij}\\right)^2$$"
   ]
  },
  {
   "cell_type": "code",
   "execution_count": 7,
   "metadata": {},
   "outputs": [],
   "source": [
    "\"\"\"\n",
    "@INPUT:\n",
    "    A     : a matrix to be factorized, dimension M x N\n",
    "    W     : an initial matrix of dimension M x K\n",
    "    H     : an initial matrix of dimension N x K\n",
    "    K     : the number of latent features\n",
    "    steps : the maximum number of steps to perform the optimisation\n",
    "    beta  : the learning rate\n",
    "@OUTPUT:\n",
    "    the final matrices W and H\n",
    "\"\"\"\n",
    "def matrix_factor(A, W, H, K, steps=5000, beta=0.0002):\n",
    "    H = H.T\n",
    "    for step in range(steps):\n",
    "        for i in range(len(A)):\n",
    "            for j in range(len(A[i])):\n",
    "                if A[i][j] > 0:\n",
    "                    eij = A[i][j] - np.dot(W[i,:],H[:,j])\n",
    "                    for k in range(K):\n",
    "                        W[i][k] = W[i][k] + beta*(2*eij*H[k][j])\n",
    "                        H[k][j] = H[k][j] + beta*(2*eij*W[i][k])\n",
    "        e = 0\n",
    "        for i in range(len(A)):\n",
    "            for j in range(len(A[i])):\n",
    "                if A[i][j] > 0:\n",
    "                    e = e + pow(A[i][j]-np.dot(W[i,:],H[:,j]), 2)\n",
    "        if e < 0.0001:\n",
    "            break\n",
    "    return W, H.T"
   ]
  },
  {
   "cell_type": "code",
   "execution_count": 8,
   "metadata": {},
   "outputs": [
    {
     "name": "stdout",
     "output_type": "stream",
     "text": [
      "[[ 1.44371222  0.91481176  0.88126081]\n",
      " [ 0.01805909  1.9757258   0.54572117]\n",
      " [ 2.06275049  0.36381973 -0.05872752]\n",
      " [ 0.91878058  0.89542962  1.57178731]\n",
      " [ 0.51445611  1.92454888  0.04241083]]\n",
      "[[0.91289898 0.84721535 0.73288541]\n",
      " [0.38913493 2.46231318 0.26939481]\n",
      " [0.34028997 0.80950886 0.65278059]\n",
      " [0.78128475 1.30529489 1.96426729]\n",
      " [2.34560862 0.37784288 0.39884399]]\n"
     ]
    },
    {
     "data": {
      "text/plain": [
       "array([[2.73886917, 3.05175901, 1.80709896, 4.05308125, 4.08352451],\n",
       "       [2.09030244, 5.01889756, 1.96174905, 3.66495633, 1.00653109],\n",
       "       [2.14827594, 1.6827055 , 0.95811242, 1.971131  , 4.95244891],\n",
       "       [2.74931557, 2.98578913, 2.06354227, 4.97403937, 3.12032928],\n",
       "       [2.1312361 , 4.95046019, 1.76068859, 2.99734675, 1.95080508]])"
      ]
     },
     "execution_count": 8,
     "metadata": {},
     "output_type": "execute_result"
    }
   ],
   "source": [
    "# Khởi tạo ma trận\n",
    "A = np.array([[3,3,0,4,4],\n",
    "              [0,5,2,0,1],\n",
    "              [2,0,1,2,5],\n",
    "              [0,3,2,5,0],\n",
    "              [2,5,0,3,2]])\n",
    "\n",
    "M = len(A)\n",
    "N = len(A[0])\n",
    "K = 3\n",
    "\n",
    "W = np.random.rand(M,K)\n",
    "H = np.random.rand(N,K)\n",
    "\n",
    "# Phân tích ma trận\n",
    "nW, nH = matrix_factor(A, W, H, K)\n",
    "print(nW)\n",
    "print(nH)\n",
    "np.dot(nW,nH.T)"
   ]
  }
 ],
 "metadata": {
  "kernelspec": {
   "display_name": "Python 3",
   "language": "python",
   "name": "python3"
  },
  "language_info": {
   "codemirror_mode": {
    "name": "ipython",
    "version": 3
   },
   "file_extension": ".py",
   "mimetype": "text/x-python",
   "name": "python",
   "nbconvert_exporter": "python",
   "pygments_lexer": "ipython3",
   "version": "3.8.8"
  }
 },
 "nbformat": 4,
 "nbformat_minor": 4
}
