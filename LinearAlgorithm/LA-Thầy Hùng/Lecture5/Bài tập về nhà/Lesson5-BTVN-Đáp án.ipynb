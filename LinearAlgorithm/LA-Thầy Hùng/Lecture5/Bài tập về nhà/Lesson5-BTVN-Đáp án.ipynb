{
 "cells": [
  {
   "cell_type": "markdown",
   "metadata": {},
   "source": [
    "# Bài tập về nhà 5\n",
    "### Môn: Linear Algebra"
   ]
  },
  {
   "cell_type": "code",
   "execution_count": 1,
   "metadata": {},
   "outputs": [],
   "source": [
    "import numpy as np"
   ]
  },
  {
   "cell_type": "markdown",
   "metadata": {},
   "source": [
    "### Bài tập 1\n",
    "Cho $U\\subset\\mathbb{R}^6$ và ${\\bf x}\\in\\mathbb{R}^5$ như sau:\n",
    "$$U=\\mathrm{span}\\left\\{\\left[\\begin{matrix}\n",
    "0 \\\\\n",
    "-1 \\\\\n",
    "2 \\\\\n",
    "0 \\\\\n",
    "2\n",
    "\\end{matrix}\\right],\\,\\left[\\begin{matrix}\n",
    "1 \\\\\n",
    "-3 \\\\\n",
    "1 \\\\\n",
    "-1 \\\\\n",
    "2\n",
    "\\end{matrix}\\right],\\,\\left[\\begin{matrix}\n",
    "-3 \\\\\n",
    "4 \\\\\n",
    "1 \\\\\n",
    "2 \\\\\n",
    "1\n",
    "\\end{matrix}\\right],\\,\\left[\\begin{matrix}\n",
    "-1 \\\\\n",
    "-3 \\\\\n",
    "5 \\\\\n",
    "0 \\\\\n",
    "7\n",
    "\\end{matrix}\\right]\\right\\},\\,{\\bf x}=\\left[\\begin{matrix}\n",
    "-1 \\\\\n",
    "-9 \\\\\n",
    "-1 \\\\\n",
    "4 \\\\\n",
    "1\n",
    "\\end{matrix}\\right]$$\n",
    "* Xác định hình chiếu trực giao của $\\bf x$ trên $U$.\n",
    "* Tính khoảng cách $d({\\bf x},U)$."
   ]
  },
  {
   "cell_type": "code",
   "execution_count": 5,
   "metadata": {},
   "outputs": [],
   "source": [
    "u1 = np.array([0,-1,2,0,2])\n",
    "u2 = np.array([1,-3,1,-1,2])\n",
    "u3 = np.array([-3,4,1,2,1])\n",
    "u4 = np.array([-1,-3,5,0,7])\n",
    "\n",
    "# Thủ tục Gram-Schmidt\n",
    "X = np.vstack([u1,u2,u3,u4])\n",
    "n = len(X)\n",
    "A = [X[0]]   # orthonormal set\n",
    "\n",
    "# Trực giao hóa\n",
    "for i in range(1,n):\n",
    "    u = X[i].copy()\n",
    "    for v in A:\n",
    "        if v.any()!=0:\n",
    "            u = np.around(u-(np.inner(u,v)/np.inner(v,v))*v,10)\n",
    "    if u.any()!=0:\n",
    "        A.append(u)\n",
    "\n",
    "# Trực chuẩn hóa\n",
    "for i in range(len(A)):\n",
    "    v = A[i]\n",
    "    A[i] = np.around(1/np.linalg.norm(v)*v,10)\n",
    "A=np.array(A)"
   ]
  },
  {
   "cell_type": "code",
   "execution_count": 6,
   "metadata": {},
   "outputs": [
    {
     "name": "stdout",
     "output_type": "stream",
     "text": [
      "Hình chiếu trực giao trên U: [ 1. -5. -1. -2.  3.]\n"
     ]
    }
   ],
   "source": [
    "x = np.array([-1,-9,-1,4,1])\n",
    "x_p = np.zeros(5)\n",
    "for v in A:\n",
    "    x_p +=np.dot(x,v)*v\n",
    "print(\"Hình chiếu trực giao trên U:\",x_p)"
   ]
  },
  {
   "cell_type": "code",
   "execution_count": 7,
   "metadata": {},
   "outputs": [
    {
     "name": "stdout",
     "output_type": "stream",
     "text": [
      "Khoảng cách từ x đến U: 7.745966692492293\n"
     ]
    }
   ],
   "source": [
    "print('Khoảng cách từ x đến U:',np.linalg.norm(x-x_p))"
   ]
  },
  {
   "cell_type": "markdown",
   "metadata": {},
   "source": [
    "### Bài tập 2\n",
    "Cho ma trận ${\\bf A}=\\left[\\begin{matrix}\n",
    "7 & -6 & -4 & 1\\\\\n",
    "-5 & 1 & 0 & -2\\\\\n",
    "10 & 11 & 7 & -3\\\\\n",
    "19 & 9 & 7 & 1\n",
    "\\end{matrix}\\right]$ và véc tơ \n",
    "${\\bf b}=\\left[\\begin{matrix}\n",
    "0.100\\\\\n",
    "2.888\\\\\n",
    "-1.404\\\\\n",
    "1.462\n",
    "\\end{matrix}\\right]$\n",
    "* Thực hiện phân tích QR cho ma trận ${\\bf A}$.\n",
    "* Tìm nghiệm bình phương cực tiểu của ${\\bf A}{\\bf x}={\\bf b}$ bằng phân tích QR."
   ]
  },
  {
   "cell_type": "code",
   "execution_count": 8,
   "metadata": {},
   "outputs": [
    {
     "name": "stdout",
     "output_type": "stream",
     "text": [
      "Ma trận A, Q, R theo thứ tự:\n",
      "[[ 7 -6 -4  1]\n",
      " [-5  1  0 -2]\n",
      " [10 11  7 -3]\n",
      " [19  9  7  1]]\n",
      "[[-0.30263639  0.77517596  0.55376724  0.02924522]\n",
      " [ 0.21616885 -0.27262274  0.45651534  0.81886606]\n",
      " [-0.4323377  -0.56683143  0.57814975 -0.39689936]\n",
      " [-0.82144163 -0.05900164 -0.38817324  0.41361092]]\n",
      "[[-2.31300670e+01 -1.01167022e+01 -7.56590977e+00 -2.59402621e-01]\n",
      " [ 0.00000000e+00 -1.16898390e+01 -7.48153535e+00  2.96191410e+00]\n",
      " [ 0.00000000e+00  0.00000000e+00 -8.85233376e-01 -2.48188591e+00]\n",
      " [ 0.00000000e+00  0.00000000e+00  0.00000000e+00 -4.17788805e-03]]\n"
     ]
    }
   ],
   "source": [
    "A=np.array([[7,-6,-4,1],[-5,1,0,-2],[10,11,7,-3],[19,9,7,1]])\n",
    "Q,R=np.linalg.qr(A)\n",
    "print(\"Ma trận A, Q, R theo thứ tự:\")\n",
    "print(A,Q,R,sep=\"\\n\")"
   ]
  },
  {
   "cell_type": "code",
   "execution_count": 9,
   "metadata": {},
   "outputs": [
    {
     "name": "stdout",
     "output_type": "stream",
     "text": [
      "Nghiệm bình phương cực tiểu: [   -8.642 -1730.054  2368.716  -844.866]\n"
     ]
    }
   ],
   "source": [
    "b=np.array([0.100,2.888,-1.404,1.462])\n",
    "print(\"Nghiệm bình phương cực tiểu:\",np.dot(np.dot(np.linalg.inv(R),Q.T),b))"
   ]
  }
 ],
 "metadata": {
  "kernelspec": {
   "display_name": "Python 3",
   "language": "python",
   "name": "python3"
  },
  "language_info": {
   "codemirror_mode": {
    "name": "ipython",
    "version": 3
   },
   "file_extension": ".py",
   "mimetype": "text/x-python",
   "name": "python",
   "nbconvert_exporter": "python",
   "pygments_lexer": "ipython3",
   "version": "3.8.8"
  }
 },
 "nbformat": 4,
 "nbformat_minor": 4
}
